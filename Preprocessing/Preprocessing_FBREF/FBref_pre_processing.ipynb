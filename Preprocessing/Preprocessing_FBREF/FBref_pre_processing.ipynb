{
  "nbformat": 4,
  "nbformat_minor": 0,
  "metadata": {
    "colab": {
      "provenance": []
    },
    "kernelspec": {
      "name": "python3",
      "display_name": "Python 3"
    },
    "language_info": {
      "name": "python"
    }
  },
  "cells": [
    {
      "cell_type": "code",
      "source": [
        "import pandas as pd"
      ],
      "metadata": {
        "id": "of5SychY2r6b"
      },
      "execution_count": 2,
      "outputs": []
    },
    {
      "cell_type": "code",
      "source": [
        "from google.colab import drive\n",
        "drive.mount('/content/drive')"
      ],
      "metadata": {
        "colab": {
          "base_uri": "https://localhost:8080/"
        },
        "id": "rnb0aV8O3FAg",
        "outputId": "9e6f3598-1e9b-46ce-9467-d0a99297b428"
      },
      "execution_count": 3,
      "outputs": [
        {
          "output_type": "stream",
          "name": "stdout",
          "text": [
            "Mounted at /content/drive\n"
          ]
        }
      ]
    },
    {
      "cell_type": "markdown",
      "source": [
        "# import de fichier csv après scrapping FBref\n"
      ],
      "metadata": {
        "id": "7FEotCQGAXai"
      }
    },
    {
      "cell_type": "markdown",
      "source": [
        "## standard"
      ],
      "metadata": {
        "id": "Zkfl20EiBCrt"
      }
    },
    {
      "cell_type": "code",
      "execution_count": 79,
      "metadata": {
        "colab": {
          "base_uri": "https://localhost:8080/",
          "height": 658
        },
        "id": "4i4D0Aru0jIN",
        "outputId": "7aafbb70-51d1-4c85-9fb7-5d164eee38c7"
      },
      "outputs": [
        {
          "output_type": "execute_result",
          "data": {
            "text/plain": [
              "          Team            Player Nation Position   Age    Born  MP  Starts  \\\n",
              "0       Alavés    Adrián Diéguez    ESP       DF  21.0  1996.0   6       6   \n",
              "1       Alavés  Aleksandar Katai    SRB    MF,DF  26.0  1991.0   3       0   \n",
              "2       Alavés            Alexis    ESP       DF  31.0  1985.0  28      25   \n",
              "3       Alavés   Alfonso Pedraza    ESP    MF,DF  21.0  1996.0  33      27   \n",
              "4       Alavés    Antonio Sivera    ESP       GK  20.0  1996.0   1       1   \n",
              "...        ...               ...    ...      ...   ...     ...  ..     ...   \n",
              "10974  Venezia     Sergio Romero    ARG       GK  34.0  1987.0  16      16   \n",
              "10975  Venezia     Sofian Kiyine    MAR    MF,FW  23.0  1997.0  26      14   \n",
              "10976  Venezia   Tanner Tessmann    USA       MF  19.0  2001.0  20       6   \n",
              "10977  Venezia      Thomas Henry    FRA       FW  26.0  1994.0  33      23   \n",
              "10978  Venezia    Tyronne Ebuehi    NGA       DF  25.0  1995.0  19      12   \n",
              "\n",
              "        Min   90s  ...  G+A.1  G-PK.1  G+A-PK  xG.1  xAG.1  xG+xAG  npxG.1  \\\n",
              "0       435   4.8  ...   0.00    0.00    0.00  0.02   0.00    0.02    0.02   \n",
              "1        55   0.6  ...   0.00    0.00    0.00  0.12   0.00    0.12    0.12   \n",
              "2      2184  24.3  ...   0.04    0.04    0.04  0.05   0.01    0.06    0.05   \n",
              "3      2440  27.1  ...   0.30    0.11    0.30  0.10   0.14    0.25    0.10   \n",
              "4        62   0.7  ...   0.00    0.00    0.00  0.00   0.00    0.00    0.00   \n",
              "...     ...   ...  ...    ...     ...     ...   ...    ...     ...     ...   \n",
              "10974  1440  16.0  ...   0.00    0.00    0.00  0.00   0.00    0.00    0.00   \n",
              "10975  1239  13.8  ...   0.07    0.07    0.07  0.11   0.15    0.26    0.04   \n",
              "10976   680   7.6  ...   0.00    0.00    0.00  0.09   0.02    0.10    0.09   \n",
              "10977  2115  23.5  ...   0.47    0.38    0.47  0.29   0.16    0.45    0.29   \n",
              "10978  1138  12.6  ...   0.00    0.00    0.00  0.05   0.03    0.08    0.05   \n",
              "\n",
              "       npxG+xAG.1   League     Saison  \n",
              "0            0.02  La Liga  2017-2018  \n",
              "1            0.12  La Liga  2017-2018  \n",
              "2            0.06  La Liga  2017-2018  \n",
              "3            0.25  La Liga  2017-2018  \n",
              "4            0.00  La Liga  2017-2018  \n",
              "...           ...      ...        ...  \n",
              "10974        0.00  Serie A  2021-2022  \n",
              "10975        0.19  Serie A  2021-2022  \n",
              "10976        0.10  Serie A  2021-2022  \n",
              "10977        0.45  Serie A  2021-2022  \n",
              "10978        0.08  Serie A  2021-2022  \n",
              "\n",
              "[10979 rows x 37 columns]"
            ],
            "text/html": [
              "\n",
              "  <div id=\"df-d2ef24e6-9d4c-411d-8a0d-51b3b6705201\">\n",
              "    <div class=\"colab-df-container\">\n",
              "      <div>\n",
              "<style scoped>\n",
              "    .dataframe tbody tr th:only-of-type {\n",
              "        vertical-align: middle;\n",
              "    }\n",
              "\n",
              "    .dataframe tbody tr th {\n",
              "        vertical-align: top;\n",
              "    }\n",
              "\n",
              "    .dataframe thead th {\n",
              "        text-align: right;\n",
              "    }\n",
              "</style>\n",
              "<table border=\"1\" class=\"dataframe\">\n",
              "  <thead>\n",
              "    <tr style=\"text-align: right;\">\n",
              "      <th></th>\n",
              "      <th>Team</th>\n",
              "      <th>Player</th>\n",
              "      <th>Nation</th>\n",
              "      <th>Position</th>\n",
              "      <th>Age</th>\n",
              "      <th>Born</th>\n",
              "      <th>MP</th>\n",
              "      <th>Starts</th>\n",
              "      <th>Min</th>\n",
              "      <th>90s</th>\n",
              "      <th>...</th>\n",
              "      <th>G+A.1</th>\n",
              "      <th>G-PK.1</th>\n",
              "      <th>G+A-PK</th>\n",
              "      <th>xG.1</th>\n",
              "      <th>xAG.1</th>\n",
              "      <th>xG+xAG</th>\n",
              "      <th>npxG.1</th>\n",
              "      <th>npxG+xAG.1</th>\n",
              "      <th>League</th>\n",
              "      <th>Saison</th>\n",
              "    </tr>\n",
              "  </thead>\n",
              "  <tbody>\n",
              "    <tr>\n",
              "      <th>0</th>\n",
              "      <td>Alavés</td>\n",
              "      <td>Adrián Diéguez</td>\n",
              "      <td>ESP</td>\n",
              "      <td>DF</td>\n",
              "      <td>21.0</td>\n",
              "      <td>1996.0</td>\n",
              "      <td>6</td>\n",
              "      <td>6</td>\n",
              "      <td>435</td>\n",
              "      <td>4.8</td>\n",
              "      <td>...</td>\n",
              "      <td>0.00</td>\n",
              "      <td>0.00</td>\n",
              "      <td>0.00</td>\n",
              "      <td>0.02</td>\n",
              "      <td>0.00</td>\n",
              "      <td>0.02</td>\n",
              "      <td>0.02</td>\n",
              "      <td>0.02</td>\n",
              "      <td>La Liga</td>\n",
              "      <td>2017-2018</td>\n",
              "    </tr>\n",
              "    <tr>\n",
              "      <th>1</th>\n",
              "      <td>Alavés</td>\n",
              "      <td>Aleksandar Katai</td>\n",
              "      <td>SRB</td>\n",
              "      <td>MF,DF</td>\n",
              "      <td>26.0</td>\n",
              "      <td>1991.0</td>\n",
              "      <td>3</td>\n",
              "      <td>0</td>\n",
              "      <td>55</td>\n",
              "      <td>0.6</td>\n",
              "      <td>...</td>\n",
              "      <td>0.00</td>\n",
              "      <td>0.00</td>\n",
              "      <td>0.00</td>\n",
              "      <td>0.12</td>\n",
              "      <td>0.00</td>\n",
              "      <td>0.12</td>\n",
              "      <td>0.12</td>\n",
              "      <td>0.12</td>\n",
              "      <td>La Liga</td>\n",
              "      <td>2017-2018</td>\n",
              "    </tr>\n",
              "    <tr>\n",
              "      <th>2</th>\n",
              "      <td>Alavés</td>\n",
              "      <td>Alexis</td>\n",
              "      <td>ESP</td>\n",
              "      <td>DF</td>\n",
              "      <td>31.0</td>\n",
              "      <td>1985.0</td>\n",
              "      <td>28</td>\n",
              "      <td>25</td>\n",
              "      <td>2184</td>\n",
              "      <td>24.3</td>\n",
              "      <td>...</td>\n",
              "      <td>0.04</td>\n",
              "      <td>0.04</td>\n",
              "      <td>0.04</td>\n",
              "      <td>0.05</td>\n",
              "      <td>0.01</td>\n",
              "      <td>0.06</td>\n",
              "      <td>0.05</td>\n",
              "      <td>0.06</td>\n",
              "      <td>La Liga</td>\n",
              "      <td>2017-2018</td>\n",
              "    </tr>\n",
              "    <tr>\n",
              "      <th>3</th>\n",
              "      <td>Alavés</td>\n",
              "      <td>Alfonso Pedraza</td>\n",
              "      <td>ESP</td>\n",
              "      <td>MF,DF</td>\n",
              "      <td>21.0</td>\n",
              "      <td>1996.0</td>\n",
              "      <td>33</td>\n",
              "      <td>27</td>\n",
              "      <td>2440</td>\n",
              "      <td>27.1</td>\n",
              "      <td>...</td>\n",
              "      <td>0.30</td>\n",
              "      <td>0.11</td>\n",
              "      <td>0.30</td>\n",
              "      <td>0.10</td>\n",
              "      <td>0.14</td>\n",
              "      <td>0.25</td>\n",
              "      <td>0.10</td>\n",
              "      <td>0.25</td>\n",
              "      <td>La Liga</td>\n",
              "      <td>2017-2018</td>\n",
              "    </tr>\n",
              "    <tr>\n",
              "      <th>4</th>\n",
              "      <td>Alavés</td>\n",
              "      <td>Antonio Sivera</td>\n",
              "      <td>ESP</td>\n",
              "      <td>GK</td>\n",
              "      <td>20.0</td>\n",
              "      <td>1996.0</td>\n",
              "      <td>1</td>\n",
              "      <td>1</td>\n",
              "      <td>62</td>\n",
              "      <td>0.7</td>\n",
              "      <td>...</td>\n",
              "      <td>0.00</td>\n",
              "      <td>0.00</td>\n",
              "      <td>0.00</td>\n",
              "      <td>0.00</td>\n",
              "      <td>0.00</td>\n",
              "      <td>0.00</td>\n",
              "      <td>0.00</td>\n",
              "      <td>0.00</td>\n",
              "      <td>La Liga</td>\n",
              "      <td>2017-2018</td>\n",
              "    </tr>\n",
              "    <tr>\n",
              "      <th>...</th>\n",
              "      <td>...</td>\n",
              "      <td>...</td>\n",
              "      <td>...</td>\n",
              "      <td>...</td>\n",
              "      <td>...</td>\n",
              "      <td>...</td>\n",
              "      <td>...</td>\n",
              "      <td>...</td>\n",
              "      <td>...</td>\n",
              "      <td>...</td>\n",
              "      <td>...</td>\n",
              "      <td>...</td>\n",
              "      <td>...</td>\n",
              "      <td>...</td>\n",
              "      <td>...</td>\n",
              "      <td>...</td>\n",
              "      <td>...</td>\n",
              "      <td>...</td>\n",
              "      <td>...</td>\n",
              "      <td>...</td>\n",
              "      <td>...</td>\n",
              "    </tr>\n",
              "    <tr>\n",
              "      <th>10974</th>\n",
              "      <td>Venezia</td>\n",
              "      <td>Sergio Romero</td>\n",
              "      <td>ARG</td>\n",
              "      <td>GK</td>\n",
              "      <td>34.0</td>\n",
              "      <td>1987.0</td>\n",
              "      <td>16</td>\n",
              "      <td>16</td>\n",
              "      <td>1440</td>\n",
              "      <td>16.0</td>\n",
              "      <td>...</td>\n",
              "      <td>0.00</td>\n",
              "      <td>0.00</td>\n",
              "      <td>0.00</td>\n",
              "      <td>0.00</td>\n",
              "      <td>0.00</td>\n",
              "      <td>0.00</td>\n",
              "      <td>0.00</td>\n",
              "      <td>0.00</td>\n",
              "      <td>Serie A</td>\n",
              "      <td>2021-2022</td>\n",
              "    </tr>\n",
              "    <tr>\n",
              "      <th>10975</th>\n",
              "      <td>Venezia</td>\n",
              "      <td>Sofian Kiyine</td>\n",
              "      <td>MAR</td>\n",
              "      <td>MF,FW</td>\n",
              "      <td>23.0</td>\n",
              "      <td>1997.0</td>\n",
              "      <td>26</td>\n",
              "      <td>14</td>\n",
              "      <td>1239</td>\n",
              "      <td>13.8</td>\n",
              "      <td>...</td>\n",
              "      <td>0.07</td>\n",
              "      <td>0.07</td>\n",
              "      <td>0.07</td>\n",
              "      <td>0.11</td>\n",
              "      <td>0.15</td>\n",
              "      <td>0.26</td>\n",
              "      <td>0.04</td>\n",
              "      <td>0.19</td>\n",
              "      <td>Serie A</td>\n",
              "      <td>2021-2022</td>\n",
              "    </tr>\n",
              "    <tr>\n",
              "      <th>10976</th>\n",
              "      <td>Venezia</td>\n",
              "      <td>Tanner Tessmann</td>\n",
              "      <td>USA</td>\n",
              "      <td>MF</td>\n",
              "      <td>19.0</td>\n",
              "      <td>2001.0</td>\n",
              "      <td>20</td>\n",
              "      <td>6</td>\n",
              "      <td>680</td>\n",
              "      <td>7.6</td>\n",
              "      <td>...</td>\n",
              "      <td>0.00</td>\n",
              "      <td>0.00</td>\n",
              "      <td>0.00</td>\n",
              "      <td>0.09</td>\n",
              "      <td>0.02</td>\n",
              "      <td>0.10</td>\n",
              "      <td>0.09</td>\n",
              "      <td>0.10</td>\n",
              "      <td>Serie A</td>\n",
              "      <td>2021-2022</td>\n",
              "    </tr>\n",
              "    <tr>\n",
              "      <th>10977</th>\n",
              "      <td>Venezia</td>\n",
              "      <td>Thomas Henry</td>\n",
              "      <td>FRA</td>\n",
              "      <td>FW</td>\n",
              "      <td>26.0</td>\n",
              "      <td>1994.0</td>\n",
              "      <td>33</td>\n",
              "      <td>23</td>\n",
              "      <td>2115</td>\n",
              "      <td>23.5</td>\n",
              "      <td>...</td>\n",
              "      <td>0.47</td>\n",
              "      <td>0.38</td>\n",
              "      <td>0.47</td>\n",
              "      <td>0.29</td>\n",
              "      <td>0.16</td>\n",
              "      <td>0.45</td>\n",
              "      <td>0.29</td>\n",
              "      <td>0.45</td>\n",
              "      <td>Serie A</td>\n",
              "      <td>2021-2022</td>\n",
              "    </tr>\n",
              "    <tr>\n",
              "      <th>10978</th>\n",
              "      <td>Venezia</td>\n",
              "      <td>Tyronne Ebuehi</td>\n",
              "      <td>NGA</td>\n",
              "      <td>DF</td>\n",
              "      <td>25.0</td>\n",
              "      <td>1995.0</td>\n",
              "      <td>19</td>\n",
              "      <td>12</td>\n",
              "      <td>1138</td>\n",
              "      <td>12.6</td>\n",
              "      <td>...</td>\n",
              "      <td>0.00</td>\n",
              "      <td>0.00</td>\n",
              "      <td>0.00</td>\n",
              "      <td>0.05</td>\n",
              "      <td>0.03</td>\n",
              "      <td>0.08</td>\n",
              "      <td>0.05</td>\n",
              "      <td>0.08</td>\n",
              "      <td>Serie A</td>\n",
              "      <td>2021-2022</td>\n",
              "    </tr>\n",
              "  </tbody>\n",
              "</table>\n",
              "<p>10979 rows × 37 columns</p>\n",
              "</div>\n",
              "      <button class=\"colab-df-convert\" onclick=\"convertToInteractive('df-d2ef24e6-9d4c-411d-8a0d-51b3b6705201')\"\n",
              "              title=\"Convert this dataframe to an interactive table.\"\n",
              "              style=\"display:none;\">\n",
              "        \n",
              "  <svg xmlns=\"http://www.w3.org/2000/svg\" height=\"24px\"viewBox=\"0 0 24 24\"\n",
              "       width=\"24px\">\n",
              "    <path d=\"M0 0h24v24H0V0z\" fill=\"none\"/>\n",
              "    <path d=\"M18.56 5.44l.94 2.06.94-2.06 2.06-.94-2.06-.94-.94-2.06-.94 2.06-2.06.94zm-11 1L8.5 8.5l.94-2.06 2.06-.94-2.06-.94L8.5 2.5l-.94 2.06-2.06.94zm10 10l.94 2.06.94-2.06 2.06-.94-2.06-.94-.94-2.06-.94 2.06-2.06.94z\"/><path d=\"M17.41 7.96l-1.37-1.37c-.4-.4-.92-.59-1.43-.59-.52 0-1.04.2-1.43.59L10.3 9.45l-7.72 7.72c-.78.78-.78 2.05 0 2.83L4 21.41c.39.39.9.59 1.41.59.51 0 1.02-.2 1.41-.59l7.78-7.78 2.81-2.81c.8-.78.8-2.07 0-2.86zM5.41 20L4 18.59l7.72-7.72 1.47 1.35L5.41 20z\"/>\n",
              "  </svg>\n",
              "      </button>\n",
              "      \n",
              "  <style>\n",
              "    .colab-df-container {\n",
              "      display:flex;\n",
              "      flex-wrap:wrap;\n",
              "      gap: 12px;\n",
              "    }\n",
              "\n",
              "    .colab-df-convert {\n",
              "      background-color: #E8F0FE;\n",
              "      border: none;\n",
              "      border-radius: 50%;\n",
              "      cursor: pointer;\n",
              "      display: none;\n",
              "      fill: #1967D2;\n",
              "      height: 32px;\n",
              "      padding: 0 0 0 0;\n",
              "      width: 32px;\n",
              "    }\n",
              "\n",
              "    .colab-df-convert:hover {\n",
              "      background-color: #E2EBFA;\n",
              "      box-shadow: 0px 1px 2px rgba(60, 64, 67, 0.3), 0px 1px 3px 1px rgba(60, 64, 67, 0.15);\n",
              "      fill: #174EA6;\n",
              "    }\n",
              "\n",
              "    [theme=dark] .colab-df-convert {\n",
              "      background-color: #3B4455;\n",
              "      fill: #D2E3FC;\n",
              "    }\n",
              "\n",
              "    [theme=dark] .colab-df-convert:hover {\n",
              "      background-color: #434B5C;\n",
              "      box-shadow: 0px 1px 3px 1px rgba(0, 0, 0, 0.15);\n",
              "      filter: drop-shadow(0px 1px 2px rgba(0, 0, 0, 0.3));\n",
              "      fill: #FFFFFF;\n",
              "    }\n",
              "  </style>\n",
              "\n",
              "      <script>\n",
              "        const buttonEl =\n",
              "          document.querySelector('#df-d2ef24e6-9d4c-411d-8a0d-51b3b6705201 button.colab-df-convert');\n",
              "        buttonEl.style.display =\n",
              "          google.colab.kernel.accessAllowed ? 'block' : 'none';\n",
              "\n",
              "        async function convertToInteractive(key) {\n",
              "          const element = document.querySelector('#df-d2ef24e6-9d4c-411d-8a0d-51b3b6705201');\n",
              "          const dataTable =\n",
              "            await google.colab.kernel.invokeFunction('convertToInteractive',\n",
              "                                                     [key], {});\n",
              "          if (!dataTable) return;\n",
              "\n",
              "          const docLinkHtml = 'Like what you see? Visit the ' +\n",
              "            '<a target=\"_blank\" href=https://colab.research.google.com/notebooks/data_table.ipynb>data table notebook</a>'\n",
              "            + ' to learn more about interactive tables.';\n",
              "          element.innerHTML = '';\n",
              "          dataTable['output_type'] = 'display_data';\n",
              "          await google.colab.output.renderOutput(dataTable, element);\n",
              "          const docLink = document.createElement('div');\n",
              "          docLink.innerHTML = docLinkHtml;\n",
              "          element.appendChild(docLink);\n",
              "        }\n",
              "      </script>\n",
              "    </div>\n",
              "  </div>\n",
              "  "
            ]
          },
          "metadata": {},
          "execution_count": 79
        }
      ],
      "source": [
        "#import csv league qui contient tous les information provenant de FBref standard et cleaning du header\n",
        "leagues = pd.read_csv(\"/content/drive/MyDrive/footdata/leagues.csv\", header=1)\n",
        "leagues = leagues.rename(columns={'Unnamed: 0': 'Team', 'Unnamed: 1': 'Player', 'Unnamed: 2': 'Nation', 'Unnamed: 3': 'Position', 'Unnamed: 4': 'Age', 'Unnamed: 5': 'Born', 'Unnamed: 35': 'League', 'Unnamed: 36': 'Saison'})\n",
        "leagues"
      ]
    },
    {
      "cell_type": "code",
      "source": [
        "leagues.info()"
      ],
      "metadata": {
        "colab": {
          "base_uri": "https://localhost:8080/"
        },
        "id": "JioSlNjy2Knv",
        "outputId": "74489a80-d154-41ff-dc07-0cbbb3f365dc"
      },
      "execution_count": 80,
      "outputs": [
        {
          "output_type": "stream",
          "name": "stdout",
          "text": [
            "<class 'pandas.core.frame.DataFrame'>\n",
            "RangeIndex: 10979 entries, 0 to 10978\n",
            "Data columns (total 37 columns):\n",
            " #   Column      Non-Null Count  Dtype  \n",
            "---  ------      --------------  -----  \n",
            " 0   Team        10979 non-null  object \n",
            " 1   Player      10979 non-null  object \n",
            " 2   Nation      10978 non-null  object \n",
            " 3   Position    10977 non-null  object \n",
            " 4   Age         10978 non-null  float64\n",
            " 5   Born        10978 non-null  float64\n",
            " 6   MP          10979 non-null  int64  \n",
            " 7   Starts      10979 non-null  int64  \n",
            " 8   Min         10979 non-null  int64  \n",
            " 9   90s         10979 non-null  float64\n",
            " 10  Gls         10979 non-null  int64  \n",
            " 11  Ast         10979 non-null  int64  \n",
            " 12  G+A         10979 non-null  int64  \n",
            " 13  G-PK        10979 non-null  int64  \n",
            " 14  PK          10979 non-null  int64  \n",
            " 15  PKatt       10979 non-null  int64  \n",
            " 16  CrdY        10979 non-null  int64  \n",
            " 17  CrdR        10979 non-null  int64  \n",
            " 18  xG          10968 non-null  float64\n",
            " 19  npxG        10968 non-null  float64\n",
            " 20  xAG         10968 non-null  float64\n",
            " 21  npxG+xAG    10968 non-null  float64\n",
            " 22  PrgC        10968 non-null  float64\n",
            " 23  PrgP        10968 non-null  float64\n",
            " 24  PrgR        10968 non-null  float64\n",
            " 25  Gls.1       10979 non-null  float64\n",
            " 26  Ast.1       10979 non-null  float64\n",
            " 27  G+A.1       10979 non-null  float64\n",
            " 28  G-PK.1      10979 non-null  float64\n",
            " 29  G+A-PK      10979 non-null  float64\n",
            " 30  xG.1        10967 non-null  float64\n",
            " 31  xAG.1       10967 non-null  float64\n",
            " 32  xG+xAG      10967 non-null  float64\n",
            " 33  npxG.1      10967 non-null  float64\n",
            " 34  npxG+xAG.1  10967 non-null  float64\n",
            " 35  League      10979 non-null  object \n",
            " 36  Saison      10979 non-null  object \n",
            "dtypes: float64(20), int64(11), object(6)\n",
            "memory usage: 3.1+ MB\n"
          ]
        }
      ]
    },
    {
      "cell_type": "code",
      "source": [
        "leagues.to_csv(\"/content/drive/MyDrive/footdata/FBREF_dataset_conca.csv\")"
      ],
      "metadata": {
        "id": "7ReuctXu2OoN"
      },
      "execution_count": 81,
      "outputs": []
    },
    {
      "cell_type": "markdown",
      "source": [
        "## passing"
      ],
      "metadata": {
        "id": "hYdn_GJuBHAm"
      }
    },
    {
      "cell_type": "code",
      "source": [
        "passing = pd.read_csv(\"/content/drive/MyDrive/footdata/passing.csv\", header=1)\n",
        "# Liste des nouveaux noms de colonnes\n",
        "new_column_names = ['Team','Player', 'Nation', 'Pos', 'Age', 'Born', '90s', 'Cmp', 'Att', 'Cmp%', 'TotDist', 'PrgDist',\n",
        "                \t'Cmp.1', 'Att.1', 'Cmp%.1', 'Cmp.2', 'Att.2', 'Cmp%.2', 'Cmp.3', 'Att.3', 'Cmp%.3',\n",
        "                \t'Ast', 'xAG', 'xA', 'A-xAG', 'KP', '1/3', 'PPA', 'CrsPA', 'PrgP','League','Saison']\n",
        "\n",
        "# Renommer les colonnes\n",
        "passing.columns = new_column_names\n",
        "passing\n",
        "passing.to_csv(\"/content/drive/MyDrive/footdata/FBREF_dataset_conca_passing.csv\", index=False)"
      ],
      "metadata": {
        "id": "2FdxCiS8OkbJ"
      },
      "execution_count": 61,
      "outputs": []
    },
    {
      "cell_type": "markdown",
      "source": [
        "## shooting"
      ],
      "metadata": {
        "id": "emV0JRliBh6t"
      }
    },
    {
      "cell_type": "code",
      "source": [
        "shooting = pd.read_csv(\"/content/drive/MyDrive/footdata/shooting.csv\", header=1)\n",
        "new_column_names = ['Team', 'Player', 'Nationnalite', 'Position', 'Age', 'Born', '90s', 'Gls', 'Sh', 'SoT', 'SoT%', 'Sh/90', 'SoT/90', 'G/Sh', 'G/SoT', 'Dist', 'FK', 'PK', 'PKatt', 'xG', 'npxG', 'npxG/Sh', 'G-xG', 'np:G-xG','League','Saison']\n",
        "# Renommer les colonnes\n",
        "shooting.columns = new_column_names\n",
        "shooting.to_csv(\"/content/drive/MyDrive/footdata/FBREF_dataset_conca_shooting.csv\", index=False)\n"
      ],
      "metadata": {
        "id": "lQ_v69WpBkX7"
      },
      "execution_count": 75,
      "outputs": []
    },
    {
      "cell_type": "markdown",
      "source": [
        "## Keeper"
      ],
      "metadata": {
        "id": "QmwqgEVqJgQd"
      }
    },
    {
      "cell_type": "code",
      "source": [
        "keeper = pd.read_csv(\"/content/drive/MyDrive/footdata/keeper.csv\",header=1)\n",
        "keeper = keeper.drop(0, axis=0)\n",
        "keeper = keeper.rename(columns={'Unnamed: 0': 'Team', 'Unnamed: 1': 'Player', 'Unnamed: 2': 'Nation', 'Unnamed: 3': 'Position', 'Unnamed: 4': 'Age', 'Unnamed: 5': 'Born', 'Unnamed: 25': 'League', 'Unnamed: 26': 'Saison'})\n",
        "keeper.to_csv(\"/content/drive/MyDrive/footdata/FBREF_dataset_conca_keeper.csv\", index=False)"
      ],
      "metadata": {
        "id": "U3x-GONoJjNW"
      },
      "execution_count": 57,
      "outputs": []
    },
    {
      "cell_type": "markdown",
      "source": [
        "## defense"
      ],
      "metadata": {
        "id": "Nvyxy73UTwRB"
      }
    },
    {
      "cell_type": "code",
      "source": [
        "defense = pd.read_csv(\"/content/drive/MyDrive/footdata/defense.csv\", header=1)\n",
        "new_column_names = ['Team', 'Player', 'Nation', 'Pos', 'Age', 'Born', '90s', 'Tkl', 'TklW', 'Def 3rd', 'Mid 3rd', 'Att 3rd','Tkl', 'Att', 'Tkl%', 'Lost', 'Blocks', 'Sh', 'Pass', 'Int', 'Tkl+Int', 'Clr', 'Err', 'League', 'Saison']\n",
        "# Renommer les colonnes\n",
        "defense.columns = new_column_names\n",
        "defense.to_csv(\"/content/drive/MyDrive/footdata/FBREF_dataset_conca_defense.csv\", index=False)\n",
        "\n"
      ],
      "metadata": {
        "id": "PwSIGvuTUJSD"
      },
      "execution_count": 82,
      "outputs": []
    },
    {
      "cell_type": "markdown",
      "source": [
        "# Pre processing\n"
      ],
      "metadata": {
        "id": "26slJMxSAuD5"
      }
    },
    {
      "cell_type": "markdown",
      "source": [
        "## CLeaningheader and droping irrelevant columns"
      ],
      "metadata": {
        "id": "EpwJspUZA15I"
      }
    },
    {
      "cell_type": "code",
      "source": [
        "#import FBREF_dataset_conca new header\n",
        "FBREF_dataset_conca = pd.read_csv(\"/content/drive/MyDrive/footdata/FBREF_dataset_conca.csv\")\n",
        "FBREF_dataset_conca\n",
        "FBREF_dataset_conca.info()"
      ],
      "metadata": {
        "colab": {
          "base_uri": "https://localhost:8080/"
        },
        "id": "XKfRvJrT4rC5",
        "outputId": "227c453f-dba8-4718-88ce-5f52c45c77ef"
      },
      "execution_count": 19,
      "outputs": [
        {
          "output_type": "stream",
          "name": "stdout",
          "text": [
            "<class 'pandas.core.frame.DataFrame'>\n",
            "RangeIndex: 10979 entries, 0 to 10978\n",
            "Data columns (total 38 columns):\n",
            " #   Column      Non-Null Count  Dtype  \n",
            "---  ------      --------------  -----  \n",
            " 0   Unnamed: 0  10979 non-null  int64  \n",
            " 1   Team        10979 non-null  object \n",
            " 2   Player      10979 non-null  object \n",
            " 3   Nation      10978 non-null  object \n",
            " 4   Position    10977 non-null  object \n",
            " 5   Age         10978 non-null  float64\n",
            " 6   Born        10978 non-null  float64\n",
            " 7   MP          10979 non-null  int64  \n",
            " 8   Starts      10979 non-null  int64  \n",
            " 9   Min         10979 non-null  int64  \n",
            " 10  90s         10979 non-null  float64\n",
            " 11  Gls         10979 non-null  int64  \n",
            " 12  Ast         10979 non-null  int64  \n",
            " 13  G+A         10979 non-null  int64  \n",
            " 14  G-PK        10979 non-null  int64  \n",
            " 15  PK          10979 non-null  int64  \n",
            " 16  PKatt       10979 non-null  int64  \n",
            " 17  CrdY        10979 non-null  int64  \n",
            " 18  CrdR        10979 non-null  int64  \n",
            " 19  xG          10968 non-null  float64\n",
            " 20  npxG        10968 non-null  float64\n",
            " 21  xAG         10968 non-null  float64\n",
            " 22  npxG+xAG    10968 non-null  float64\n",
            " 23  PrgC        10968 non-null  float64\n",
            " 24  PrgP        10968 non-null  float64\n",
            " 25  PrgR        10968 non-null  float64\n",
            " 26  Gls.1       10979 non-null  float64\n",
            " 27  Ast.1       10979 non-null  float64\n",
            " 28  G+A.1       10979 non-null  float64\n",
            " 29  G-PK.1      10979 non-null  float64\n",
            " 30  G+A-PK      10979 non-null  float64\n",
            " 31  xG.1        10967 non-null  float64\n",
            " 32  xAG.1       10967 non-null  float64\n",
            " 33  xG+xAG      10967 non-null  float64\n",
            " 34  npxG.1      10967 non-null  float64\n",
            " 35  npxG+xAG.1  10967 non-null  float64\n",
            " 36  League      10979 non-null  object \n",
            " 37  Saison      10979 non-null  object \n",
            "dtypes: float64(20), int64(12), object(6)\n",
            "memory usage: 3.2+ MB\n"
          ]
        }
      ]
    },
    {
      "cell_type": "code",
      "source": [
        "FBREF_dataset_conca['Position'].unique()"
      ],
      "metadata": {
        "colab": {
          "base_uri": "https://localhost:8080/"
        },
        "id": "iaOvaaUn5cBf",
        "outputId": "56ac28f0-96f7-4b43-cb6a-ed3887aa3dd5"
      },
      "execution_count": 20,
      "outputs": [
        {
          "output_type": "execute_result",
          "data": {
            "text/plain": [
              "array(['DF', 'MF,DF', 'GK', 'FW,MF', 'MF,FW', 'FW', 'MF', 'DF,FW',\n",
              "       'DF,MF', 'FW,DF', nan], dtype=object)"
            ]
          },
          "metadata": {},
          "execution_count": 20
        }
      ]
    },
    {
      "cell_type": "code",
      "source": [
        "FBREF_dataset_conca['Position'].isna().sum()"
      ],
      "metadata": {
        "colab": {
          "base_uri": "https://localhost:8080/"
        },
        "id": "Z0eYpWrc55ne",
        "outputId": "1c00106d-833f-4d9c-eaea-2ed090c318f6"
      },
      "execution_count": 21,
      "outputs": [
        {
          "output_type": "execute_result",
          "data": {
            "text/plain": [
              "2"
            ]
          },
          "metadata": {},
          "execution_count": 21
        }
      ]
    },
    {
      "cell_type": "code",
      "source": [
        "#on supprime les deux joueurs sans position\n",
        "FBREF_dataset_conca = FBREF_dataset_conca.dropna(subset=['Position'])"
      ],
      "metadata": {
        "id": "fd7MM4JY9Dmc"
      },
      "execution_count": 22,
      "outputs": []
    },
    {
      "cell_type": "code",
      "source": [
        "FBREF_dataset_conca.shape[0]"
      ],
      "metadata": {
        "colab": {
          "base_uri": "https://localhost:8080/"
        },
        "id": "Vh8kn4Js92yW",
        "outputId": "03203106-9376-4f30-832f-1c96d463f0bf"
      },
      "execution_count": 23,
      "outputs": [
        {
          "output_type": "execute_result",
          "data": {
            "text/plain": [
              "10977"
            ]
          },
          "metadata": {},
          "execution_count": 23
        }
      ]
    },
    {
      "cell_type": "code",
      "source": [
        "#cleaning des descriptif de position\n",
        "FBREF_dataset_conca['Position'].replace(['MF'], 'Midfielder', regex=False, inplace=True)\n",
        "FBREF_dataset_conca['Position'].replace(['FW'], 'Forward', regex=False, inplace=True)\n",
        "FBREF_dataset_conca['Position'].replace(['DF'], 'Defender', regex=False, inplace=True)\n",
        "FBREF_dataset_conca['Position'].replace(['GK'], 'Goalkeeper', regex=False, inplace=True)\n",
        "FBREF_dataset_conca['Position'].replace(['MF,FW'], 'Midfielder, Forward', regex=False, inplace=True)\n",
        "FBREF_dataset_conca['Position'].replace(['MF,DF'], 'Midfielder, Defender', regex=False, inplace=True)\n",
        "FBREF_dataset_conca['Position'].replace(['DF,FW'], 'Defender, Forward', regex=False, inplace=True)\n",
        "FBREF_dataset_conca['Position'].replace(['DF,MF'], 'Defender, Midfielder', regex=False, inplace=True)\n",
        "FBREF_dataset_conca['Position'].replace(['FW,DF'], 'Forward, Defender', regex=False, inplace=True)\n",
        "FBREF_dataset_conca['Position'].replace(['FW,MF'], 'Forward, Midfielder', regex=False, inplace=True)"
      ],
      "metadata": {
        "id": "_Lem18Fu499U"
      },
      "execution_count": 24,
      "outputs": []
    },
    {
      "cell_type": "code",
      "source": [
        "#on supprime le column avec des information non relevant pour notre appli \n",
        "FBREF_dataset_conca_standard = FBREF_dataset_conca.drop(columns=['Min','xG','npxG+xAG','G+A.1','G-PK.1','G+A-PK','xG.1','xG+xAG','npxG+xAG.1'])\n"
      ],
      "metadata": {
        "id": "1deW9vgLBMoL"
      },
      "execution_count": 25,
      "outputs": []
    },
    {
      "cell_type": "code",
      "source": [
        "FBREF_dataset_conca_standard.info()"
      ],
      "metadata": {
        "colab": {
          "base_uri": "https://localhost:8080/"
        },
        "id": "hB2GNTIbyCt7",
        "outputId": "689abc5c-12b1-4748-c827-5a192fda6b0a"
      },
      "execution_count": 26,
      "outputs": [
        {
          "output_type": "stream",
          "name": "stdout",
          "text": [
            "<class 'pandas.core.frame.DataFrame'>\n",
            "Int64Index: 10977 entries, 0 to 10978\n",
            "Data columns (total 29 columns):\n",
            " #   Column      Non-Null Count  Dtype  \n",
            "---  ------      --------------  -----  \n",
            " 0   Unnamed: 0  10977 non-null  int64  \n",
            " 1   Team        10977 non-null  object \n",
            " 2   Player      10977 non-null  object \n",
            " 3   Nation      10977 non-null  object \n",
            " 4   Position    10977 non-null  object \n",
            " 5   Age         10977 non-null  float64\n",
            " 6   Born        10977 non-null  float64\n",
            " 7   MP          10977 non-null  int64  \n",
            " 8   Starts      10977 non-null  int64  \n",
            " 9   90s         10977 non-null  float64\n",
            " 10  Gls         10977 non-null  int64  \n",
            " 11  Ast         10977 non-null  int64  \n",
            " 12  G+A         10977 non-null  int64  \n",
            " 13  G-PK        10977 non-null  int64  \n",
            " 14  PK          10977 non-null  int64  \n",
            " 15  PKatt       10977 non-null  int64  \n",
            " 16  CrdY        10977 non-null  int64  \n",
            " 17  CrdR        10977 non-null  int64  \n",
            " 18  npxG        10968 non-null  float64\n",
            " 19  xAG         10968 non-null  float64\n",
            " 20  PrgC        10968 non-null  float64\n",
            " 21  PrgP        10968 non-null  float64\n",
            " 22  PrgR        10968 non-null  float64\n",
            " 23  Gls.1       10977 non-null  float64\n",
            " 24  Ast.1       10977 non-null  float64\n",
            " 25  xAG.1       10967 non-null  float64\n",
            " 26  npxG.1      10967 non-null  float64\n",
            " 27  League      10977 non-null  object \n",
            " 28  Saison      10977 non-null  object \n",
            "dtypes: float64(12), int64(11), object(6)\n",
            "memory usage: 2.5+ MB\n"
          ]
        }
      ]
    },
    {
      "cell_type": "code",
      "source": [
        "FBREF_dataset_conca_standard.rename(columns={'MP': 'Match played', 'Starts': 'Starting Player', '90s': 'avg playing time per game', 'Gls': 'Goals', 'Ast': 'Assists', 'G+A': 'Goals&Assists', 'G-PK': 'Goals-penalty', 'PK': 'penalty', 'PKatt': 'penalty attempted' , 'CrdY': 'yellow card', 'CrdR': 'red card', 'npxG': 'expected goal without penalty', 'xAG': 'expected assists goal', 'PrgC': 'progressive ball carrie', 'PrgP': 'Progressive passes', 'PrgR': 'progressive passes received', 'Gls.1': 'goals per 90min', 'Ast.1': 'assist per 90min', 'xAG': 'expected assists', 'xAG.1': 'expected assists per 90min', 'npxG.1': 'expected goal per90 without penalty'})"
      ],
      "metadata": {
        "colab": {
          "base_uri": "https://localhost:8080/",
          "height": 730
        },
        "id": "E112oKCT0zEH",
        "outputId": "752ca7b5-d57a-4fe5-e8dd-89014a524701"
      },
      "execution_count": 27,
      "outputs": [
        {
          "output_type": "execute_result",
          "data": {
            "text/plain": [
              "       Unnamed: 0     Team            Player Nation              Position  \\\n",
              "0               0   Alavés    Adrián Diéguez    ESP              Defender   \n",
              "1               1   Alavés  Aleksandar Katai    SRB  Midfielder, Defender   \n",
              "2               2   Alavés            Alexis    ESP              Defender   \n",
              "3               3   Alavés   Alfonso Pedraza    ESP  Midfielder, Defender   \n",
              "4               4   Alavés    Antonio Sivera    ESP            Goalkeeper   \n",
              "...           ...      ...               ...    ...                   ...   \n",
              "10974       10974  Venezia     Sergio Romero    ARG            Goalkeeper   \n",
              "10975       10975  Venezia     Sofian Kiyine    MAR   Midfielder, Forward   \n",
              "10976       10976  Venezia   Tanner Tessmann    USA            Midfielder   \n",
              "10977       10977  Venezia      Thomas Henry    FRA               Forward   \n",
              "10978       10978  Venezia    Tyronne Ebuehi    NGA              Defender   \n",
              "\n",
              "        Age    Born  Match played  Starting Player  avg playing time per game  \\\n",
              "0      21.0  1996.0             6                6                        4.8   \n",
              "1      26.0  1991.0             3                0                        0.6   \n",
              "2      31.0  1985.0            28               25                       24.3   \n",
              "3      21.0  1996.0            33               27                       27.1   \n",
              "4      20.0  1996.0             1                1                        0.7   \n",
              "...     ...     ...           ...              ...                        ...   \n",
              "10974  34.0  1987.0            16               16                       16.0   \n",
              "10975  23.0  1997.0            26               14                       13.8   \n",
              "10976  19.0  2001.0            20                6                        7.6   \n",
              "10977  26.0  1994.0            33               23                       23.5   \n",
              "10978  25.0  1995.0            19               12                       12.6   \n",
              "\n",
              "       ...  expected assists  progressive ball carrie  Progressive passes  \\\n",
              "0      ...               0.0                     10.0                11.0   \n",
              "1      ...               0.0                      2.0                 2.0   \n",
              "2      ...               0.3                      5.0                34.0   \n",
              "3      ...               3.9                    104.0                69.0   \n",
              "4      ...               0.0                      0.0                 0.0   \n",
              "...    ...               ...                      ...                 ...   \n",
              "10974  ...               0.0                      0.0                 1.0   \n",
              "10975  ...               2.0                     48.0                62.0   \n",
              "10976  ...               0.1                     12.0                23.0   \n",
              "10977  ...               3.8                     20.0                31.0   \n",
              "10978  ...               0.4                     29.0                29.0   \n",
              "\n",
              "       progressive passes received  goals per 90min  assist per 90min  \\\n",
              "0                              3.0             0.00              0.00   \n",
              "1                              4.0             0.00              0.00   \n",
              "2                             11.0             0.04              0.00   \n",
              "3                            148.0             0.11              0.18   \n",
              "4                              0.0             0.00              0.00   \n",
              "...                            ...              ...               ...   \n",
              "10974                          0.0             0.00              0.00   \n",
              "10975                         44.0             0.07              0.00   \n",
              "10976                         18.0             0.00              0.00   \n",
              "10977                         99.0             0.38              0.09   \n",
              "10978                         52.0             0.00              0.00   \n",
              "\n",
              "       expected assists per 90min  expected goal per90 without penalty  \\\n",
              "0                            0.00                                 0.02   \n",
              "1                            0.00                                 0.12   \n",
              "2                            0.01                                 0.05   \n",
              "3                            0.14                                 0.10   \n",
              "4                            0.00                                 0.00   \n",
              "...                           ...                                  ...   \n",
              "10974                        0.00                                 0.00   \n",
              "10975                        0.15                                 0.04   \n",
              "10976                        0.02                                 0.09   \n",
              "10977                        0.16                                 0.29   \n",
              "10978                        0.03                                 0.05   \n",
              "\n",
              "        League     Saison  \n",
              "0      La Liga  2017-2018  \n",
              "1      La Liga  2017-2018  \n",
              "2      La Liga  2017-2018  \n",
              "3      La Liga  2017-2018  \n",
              "4      La Liga  2017-2018  \n",
              "...        ...        ...  \n",
              "10974  Serie A  2021-2022  \n",
              "10975  Serie A  2021-2022  \n",
              "10976  Serie A  2021-2022  \n",
              "10977  Serie A  2021-2022  \n",
              "10978  Serie A  2021-2022  \n",
              "\n",
              "[10977 rows x 29 columns]"
            ],
            "text/html": [
              "\n",
              "  <div id=\"df-803fd0bd-8451-43b4-bb15-433ed15c4bf1\">\n",
              "    <div class=\"colab-df-container\">\n",
              "      <div>\n",
              "<style scoped>\n",
              "    .dataframe tbody tr th:only-of-type {\n",
              "        vertical-align: middle;\n",
              "    }\n",
              "\n",
              "    .dataframe tbody tr th {\n",
              "        vertical-align: top;\n",
              "    }\n",
              "\n",
              "    .dataframe thead th {\n",
              "        text-align: right;\n",
              "    }\n",
              "</style>\n",
              "<table border=\"1\" class=\"dataframe\">\n",
              "  <thead>\n",
              "    <tr style=\"text-align: right;\">\n",
              "      <th></th>\n",
              "      <th>Unnamed: 0</th>\n",
              "      <th>Team</th>\n",
              "      <th>Player</th>\n",
              "      <th>Nation</th>\n",
              "      <th>Position</th>\n",
              "      <th>Age</th>\n",
              "      <th>Born</th>\n",
              "      <th>Match played</th>\n",
              "      <th>Starting Player</th>\n",
              "      <th>avg playing time per game</th>\n",
              "      <th>...</th>\n",
              "      <th>expected assists</th>\n",
              "      <th>progressive ball carrie</th>\n",
              "      <th>Progressive passes</th>\n",
              "      <th>progressive passes received</th>\n",
              "      <th>goals per 90min</th>\n",
              "      <th>assist per 90min</th>\n",
              "      <th>expected assists per 90min</th>\n",
              "      <th>expected goal per90 without penalty</th>\n",
              "      <th>League</th>\n",
              "      <th>Saison</th>\n",
              "    </tr>\n",
              "  </thead>\n",
              "  <tbody>\n",
              "    <tr>\n",
              "      <th>0</th>\n",
              "      <td>0</td>\n",
              "      <td>Alavés</td>\n",
              "      <td>Adrián Diéguez</td>\n",
              "      <td>ESP</td>\n",
              "      <td>Defender</td>\n",
              "      <td>21.0</td>\n",
              "      <td>1996.0</td>\n",
              "      <td>6</td>\n",
              "      <td>6</td>\n",
              "      <td>4.8</td>\n",
              "      <td>...</td>\n",
              "      <td>0.0</td>\n",
              "      <td>10.0</td>\n",
              "      <td>11.0</td>\n",
              "      <td>3.0</td>\n",
              "      <td>0.00</td>\n",
              "      <td>0.00</td>\n",
              "      <td>0.00</td>\n",
              "      <td>0.02</td>\n",
              "      <td>La Liga</td>\n",
              "      <td>2017-2018</td>\n",
              "    </tr>\n",
              "    <tr>\n",
              "      <th>1</th>\n",
              "      <td>1</td>\n",
              "      <td>Alavés</td>\n",
              "      <td>Aleksandar Katai</td>\n",
              "      <td>SRB</td>\n",
              "      <td>Midfielder, Defender</td>\n",
              "      <td>26.0</td>\n",
              "      <td>1991.0</td>\n",
              "      <td>3</td>\n",
              "      <td>0</td>\n",
              "      <td>0.6</td>\n",
              "      <td>...</td>\n",
              "      <td>0.0</td>\n",
              "      <td>2.0</td>\n",
              "      <td>2.0</td>\n",
              "      <td>4.0</td>\n",
              "      <td>0.00</td>\n",
              "      <td>0.00</td>\n",
              "      <td>0.00</td>\n",
              "      <td>0.12</td>\n",
              "      <td>La Liga</td>\n",
              "      <td>2017-2018</td>\n",
              "    </tr>\n",
              "    <tr>\n",
              "      <th>2</th>\n",
              "      <td>2</td>\n",
              "      <td>Alavés</td>\n",
              "      <td>Alexis</td>\n",
              "      <td>ESP</td>\n",
              "      <td>Defender</td>\n",
              "      <td>31.0</td>\n",
              "      <td>1985.0</td>\n",
              "      <td>28</td>\n",
              "      <td>25</td>\n",
              "      <td>24.3</td>\n",
              "      <td>...</td>\n",
              "      <td>0.3</td>\n",
              "      <td>5.0</td>\n",
              "      <td>34.0</td>\n",
              "      <td>11.0</td>\n",
              "      <td>0.04</td>\n",
              "      <td>0.00</td>\n",
              "      <td>0.01</td>\n",
              "      <td>0.05</td>\n",
              "      <td>La Liga</td>\n",
              "      <td>2017-2018</td>\n",
              "    </tr>\n",
              "    <tr>\n",
              "      <th>3</th>\n",
              "      <td>3</td>\n",
              "      <td>Alavés</td>\n",
              "      <td>Alfonso Pedraza</td>\n",
              "      <td>ESP</td>\n",
              "      <td>Midfielder, Defender</td>\n",
              "      <td>21.0</td>\n",
              "      <td>1996.0</td>\n",
              "      <td>33</td>\n",
              "      <td>27</td>\n",
              "      <td>27.1</td>\n",
              "      <td>...</td>\n",
              "      <td>3.9</td>\n",
              "      <td>104.0</td>\n",
              "      <td>69.0</td>\n",
              "      <td>148.0</td>\n",
              "      <td>0.11</td>\n",
              "      <td>0.18</td>\n",
              "      <td>0.14</td>\n",
              "      <td>0.10</td>\n",
              "      <td>La Liga</td>\n",
              "      <td>2017-2018</td>\n",
              "    </tr>\n",
              "    <tr>\n",
              "      <th>4</th>\n",
              "      <td>4</td>\n",
              "      <td>Alavés</td>\n",
              "      <td>Antonio Sivera</td>\n",
              "      <td>ESP</td>\n",
              "      <td>Goalkeeper</td>\n",
              "      <td>20.0</td>\n",
              "      <td>1996.0</td>\n",
              "      <td>1</td>\n",
              "      <td>1</td>\n",
              "      <td>0.7</td>\n",
              "      <td>...</td>\n",
              "      <td>0.0</td>\n",
              "      <td>0.0</td>\n",
              "      <td>0.0</td>\n",
              "      <td>0.0</td>\n",
              "      <td>0.00</td>\n",
              "      <td>0.00</td>\n",
              "      <td>0.00</td>\n",
              "      <td>0.00</td>\n",
              "      <td>La Liga</td>\n",
              "      <td>2017-2018</td>\n",
              "    </tr>\n",
              "    <tr>\n",
              "      <th>...</th>\n",
              "      <td>...</td>\n",
              "      <td>...</td>\n",
              "      <td>...</td>\n",
              "      <td>...</td>\n",
              "      <td>...</td>\n",
              "      <td>...</td>\n",
              "      <td>...</td>\n",
              "      <td>...</td>\n",
              "      <td>...</td>\n",
              "      <td>...</td>\n",
              "      <td>...</td>\n",
              "      <td>...</td>\n",
              "      <td>...</td>\n",
              "      <td>...</td>\n",
              "      <td>...</td>\n",
              "      <td>...</td>\n",
              "      <td>...</td>\n",
              "      <td>...</td>\n",
              "      <td>...</td>\n",
              "      <td>...</td>\n",
              "      <td>...</td>\n",
              "    </tr>\n",
              "    <tr>\n",
              "      <th>10974</th>\n",
              "      <td>10974</td>\n",
              "      <td>Venezia</td>\n",
              "      <td>Sergio Romero</td>\n",
              "      <td>ARG</td>\n",
              "      <td>Goalkeeper</td>\n",
              "      <td>34.0</td>\n",
              "      <td>1987.0</td>\n",
              "      <td>16</td>\n",
              "      <td>16</td>\n",
              "      <td>16.0</td>\n",
              "      <td>...</td>\n",
              "      <td>0.0</td>\n",
              "      <td>0.0</td>\n",
              "      <td>1.0</td>\n",
              "      <td>0.0</td>\n",
              "      <td>0.00</td>\n",
              "      <td>0.00</td>\n",
              "      <td>0.00</td>\n",
              "      <td>0.00</td>\n",
              "      <td>Serie A</td>\n",
              "      <td>2021-2022</td>\n",
              "    </tr>\n",
              "    <tr>\n",
              "      <th>10975</th>\n",
              "      <td>10975</td>\n",
              "      <td>Venezia</td>\n",
              "      <td>Sofian Kiyine</td>\n",
              "      <td>MAR</td>\n",
              "      <td>Midfielder, Forward</td>\n",
              "      <td>23.0</td>\n",
              "      <td>1997.0</td>\n",
              "      <td>26</td>\n",
              "      <td>14</td>\n",
              "      <td>13.8</td>\n",
              "      <td>...</td>\n",
              "      <td>2.0</td>\n",
              "      <td>48.0</td>\n",
              "      <td>62.0</td>\n",
              "      <td>44.0</td>\n",
              "      <td>0.07</td>\n",
              "      <td>0.00</td>\n",
              "      <td>0.15</td>\n",
              "      <td>0.04</td>\n",
              "      <td>Serie A</td>\n",
              "      <td>2021-2022</td>\n",
              "    </tr>\n",
              "    <tr>\n",
              "      <th>10976</th>\n",
              "      <td>10976</td>\n",
              "      <td>Venezia</td>\n",
              "      <td>Tanner Tessmann</td>\n",
              "      <td>USA</td>\n",
              "      <td>Midfielder</td>\n",
              "      <td>19.0</td>\n",
              "      <td>2001.0</td>\n",
              "      <td>20</td>\n",
              "      <td>6</td>\n",
              "      <td>7.6</td>\n",
              "      <td>...</td>\n",
              "      <td>0.1</td>\n",
              "      <td>12.0</td>\n",
              "      <td>23.0</td>\n",
              "      <td>18.0</td>\n",
              "      <td>0.00</td>\n",
              "      <td>0.00</td>\n",
              "      <td>0.02</td>\n",
              "      <td>0.09</td>\n",
              "      <td>Serie A</td>\n",
              "      <td>2021-2022</td>\n",
              "    </tr>\n",
              "    <tr>\n",
              "      <th>10977</th>\n",
              "      <td>10977</td>\n",
              "      <td>Venezia</td>\n",
              "      <td>Thomas Henry</td>\n",
              "      <td>FRA</td>\n",
              "      <td>Forward</td>\n",
              "      <td>26.0</td>\n",
              "      <td>1994.0</td>\n",
              "      <td>33</td>\n",
              "      <td>23</td>\n",
              "      <td>23.5</td>\n",
              "      <td>...</td>\n",
              "      <td>3.8</td>\n",
              "      <td>20.0</td>\n",
              "      <td>31.0</td>\n",
              "      <td>99.0</td>\n",
              "      <td>0.38</td>\n",
              "      <td>0.09</td>\n",
              "      <td>0.16</td>\n",
              "      <td>0.29</td>\n",
              "      <td>Serie A</td>\n",
              "      <td>2021-2022</td>\n",
              "    </tr>\n",
              "    <tr>\n",
              "      <th>10978</th>\n",
              "      <td>10978</td>\n",
              "      <td>Venezia</td>\n",
              "      <td>Tyronne Ebuehi</td>\n",
              "      <td>NGA</td>\n",
              "      <td>Defender</td>\n",
              "      <td>25.0</td>\n",
              "      <td>1995.0</td>\n",
              "      <td>19</td>\n",
              "      <td>12</td>\n",
              "      <td>12.6</td>\n",
              "      <td>...</td>\n",
              "      <td>0.4</td>\n",
              "      <td>29.0</td>\n",
              "      <td>29.0</td>\n",
              "      <td>52.0</td>\n",
              "      <td>0.00</td>\n",
              "      <td>0.00</td>\n",
              "      <td>0.03</td>\n",
              "      <td>0.05</td>\n",
              "      <td>Serie A</td>\n",
              "      <td>2021-2022</td>\n",
              "    </tr>\n",
              "  </tbody>\n",
              "</table>\n",
              "<p>10977 rows × 29 columns</p>\n",
              "</div>\n",
              "      <button class=\"colab-df-convert\" onclick=\"convertToInteractive('df-803fd0bd-8451-43b4-bb15-433ed15c4bf1')\"\n",
              "              title=\"Convert this dataframe to an interactive table.\"\n",
              "              style=\"display:none;\">\n",
              "        \n",
              "  <svg xmlns=\"http://www.w3.org/2000/svg\" height=\"24px\"viewBox=\"0 0 24 24\"\n",
              "       width=\"24px\">\n",
              "    <path d=\"M0 0h24v24H0V0z\" fill=\"none\"/>\n",
              "    <path d=\"M18.56 5.44l.94 2.06.94-2.06 2.06-.94-2.06-.94-.94-2.06-.94 2.06-2.06.94zm-11 1L8.5 8.5l.94-2.06 2.06-.94-2.06-.94L8.5 2.5l-.94 2.06-2.06.94zm10 10l.94 2.06.94-2.06 2.06-.94-2.06-.94-.94-2.06-.94 2.06-2.06.94z\"/><path d=\"M17.41 7.96l-1.37-1.37c-.4-.4-.92-.59-1.43-.59-.52 0-1.04.2-1.43.59L10.3 9.45l-7.72 7.72c-.78.78-.78 2.05 0 2.83L4 21.41c.39.39.9.59 1.41.59.51 0 1.02-.2 1.41-.59l7.78-7.78 2.81-2.81c.8-.78.8-2.07 0-2.86zM5.41 20L4 18.59l7.72-7.72 1.47 1.35L5.41 20z\"/>\n",
              "  </svg>\n",
              "      </button>\n",
              "      \n",
              "  <style>\n",
              "    .colab-df-container {\n",
              "      display:flex;\n",
              "      flex-wrap:wrap;\n",
              "      gap: 12px;\n",
              "    }\n",
              "\n",
              "    .colab-df-convert {\n",
              "      background-color: #E8F0FE;\n",
              "      border: none;\n",
              "      border-radius: 50%;\n",
              "      cursor: pointer;\n",
              "      display: none;\n",
              "      fill: #1967D2;\n",
              "      height: 32px;\n",
              "      padding: 0 0 0 0;\n",
              "      width: 32px;\n",
              "    }\n",
              "\n",
              "    .colab-df-convert:hover {\n",
              "      background-color: #E2EBFA;\n",
              "      box-shadow: 0px 1px 2px rgba(60, 64, 67, 0.3), 0px 1px 3px 1px rgba(60, 64, 67, 0.15);\n",
              "      fill: #174EA6;\n",
              "    }\n",
              "\n",
              "    [theme=dark] .colab-df-convert {\n",
              "      background-color: #3B4455;\n",
              "      fill: #D2E3FC;\n",
              "    }\n",
              "\n",
              "    [theme=dark] .colab-df-convert:hover {\n",
              "      background-color: #434B5C;\n",
              "      box-shadow: 0px 1px 3px 1px rgba(0, 0, 0, 0.15);\n",
              "      filter: drop-shadow(0px 1px 2px rgba(0, 0, 0, 0.3));\n",
              "      fill: #FFFFFF;\n",
              "    }\n",
              "  </style>\n",
              "\n",
              "      <script>\n",
              "        const buttonEl =\n",
              "          document.querySelector('#df-803fd0bd-8451-43b4-bb15-433ed15c4bf1 button.colab-df-convert');\n",
              "        buttonEl.style.display =\n",
              "          google.colab.kernel.accessAllowed ? 'block' : 'none';\n",
              "\n",
              "        async function convertToInteractive(key) {\n",
              "          const element = document.querySelector('#df-803fd0bd-8451-43b4-bb15-433ed15c4bf1');\n",
              "          const dataTable =\n",
              "            await google.colab.kernel.invokeFunction('convertToInteractive',\n",
              "                                                     [key], {});\n",
              "          if (!dataTable) return;\n",
              "\n",
              "          const docLinkHtml = 'Like what you see? Visit the ' +\n",
              "            '<a target=\"_blank\" href=https://colab.research.google.com/notebooks/data_table.ipynb>data table notebook</a>'\n",
              "            + ' to learn more about interactive tables.';\n",
              "          element.innerHTML = '';\n",
              "          dataTable['output_type'] = 'display_data';\n",
              "          await google.colab.output.renderOutput(dataTable, element);\n",
              "          const docLink = document.createElement('div');\n",
              "          docLink.innerHTML = docLinkHtml;\n",
              "          element.appendChild(docLink);\n",
              "        }\n",
              "      </script>\n",
              "    </div>\n",
              "  </div>\n",
              "  "
            ]
          },
          "metadata": {},
          "execution_count": 27
        }
      ]
    },
    {
      "cell_type": "code",
      "source": [
        "FBREF_dataset_conca_standard.to_csv(\"/content/drive/MyDrive/footdata/FBREF_dataset_conca_standard.csv\")"
      ],
      "metadata": {
        "id": "FLjEmBAX-wcS"
      },
      "execution_count": 28,
      "outputs": []
    },
    {
      "cell_type": "markdown",
      "source": [
        "## keeper"
      ],
      "metadata": {
        "id": "dhv1pssRN5II"
      }
    },
    {
      "cell_type": "code",
      "source": [
        "FBREF_dataset_conca_keeper = pd.read_csv(\"/content/drive/MyDrive/footdata/FBREF_dataset_conca_keeper.csv\")\n",
        "FBREF_dataset_conca_keeper.info()"
      ],
      "metadata": {
        "colab": {
          "base_uri": "https://localhost:8080/"
        },
        "id": "r6TM2zfoNwZP",
        "outputId": "eab847c4-a505-43fc-937b-81855f70dd19"
      },
      "execution_count": 59,
      "outputs": [
        {
          "output_type": "stream",
          "name": "stdout",
          "text": [
            "<class 'pandas.core.frame.DataFrame'>\n",
            "RangeIndex: 838 entries, 0 to 837\n",
            "Data columns (total 27 columns):\n",
            " #   Column    Non-Null Count  Dtype  \n",
            "---  ------    --------------  -----  \n",
            " 0   Team      838 non-null    object \n",
            " 1   Player    838 non-null    object \n",
            " 2   Nation    838 non-null    object \n",
            " 3   Position  838 non-null    object \n",
            " 4   Age       838 non-null    int64  \n",
            " 5   Born      838 non-null    int64  \n",
            " 6   MP        838 non-null    int64  \n",
            " 7   Starts    838 non-null    int64  \n",
            " 8   Min       835 non-null    float64\n",
            " 9   90s       838 non-null    float64\n",
            " 10  GA        835 non-null    float64\n",
            " 11  GA90      833 non-null    float64\n",
            " 12  SoTA      836 non-null    float64\n",
            " 13  Saves     836 non-null    float64\n",
            " 14  Save%     823 non-null    float64\n",
            " 15  W         833 non-null    float64\n",
            " 16  D         834 non-null    float64\n",
            " 17  L         837 non-null    float64\n",
            " 18  CS        833 non-null    float64\n",
            " 19  CS%       800 non-null    float64\n",
            " 20  PKatt     833 non-null    float64\n",
            " 21  PKA       834 non-null    float64\n",
            " 22  PKsv      833 non-null    float64\n",
            " 23  PKm       833 non-null    float64\n",
            " 24  Save%.1   584 non-null    float64\n",
            " 25  League    838 non-null    object \n",
            " 26  Saison    838 non-null    object \n",
            "dtypes: float64(17), int64(4), object(6)\n",
            "memory usage: 176.9+ KB\n"
          ]
        }
      ]
    },
    {
      "cell_type": "code",
      "source": [
        "FBREF_dataset_conca_keeper.rename(columns={'MP': 'Match played', 'Starts': 'Starting Player', '90s': 'avg playing time per game', 'Gls': 'Goals', 'Ast': 'Assists', 'G+A': 'Goals&Assists', 'G-PK': 'Goals-penalty', 'PK': 'penalty', 'PKatt': 'penalty attempted' , 'CrdY': 'yellow card', 'CrdR': 'red card', 'npxG': 'expected goal without penalty', 'xAG': 'expected assists goal', 'PrgC': 'progressive ball carrie', 'PrgP': 'Progressive passes', 'PrgR': 'progressive passes received', 'Gls.1': 'goals per 90min', 'Ast.1': 'assist per 90min', 'xAG': 'expected assists', 'xAG.1': 'expected assists per 90min', 'npxG.1': 'expected goal per90 without penalty'})"
      ],
      "metadata": {
        "id": "e9uVdptKOGb6"
      },
      "execution_count": null,
      "outputs": []
    },
    {
      "cell_type": "markdown",
      "source": [
        "## passing"
      ],
      "metadata": {
        "id": "GiV2Oz2sPaLV"
      }
    },
    {
      "cell_type": "code",
      "source": [
        "FBREF_dataset_conca_passing = pd.read_csv(\"/content/drive/MyDrive/footdata/FBREF_dataset_conca_passing.csv\")\n",
        "FBREF_dataset_conca_passing.info()"
      ],
      "metadata": {
        "colab": {
          "base_uri": "https://localhost:8080/"
        },
        "id": "LcB8v95qPdZt",
        "outputId": "cb405474-cde0-4a74-82f9-d89c4f26c1f6"
      },
      "execution_count": 70,
      "outputs": [
        {
          "output_type": "stream",
          "name": "stdout",
          "text": [
            "<class 'pandas.core.frame.DataFrame'>\n",
            "RangeIndex: 10979 entries, 0 to 10978\n",
            "Data columns (total 32 columns):\n",
            " #   Column   Non-Null Count  Dtype  \n",
            "---  ------   --------------  -----  \n",
            " 0   Team     10979 non-null  object \n",
            " 1   Player   10979 non-null  object \n",
            " 2   Nation   10978 non-null  object \n",
            " 3   Pos      10977 non-null  object \n",
            " 4   Age      10978 non-null  float64\n",
            " 5   Born     10978 non-null  float64\n",
            " 6   90s      10979 non-null  float64\n",
            " 7   Cmp      10968 non-null  float64\n",
            " 8   Att      10968 non-null  float64\n",
            " 9   Cmp%     10911 non-null  float64\n",
            " 10  TotDist  10968 non-null  float64\n",
            " 11  PrgDist  10968 non-null  float64\n",
            " 12  Cmp.1    10968 non-null  float64\n",
            " 13  Att.1    10968 non-null  float64\n",
            " 14  Cmp%.1   10809 non-null  float64\n",
            " 15  Cmp.2    10968 non-null  float64\n",
            " 16  Att.2    10968 non-null  float64\n",
            " 17  Cmp%.2   10742 non-null  float64\n",
            " 18  Cmp.3    10968 non-null  float64\n",
            " 19  Att.3    10968 non-null  float64\n",
            " 20  Cmp%.3   10374 non-null  float64\n",
            " 21  Ast      10979 non-null  int64  \n",
            " 22  xAG      10968 non-null  float64\n",
            " 23  xA       10968 non-null  float64\n",
            " 24  A-xAG    10968 non-null  float64\n",
            " 25  KP       10968 non-null  float64\n",
            " 26  1/3      10968 non-null  float64\n",
            " 27  PPA      10968 non-null  float64\n",
            " 28  CrsPA    10968 non-null  float64\n",
            " 29  PrgP     10968 non-null  float64\n",
            " 30  League   10979 non-null  object \n",
            " 31  Saison   10979 non-null  object \n",
            "dtypes: float64(25), int64(1), object(6)\n",
            "memory usage: 2.7+ MB\n"
          ]
        }
      ]
    },
    {
      "cell_type": "code",
      "source": [
        "FBREF_dataset_conca_passing = FBREF_dataset_conca_passing.drop(columns=['Cmp','Att','TotDist','PrgDist','Cmp.1','Att.1','Cmp.2','Att.2','Cmp.3' ,'Att.3','xAG','1/3'])\n",
        "FBREF_dataset_conca_passing.info()"
      ],
      "metadata": {
        "colab": {
          "base_uri": "https://localhost:8080/"
        },
        "id": "ZFykOmE-Ptci",
        "outputId": "f379bc49-5ea0-471e-dc74-4542b1da06b8"
      },
      "execution_count": 71,
      "outputs": [
        {
          "output_type": "stream",
          "name": "stdout",
          "text": [
            "<class 'pandas.core.frame.DataFrame'>\n",
            "RangeIndex: 10979 entries, 0 to 10978\n",
            "Data columns (total 20 columns):\n",
            " #   Column  Non-Null Count  Dtype  \n",
            "---  ------  --------------  -----  \n",
            " 0   Team    10979 non-null  object \n",
            " 1   Player  10979 non-null  object \n",
            " 2   Nation  10978 non-null  object \n",
            " 3   Pos     10977 non-null  object \n",
            " 4   Age     10978 non-null  float64\n",
            " 5   Born    10978 non-null  float64\n",
            " 6   90s     10979 non-null  float64\n",
            " 7   Cmp%    10911 non-null  float64\n",
            " 8   Cmp%.1  10809 non-null  float64\n",
            " 9   Cmp%.2  10742 non-null  float64\n",
            " 10  Cmp%.3  10374 non-null  float64\n",
            " 11  Ast     10979 non-null  int64  \n",
            " 12  xA      10968 non-null  float64\n",
            " 13  A-xAG   10968 non-null  float64\n",
            " 14  KP      10968 non-null  float64\n",
            " 15  PPA     10968 non-null  float64\n",
            " 16  CrsPA   10968 non-null  float64\n",
            " 17  PrgP    10968 non-null  float64\n",
            " 18  League  10979 non-null  object \n",
            " 19  Saison  10979 non-null  object \n",
            "dtypes: float64(13), int64(1), object(6)\n",
            "memory usage: 1.7+ MB\n"
          ]
        }
      ]
    },
    {
      "cell_type": "markdown",
      "source": [
        "## shooting"
      ],
      "metadata": {
        "id": "LJkp3NYxSwbY"
      }
    },
    {
      "cell_type": "code",
      "source": [
        "FBREF_dataset_conca_defense = pd.read_csv(\"/content/drive/MyDrive/footdata/FBREF_dataset_conca_defense.csv\")\n",
        "FBREF_dataset_conca_defense.info()"
      ],
      "metadata": {
        "colab": {
          "base_uri": "https://localhost:8080/"
        },
        "id": "tushspvvS0Hj",
        "outputId": "dc9758ad-32a9-4107-bc49-ac7d6a55a59a"
      },
      "execution_count": 83,
      "outputs": [
        {
          "output_type": "stream",
          "name": "stdout",
          "text": [
            "<class 'pandas.core.frame.DataFrame'>\n",
            "RangeIndex: 10979 entries, 0 to 10978\n",
            "Data columns (total 25 columns):\n",
            " #   Column   Non-Null Count  Dtype  \n",
            "---  ------   --------------  -----  \n",
            " 0   Team     10979 non-null  object \n",
            " 1   Player   10979 non-null  object \n",
            " 2   Nation   10978 non-null  object \n",
            " 3   Pos      10977 non-null  object \n",
            " 4   Age      10978 non-null  float64\n",
            " 5   Born     10978 non-null  float64\n",
            " 6   90s      10979 non-null  float64\n",
            " 7   Tkl      10968 non-null  float64\n",
            " 8   TklW     10976 non-null  float64\n",
            " 9   Def 3rd  10968 non-null  float64\n",
            " 10  Mid 3rd  10968 non-null  float64\n",
            " 11  Att 3rd  10968 non-null  float64\n",
            " 12  Tkl.1    10968 non-null  float64\n",
            " 13  Att      10968 non-null  float64\n",
            " 14  Tkl%     9759 non-null   float64\n",
            " 15  Lost     10968 non-null  float64\n",
            " 16  Blocks   10968 non-null  float64\n",
            " 17  Sh       10968 non-null  float64\n",
            " 18  Pass     10968 non-null  float64\n",
            " 19  Int      10976 non-null  float64\n",
            " 20  Tkl+Int  10968 non-null  float64\n",
            " 21  Clr      10968 non-null  float64\n",
            " 22  Err      10968 non-null  float64\n",
            " 23  League   10979 non-null  object \n",
            " 24  Saison   10979 non-null  object \n",
            "dtypes: float64(19), object(6)\n",
            "memory usage: 2.1+ MB\n"
          ]
        }
      ]
    },
    {
      "cell_type": "code",
      "source": [
        "FBREF_dataset_conca_defense = FBREF_dataset_conca_defense.drop(columns=['Def 3rd','Mid 3rd','Att 3rd','Tkl.1','Att' ,'Lost' ,'Tkl+Int'])\n",
        "FBREF_dataset_conca_defense.info()"
      ],
      "metadata": {
        "colab": {
          "base_uri": "https://localhost:8080/"
        },
        "id": "E1LvXh-0TDTb",
        "outputId": "ae0cebf2-6f69-40a6-8596-4df43e1067e4"
      },
      "execution_count": 84,
      "outputs": [
        {
          "output_type": "stream",
          "name": "stdout",
          "text": [
            "<class 'pandas.core.frame.DataFrame'>\n",
            "RangeIndex: 10979 entries, 0 to 10978\n",
            "Data columns (total 18 columns):\n",
            " #   Column  Non-Null Count  Dtype  \n",
            "---  ------  --------------  -----  \n",
            " 0   Team    10979 non-null  object \n",
            " 1   Player  10979 non-null  object \n",
            " 2   Nation  10978 non-null  object \n",
            " 3   Pos     10977 non-null  object \n",
            " 4   Age     10978 non-null  float64\n",
            " 5   Born    10978 non-null  float64\n",
            " 6   90s     10979 non-null  float64\n",
            " 7   Tkl     10968 non-null  float64\n",
            " 8   TklW    10976 non-null  float64\n",
            " 9   Tkl%    9759 non-null   float64\n",
            " 10  Blocks  10968 non-null  float64\n",
            " 11  Sh      10968 non-null  float64\n",
            " 12  Pass    10968 non-null  float64\n",
            " 13  Int     10976 non-null  float64\n",
            " 14  Clr     10968 non-null  float64\n",
            " 15  Err     10968 non-null  float64\n",
            " 16  League  10979 non-null  object \n",
            " 17  Saison  10979 non-null  object \n",
            "dtypes: float64(12), object(6)\n",
            "memory usage: 1.5+ MB\n"
          ]
        }
      ]
    },
    {
      "cell_type": "markdown",
      "source": [
        "## defense"
      ],
      "metadata": {
        "id": "c9-aihqDTlO4"
      }
    }
  ]
}