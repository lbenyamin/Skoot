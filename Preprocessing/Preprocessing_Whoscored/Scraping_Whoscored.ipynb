{
 "cells": [
  {
   "cell_type": "code",
   "execution_count": 1,
   "id": "127c980b",
   "metadata": {},
   "outputs": [
    {
     "name": "stdout",
     "output_type": "stream",
     "text": [
      "Defaulting to user installation because normal site-packages is not writeable\n",
      "Requirement already satisfied: selenium in c:\\users\\lucas\\appdata\\roaming\\python\\python39\\site-packages (4.8.2)\n",
      "Requirement already satisfied: trio-websocket~=0.9 in c:\\users\\lucas\\appdata\\roaming\\python\\python39\\site-packages (from selenium) (0.9.2)\n",
      "Requirement already satisfied: certifi>=2021.10.8 in c:\\programdata\\anaconda3\\lib\\site-packages (from selenium) (2022.9.14)\n",
      "Requirement already satisfied: trio~=0.17 in c:\\users\\lucas\\appdata\\roaming\\python\\python39\\site-packages (from selenium) (0.22.0)\n",
      "Requirement already satisfied: urllib3[socks]~=1.26 in c:\\programdata\\anaconda3\\lib\\site-packages (from selenium) (1.26.11)\n",
      "Requirement already satisfied: cffi>=1.14 in c:\\programdata\\anaconda3\\lib\\site-packages (from trio~=0.17->selenium) (1.15.1)\n",
      "Requirement already satisfied: sniffio in c:\\programdata\\anaconda3\\lib\\site-packages (from trio~=0.17->selenium) (1.2.0)\n",
      "Requirement already satisfied: sortedcontainers in c:\\programdata\\anaconda3\\lib\\site-packages (from trio~=0.17->selenium) (2.4.0)\n",
      "Requirement already satisfied: outcome in c:\\users\\lucas\\appdata\\roaming\\python\\python39\\site-packages (from trio~=0.17->selenium) (1.2.0)\n",
      "Requirement already satisfied: idna in c:\\programdata\\anaconda3\\lib\\site-packages (from trio~=0.17->selenium) (3.3)\n",
      "Requirement already satisfied: exceptiongroup>=1.0.0rc9 in c:\\users\\lucas\\appdata\\roaming\\python\\python39\\site-packages (from trio~=0.17->selenium) (1.1.0)\n",
      "Requirement already satisfied: async-generator>=1.9 in c:\\users\\lucas\\appdata\\roaming\\python\\python39\\site-packages (from trio~=0.17->selenium) (1.10)\n",
      "Requirement already satisfied: attrs>=19.2.0 in c:\\programdata\\anaconda3\\lib\\site-packages (from trio~=0.17->selenium) (21.4.0)\n",
      "Requirement already satisfied: wsproto>=0.14 in c:\\users\\lucas\\appdata\\roaming\\python\\python39\\site-packages (from trio-websocket~=0.9->selenium) (1.2.0)\n",
      "Requirement already satisfied: PySocks!=1.5.7,<2.0,>=1.5.6 in c:\\programdata\\anaconda3\\lib\\site-packages (from urllib3[socks]~=1.26->selenium) (1.7.1)\n",
      "Requirement already satisfied: pycparser in c:\\programdata\\anaconda3\\lib\\site-packages (from cffi>=1.14->trio~=0.17->selenium) (2.21)\n",
      "Requirement already satisfied: h11<1,>=0.9.0 in c:\\users\\lucas\\appdata\\roaming\\python\\python39\\site-packages (from wsproto>=0.14->trio-websocket~=0.9->selenium) (0.14.0)\n",
      "Note: you may need to restart the kernel to use updated packages.\n"
     ]
    }
   ],
   "source": [
    "pip install selenium"
   ]
  },
  {
   "cell_type": "code",
   "execution_count": 2,
   "id": "ee0162ba",
   "metadata": {},
   "outputs": [],
   "source": [
    "import time\n",
    "import numpy as np\n",
    "import pandas as pd\n",
    "import time\n",
    "import pickle\n",
    "import sys\n",
    "from tqdm import tqdm\n",
    "from selenium import webdriver\n",
    "from selenium.webdriver.common.by import By"
   ]
  },
  {
   "cell_type": "code",
   "execution_count": null,
   "id": "2c4c425a",
   "metadata": {},
   "outputs": [],
   "source": [
    "driver = webdriver.Chrome('./chromedriver')\n",
    "driver.get('https:/1xbet.whoscored.com/')\n",
    "driver.implicitly_wait(3)\n",
    "driver.close()\n"
   ]
  },
  {
   "cell_type": "markdown",
   "id": "33d70174",
   "metadata": {},
   "source": [
    "# Summary"
   ]
  },
  {
   "cell_type": "code",
   "execution_count": 14,
   "id": "b3c72e1f",
   "metadata": {},
   "outputs": [],
   "source": [
    "# Premier league 1920 plyaer stat table(URL)\n",
    "URL2223 = 'https://1xbet.whoscored.com/Regions/252/Tournaments/2/Seasons/9075/Stages/20934/PlayerStatistics/England-Premier-League-2022-2023'"
   ]
  },
  {
   "cell_type": "code",
   "execution_count": 73,
   "id": "22a160f0",
   "metadata": {},
   "outputs": [],
   "source": [
    "def crawling_player_summary(URL):\n",
    "    \"\"\"\n",
    "    crawling player statistics of certain league and season.\n",
    "    \n",
    "    Args :\n",
    "        URL : player statistics webpage URL\n",
    "        \n",
    "    return :\n",
    "        player statistics (dataframe)\n",
    "    \n",
    "    \"\"\"\n",
    "    url = str(URL)\n",
    "    driver = webdriver.Chrome('./chromedriver')\n",
    "    driver.get(url)\n",
    "    \n",
    "    time.sleep(3)\n",
    "    driver.find_element(By.XPATH, '//*[@id=\"qc-cmp2-ui\"]/div[2]/div/button[2]').click()\n",
    "    time.sleep(3)\n",
    "    driver.set_window_size(1552, 832)\n",
    "    driver.execute_script(\"window.scrollTo(0,300)\")    \n",
    "    page = driver.find_elements(By.CSS_SELECTOR, '#statistics-paging-summary > div > dl.listbox.right > dt > b')[0].get_attribute(\"textContent\").split(\"\\\\\")[0]\n",
    "    page = int(page.split('/')[1].split(' ')[0])\n",
    "    player_statistics_df = pd.DataFrame(columns=[\n",
    "        \"Name\", \"Team\", \"Age\", \"Position\", \"Apps\", \"Minutes\",\n",
    "        \"Total Goals\", \"Total Assists\", \"Yellow cards\", \"Red cards\",\"Shots per game\", \"Pass success percentage\",\"Aerials won per game\",\"Man of the match\", \"Rating\"])\n",
    "    \n",
    "    with tqdm(total=page, file=sys.stdout) as pbar :\n",
    "        for i in range(page):\n",
    "            if i != 0:\n",
    "                driver.find_element(By.ID, \"next\").click()\n",
    "                time.sleep(3)\n",
    "\n",
    "            temp_df = pd.DataFrame(columns=[\n",
    "        \"Name\", \"Team\", \"Age\", \"Position\", \"Apps\", \"Minutes\",\n",
    "        \"Total Goals\", \"Total Assists\", \"Yellow cards\", \"Red cards\",\"Shots per game\", \"Pass success percentage\",\"Aerials won per game\",\"Man of the match\", \"Rating\"])\n",
    "            elements = driver.find_elements(By.CSS_SELECTOR, \"#player-table-statistics-body tr\")\n",
    "\n",
    "            for element in elements:\n",
    "                player_statistics_dict = { \n",
    "                    \"Name\": element.find_elements(By.CSS_SELECTOR, \"td\")[0].find_elements(By.CSS_SELECTOR, \"a\")[0].\n",
    "                    find_elements(By.CSS_SELECTOR, \"span\")[0].get_attribute(\"textContent\").split(\"\\t\")[0],\n",
    "                    \"Team\": element.find_elements(By.CSS_SELECTOR, \"td\")[0].find_elements(By.CSS_SELECTOR, (\"a\"))[1].find_elements(By.CSS_SELECTOR, \"span\")[0].get_attribute(\"textContent\").split(\"\\t\")[0].split(\",\")[0],\n",
    "                    \"Age\": element.find_elements(By.CSS_SELECTOR, \"td\")[0].find_elements(By.CSS_SELECTOR, \"span\")[4].get_attribute(\"textContent\").split(\"\\t\")[0],\n",
    "                    \"Position\": element.find_elements(By.CSS_SELECTOR, \"td\")[0].find_elements(By.CSS_SELECTOR, \"span\")[5].get_attribute(\"textContent\").split(\"\\t\")[0][2:],\n",
    "                    \"Apps\": element.find_elements(By.CSS_SELECTOR, \"td\")[2].get_attribute(\"textContent\").split(\"\\t\")[0],\n",
    "                    \"Minutes\": element.find_elements(By.CSS_SELECTOR, \"td\")[3].get_attribute(\"textContent\").split(\"\\t\")[0], \n",
    "                    \"Total Goals\": element.find_elements(By.CSS_SELECTOR, \"td\")[4].get_attribute(\"textContent\").split(\"\\t\")[0],\n",
    "                    \"Total Assists\": element.find_elements(By.CSS_SELECTOR, \"td\")[5].get_attribute(\"textContent\").split(\"\\t\")[0], \n",
    "                    \"Yellow cards\": element.find_elements(By.CSS_SELECTOR, \"td\")[6].get_attribute(\"textContent\").split(\"\\t\")[0], \n",
    "                    \"Red cards\": element.find_elements(By.CSS_SELECTOR, \"td\")[7].get_attribute(\"textContent\").split(\"\\t\")[0],\n",
    "                    \"Shots per game\": element.find_elements(By.CSS_SELECTOR, \"td\")[8].get_attribute(\"textContent\").split(\"\\t\")[0],\n",
    "                    \"Pass success percentage\": element.find_elements(By.CSS_SELECTOR, \"td\")[9].get_attribute(\"textContent\").split(\"\\t\")[0],\n",
    "                    \"Aerials won per game\": element.find_elements(By.CSS_SELECTOR, \"td\")[10].get_attribute(\"textContent\").split(\"\\t\")[0],\n",
    "                    \"Man of the match\": element.find_elements(By.CSS_SELECTOR, \"td\")[11].get_attribute(\"textContent\").split(\"\\t\")[0],\n",
    "                    \"Rating\": element.find_elements(By.CSS_SELECTOR, \"td\")[12].get_attribute(\"textContent\").split(\"\\t\")[0],\n",
    "                }\n",
    "                temp_df.loc[len(temp_df)] = player_statistics_dict\n",
    "\n",
    "            player_statistics_df = pd.concat([player_statistics_df,temp_df])\n",
    "            pbar.update(1)\n",
    "            pbar.set_description('page {}'.format(i+1))\n",
    "            \n",
    "    driver.close()\n",
    "    player_statistics_df.replace(\"-\", \"0\", inplace=True)\n",
    "    return(player_statistics_df)"
   ]
  },
  {
   "cell_type": "code",
   "execution_count": 26,
   "id": "56aa0c78",
   "metadata": {},
   "outputs": [
    {
     "name": "stderr",
     "output_type": "stream",
     "text": [
      "C:\\Users\\lucas\\AppData\\Local\\Temp\\ipykernel_75360\\413797012.py:13: DeprecationWarning: executable_path has been deprecated, please pass in a Service object\n",
      "  driver = webdriver.Chrome('./chromedriver')\n"
     ]
    },
    {
     "name": "stdout",
     "output_type": "stream",
     "text": [
      "page 31: 100%|█████████████████████████████████████████████████████████████████████████| 31/31 [04:45<00:00,  9.19s/it]\n"
     ]
    }
   ],
   "source": [
    "PremierLeagueSummary = crawling_player_summary(URL2223)"
   ]
  },
  {
   "cell_type": "code",
   "execution_count": 27,
   "id": "31fc638b",
   "metadata": {},
   "outputs": [
    {
     "data": {
      "text/html": [
       "<div>\n",
       "<style scoped>\n",
       "    .dataframe tbody tr th:only-of-type {\n",
       "        vertical-align: middle;\n",
       "    }\n",
       "\n",
       "    .dataframe tbody tr th {\n",
       "        vertical-align: top;\n",
       "    }\n",
       "\n",
       "    .dataframe thead th {\n",
       "        text-align: right;\n",
       "    }\n",
       "</style>\n",
       "<table border=\"1\" class=\"dataframe\">\n",
       "  <thead>\n",
       "    <tr style=\"text-align: right;\">\n",
       "      <th></th>\n",
       "      <th>Name</th>\n",
       "      <th>Team</th>\n",
       "      <th>Age</th>\n",
       "      <th>Position</th>\n",
       "      <th>Apps</th>\n",
       "      <th>Minutes</th>\n",
       "      <th>Total Goals</th>\n",
       "      <th>Total Assists</th>\n",
       "      <th>Yellow cards</th>\n",
       "      <th>Red cards</th>\n",
       "      <th>Shots per game</th>\n",
       "      <th>Pass success percentage</th>\n",
       "      <th>Aerials won per game</th>\n",
       "      <th>Man of the match</th>\n",
       "      <th>Rating</th>\n",
       "    </tr>\n",
       "  </thead>\n",
       "  <tbody>\n",
       "    <tr>\n",
       "      <th>0</th>\n",
       "      <td>Gabriel Jesus</td>\n",
       "      <td>Arsenal</td>\n",
       "      <td>25</td>\n",
       "      <td>AM(LR),FW</td>\n",
       "      <td>14</td>\n",
       "      <td>1226</td>\n",
       "      <td>5</td>\n",
       "      <td>5</td>\n",
       "      <td>4</td>\n",
       "      <td>0</td>\n",
       "      <td>3.6</td>\n",
       "      <td>81.9</td>\n",
       "      <td>1.7</td>\n",
       "      <td>2</td>\n",
       "      <td>7.61</td>\n",
       "    </tr>\n",
       "    <tr>\n",
       "      <th>1</th>\n",
       "      <td>Kieran Trippier</td>\n",
       "      <td>Newcastle</td>\n",
       "      <td>32</td>\n",
       "      <td>D(LR),M(R)</td>\n",
       "      <td>24</td>\n",
       "      <td>2111</td>\n",
       "      <td>1</td>\n",
       "      <td>4</td>\n",
       "      <td>5</td>\n",
       "      <td>0</td>\n",
       "      <td>0.4</td>\n",
       "      <td>74.6</td>\n",
       "      <td>1.3</td>\n",
       "      <td>7</td>\n",
       "      <td>7.61</td>\n",
       "    </tr>\n",
       "    <tr>\n",
       "      <th>2</th>\n",
       "      <td>Erling Haaland</td>\n",
       "      <td>Man City</td>\n",
       "      <td>22</td>\n",
       "      <td>FW</td>\n",
       "      <td>24(1)</td>\n",
       "      <td>2030</td>\n",
       "      <td>27</td>\n",
       "      <td>5</td>\n",
       "      <td>4</td>\n",
       "      <td>0</td>\n",
       "      <td>3.4</td>\n",
       "      <td>76.1</td>\n",
       "      <td>1.2</td>\n",
       "      <td>5</td>\n",
       "      <td>7.57</td>\n",
       "    </tr>\n",
       "    <tr>\n",
       "      <th>3</th>\n",
       "      <td>Kevin De Bruyne</td>\n",
       "      <td>Man City</td>\n",
       "      <td>31</td>\n",
       "      <td>M(CLR),FW</td>\n",
       "      <td>22(2)</td>\n",
       "      <td>1933</td>\n",
       "      <td>4</td>\n",
       "      <td>12</td>\n",
       "      <td>1</td>\n",
       "      <td>0</td>\n",
       "      <td>2.4</td>\n",
       "      <td>78.8</td>\n",
       "      <td>0.3</td>\n",
       "      <td>7</td>\n",
       "      <td>7.56</td>\n",
       "    </tr>\n",
       "    <tr>\n",
       "      <th>4</th>\n",
       "      <td>Bukayo Saka</td>\n",
       "      <td>Arsenal</td>\n",
       "      <td>21</td>\n",
       "      <td>D(L),M(CLR)</td>\n",
       "      <td>26</td>\n",
       "      <td>2251</td>\n",
       "      <td>10</td>\n",
       "      <td>9</td>\n",
       "      <td>5</td>\n",
       "      <td>0</td>\n",
       "      <td>2.5</td>\n",
       "      <td>81.3</td>\n",
       "      <td>0.3</td>\n",
       "      <td>2</td>\n",
       "      <td>7.45</td>\n",
       "    </tr>\n",
       "  </tbody>\n",
       "</table>\n",
       "</div>"
      ],
      "text/plain": [
       "              Name       Team Age        Position   Apps Minutes Total Goals  \\\n",
       "0    Gabriel Jesus    Arsenal  25     AM(LR),FW       14    1226           5   \n",
       "1  Kieran Trippier  Newcastle  32    D(LR),M(R)       24    2111           1   \n",
       "2   Erling Haaland   Man City  22            FW    24(1)    2030          27   \n",
       "3  Kevin De Bruyne   Man City  31     M(CLR),FW    22(2)    1933           4   \n",
       "4      Bukayo Saka    Arsenal  21   D(L),M(CLR)       26    2251          10   \n",
       "\n",
       "  Total Assists Yellow cards Red cards Shots per game Pass success percentage  \\\n",
       "0             5            4         0            3.6                    81.9   \n",
       "1             4            5         0            0.4                    74.6   \n",
       "2             5            4         0            3.4                    76.1   \n",
       "3            12            1         0            2.4                    78.8   \n",
       "4             9            5         0            2.5                    81.3   \n",
       "\n",
       "  Aerials won per game Man of the match Rating  \n",
       "0                  1.7                2   7.61  \n",
       "1                  1.3                7   7.61  \n",
       "2                  1.2                5   7.57  \n",
       "3                  0.3                7   7.56  \n",
       "4                  0.3                2   7.45  "
      ]
     },
     "execution_count": 27,
     "metadata": {},
     "output_type": "execute_result"
    }
   ],
   "source": [
    "PremierLeagueSummary.head()"
   ]
  },
  {
   "cell_type": "markdown",
   "id": "787e514c",
   "metadata": {},
   "source": [
    "# Offensive"
   ]
  },
  {
   "cell_type": "code",
   "execution_count": 95,
   "id": "b788ef57",
   "metadata": {},
   "outputs": [],
   "source": [
    "def crawling_player_offensive(URL):\n",
    "    \"\"\"\n",
    "    crawling player statistics(offensive) of certain league and season.\n",
    "    \n",
    "    Args :\n",
    "        URL : player statistics webpage URL\n",
    "        \n",
    "    return :\n",
    "        player statistics (dataframe)\n",
    "    \n",
    "    \"\"\"\n",
    "    url = str(URL)\n",
    "    driver = webdriver.Chrome('./chromedriver')\n",
    "    driver.get(url)\n",
    "    driver.find_element(By.XPATH, '//*[@id=\"qc-cmp2-ui\"]/div[2]/div/button[2]').click()\n",
    "    time.sleep(3)\n",
    "    driver.set_window_size(1552, 832)\n",
    "    driver.execute_script(\"window.scrollTo(0,300)\")    \n",
    "    \n",
    "    time.sleep(3)\n",
    "    driver.find_element(By.LINK_TEXT, 'next').click()\n",
    "\n",
    "    time.sleep(2)\n",
    "\n",
    "    driver.find_element(By.LINK_TEXT, 'first').click()\n",
    "    \n",
    "    time.sleep(2.5)\n",
    "    \n",
    "    driver.find_element(By.LINK_TEXT, \"Offensive\").click()\n",
    "    \n",
    "    time.sleep(2.5)\n",
    "    page = driver.find_elements(By.CSS_SELECTOR, '#statistics-paging-offensive > div > dl.listbox.right > dt > b')[0].get_attribute(\"textContent\").split(\"\\t\")[0]\n",
    "    page = int(page.split('/')[1].split(' ')[0])\n",
    "    \n",
    "    player_statistics_df = pd.DataFrame(columns=[\n",
    "            \"Name\", \"Team\", \"Age\", \"Position\",\"Apps\", \"Minutes\", \"Total goals\", \"Total Assists\",\n",
    "            \"Shots per game\", \"Key passes per game\", \"Dribble\",\"Fouled per game\", \"Offsides per game\",\"Dispossessed per game\",\"Bad control per game\",\"Rating\"])\n",
    "    \n",
    "    with tqdm(total=page, file=sys.stdout) as pbar :\n",
    "        for i in range(page):\n",
    "            if i != 0:\n",
    "                driver.find_element(By.LINK_TEXT,'next').click()\n",
    "                time.sleep(2.5)\n",
    "\n",
    "            temp_df = pd.DataFrame(columns=[\n",
    "            \"Name\", \"Team\", \"Age\", \"Position\",\"Apps\", \"Minutes\", \"Total goals\", \"Total Assists\",\n",
    "            \"Shots per game\", \"Key passes per game\", \"Dribble\",\"Fouled per game\", \"Offsides per game\",\"Dispossessed per game\",\"Bad control per game\",\"Rating\"])\n",
    "\n",
    "            elements = driver.find_elements(By.CSS_SELECTOR, \"#player-table-statistics-body tr\")[10:]\n",
    "\n",
    "            for element in elements:\n",
    "                player_statistics_dict = { \n",
    "                    \"Name\": element.find_elements(By.CSS_SELECTOR, \"td\")[0].find_elements(By.CSS_SELECTOR, \"a\")[0].\n",
    "                    find_elements(By.CSS_SELECTOR, \"span\")[0].get_attribute(\"textContent\").split(\"\\t\")[0],\n",
    "                    \"Team\": element.find_elements(By.CSS_SELECTOR, \"td\")[0].find_elements(By.CSS_SELECTOR,\"a\")[1].find_elements(By.CSS_SELECTOR, \"span\")[0].get_attribute(\"textContent\").split(\"\\t\")[0].split(\",\")[0],\n",
    "                    \"Age\": element.find_elements(By.CSS_SELECTOR, \"td\")[0].find_elements(By.CSS_SELECTOR,\"span\")[4].get_attribute(\"textContent\").split(\"\\t\")[0],\n",
    "                    \"Position\": element.find_elements(By.CSS_SELECTOR, \"td\")[0].find_elements(By.CSS_SELECTOR, \"span\")[5].get_attribute(\"textContent\").split(\"\\t\")[0][2:],\n",
    "                    \"Apps\": element.find_elements(By.CSS_SELECTOR, \"td\")[2].get_attribute(\"textContent\").split(\"\\t\")[0],\n",
    "                    \"Minutes\": element.find_elements(By.CSS_SELECTOR, \"td\")[3].get_attribute(\"textContent\").split(\"\\t\")[0], \n",
    "                    \"Total goals\": element.find_elements(By.CSS_SELECTOR, \"td\")[4].get_attribute(\"textContent\").split(\"\\t\")[0],\n",
    "                    \"Total Assists\": element.find_elements(By.CSS_SELECTOR, \"td\")[5].get_attribute(\"textContent\").split(\"\\t\")[0], \n",
    "                    \"Shots per game\": element.find_elements(By.CSS_SELECTOR, \"td\")[6].get_attribute(\"textContent\").split(\"\\t\")[0], \n",
    "                    \"Key passes per game\": element.find_elements(By.CSS_SELECTOR, \"td\")[7].get_attribute(\"textContent\").split(\"\\t\")[0],\n",
    "                    \"Dribble\": element.find_elements(By.CSS_SELECTOR, \"td\")[8].get_attribute(\"textContent\").split(\"\\t\")[0],\n",
    "                    \"Fouled per game\": element.find_elements(By.CSS_SELECTOR, \"td\")[9].get_attribute(\"textContent\").split(\"\\t\")[0],\n",
    "                    \"Offsides per game\": element.find_elements(By.CSS_SELECTOR, \"td\")[10].get_attribute(\"textContent\").split(\"\\t\")[0],\n",
    "                    \"Dispossessed per game\": element.find_elements(By.CSS_SELECTOR, \"td\")[11].get_attribute(\"textContent\").split(\"\\t\")[0],\n",
    "                    \"Bad control per game\": element.find_elements(By.CSS_SELECTOR, \"td\")[12].get_attribute(\"textContent\").split(\"\\t\")[0],\n",
    "                    \"Rating\": element.find_elements(By.CSS_SELECTOR, \"td\")[13].get_attribute(\"textContent\").split(\"\\t\")[0],\n",
    "                }\n",
    "                temp_df.loc[len(temp_df)] = player_statistics_dict\n",
    "\n",
    "\n",
    "            player_statistics_df = pd.concat([player_statistics_df,temp_df])\n",
    "            pbar.update(1)\n",
    "            pbar.set_description('page {}'.format(i+1))\n",
    "        \n",
    "    driver.close()\n",
    "\n",
    "    player_statistics_df.replace(\"-\", \"0\", inplace=True)\n",
    "    return(player_statistics_df)"
   ]
  },
  {
   "cell_type": "code",
   "execution_count": 96,
   "id": "33902fef",
   "metadata": {},
   "outputs": [
    {
     "name": "stderr",
     "output_type": "stream",
     "text": [
      "C:\\Users\\lucas\\AppData\\Local\\Temp\\ipykernel_75360\\3162353173.py:13: DeprecationWarning: executable_path has been deprecated, please pass in a Service object\n",
      "  driver = webdriver.Chrome('./chromedriver')\n"
     ]
    },
    {
     "name": "stdout",
     "output_type": "stream",
     "text": [
      "page 31: 100%|█████████████████████████████████████████████████████████████████████████| 31/31 [04:08<00:00,  8.03s/it]\n"
     ]
    }
   ],
   "source": [
    "PremierLeagueOffensive = crawling_player_offensive(URL2223)"
   ]
  },
  {
   "cell_type": "code",
   "execution_count": 97,
   "id": "3026fead",
   "metadata": {},
   "outputs": [
    {
     "data": {
      "text/html": [
       "<div>\n",
       "<style scoped>\n",
       "    .dataframe tbody tr th:only-of-type {\n",
       "        vertical-align: middle;\n",
       "    }\n",
       "\n",
       "    .dataframe tbody tr th {\n",
       "        vertical-align: top;\n",
       "    }\n",
       "\n",
       "    .dataframe thead th {\n",
       "        text-align: right;\n",
       "    }\n",
       "</style>\n",
       "<table border=\"1\" class=\"dataframe\">\n",
       "  <thead>\n",
       "    <tr style=\"text-align: right;\">\n",
       "      <th></th>\n",
       "      <th>Name</th>\n",
       "      <th>Team</th>\n",
       "      <th>Age</th>\n",
       "      <th>Position</th>\n",
       "      <th>Apps</th>\n",
       "      <th>Minutes</th>\n",
       "      <th>Total goals</th>\n",
       "      <th>Total Assists</th>\n",
       "      <th>Shots per game</th>\n",
       "      <th>Key passes per game</th>\n",
       "      <th>Dribble</th>\n",
       "      <th>Fouled per game</th>\n",
       "      <th>Offsides per game</th>\n",
       "      <th>Dispossessed per game</th>\n",
       "      <th>Bad control per game</th>\n",
       "      <th>Rating</th>\n",
       "    </tr>\n",
       "  </thead>\n",
       "  <tbody>\n",
       "    <tr>\n",
       "      <th>0</th>\n",
       "      <td>Gabriel Jesus</td>\n",
       "      <td>Arsenal</td>\n",
       "      <td>25</td>\n",
       "      <td>AM(LR),FW</td>\n",
       "      <td>14</td>\n",
       "      <td>1226</td>\n",
       "      <td>5</td>\n",
       "      <td>5</td>\n",
       "      <td>3.6</td>\n",
       "      <td>1.6</td>\n",
       "      <td>2.1</td>\n",
       "      <td>2.7</td>\n",
       "      <td>0.6</td>\n",
       "      <td>2.9</td>\n",
       "      <td>3.9</td>\n",
       "      <td>7.61</td>\n",
       "    </tr>\n",
       "    <tr>\n",
       "      <th>1</th>\n",
       "      <td>Kieran Trippier</td>\n",
       "      <td>Newcastle</td>\n",
       "      <td>32</td>\n",
       "      <td>D(LR),M(R)</td>\n",
       "      <td>24</td>\n",
       "      <td>2111</td>\n",
       "      <td>1</td>\n",
       "      <td>4</td>\n",
       "      <td>0.4</td>\n",
       "      <td>3</td>\n",
       "      <td>0.5</td>\n",
       "      <td>0.9</td>\n",
       "      <td>0.3</td>\n",
       "      <td>0.2</td>\n",
       "      <td>0.7</td>\n",
       "      <td>7.61</td>\n",
       "    </tr>\n",
       "    <tr>\n",
       "      <th>2</th>\n",
       "      <td>Erling Haaland</td>\n",
       "      <td>Man City</td>\n",
       "      <td>22</td>\n",
       "      <td>FW</td>\n",
       "      <td>24(1)</td>\n",
       "      <td>2030</td>\n",
       "      <td>27</td>\n",
       "      <td>5</td>\n",
       "      <td>3.4</td>\n",
       "      <td>0.8</td>\n",
       "      <td>0.2</td>\n",
       "      <td>0.7</td>\n",
       "      <td>0.2</td>\n",
       "      <td>0.9</td>\n",
       "      <td>1.3</td>\n",
       "      <td>7.57</td>\n",
       "    </tr>\n",
       "    <tr>\n",
       "      <th>3</th>\n",
       "      <td>Kevin De Bruyne</td>\n",
       "      <td>Man City</td>\n",
       "      <td>31</td>\n",
       "      <td>M(CLR),FW</td>\n",
       "      <td>22(2)</td>\n",
       "      <td>1933</td>\n",
       "      <td>4</td>\n",
       "      <td>12</td>\n",
       "      <td>2.4</td>\n",
       "      <td>3.3</td>\n",
       "      <td>1</td>\n",
       "      <td>0.8</td>\n",
       "      <td>0.1</td>\n",
       "      <td>1</td>\n",
       "      <td>1.5</td>\n",
       "      <td>7.56</td>\n",
       "    </tr>\n",
       "    <tr>\n",
       "      <th>4</th>\n",
       "      <td>Bukayo Saka</td>\n",
       "      <td>Arsenal</td>\n",
       "      <td>21</td>\n",
       "      <td>D(L),M(CLR)</td>\n",
       "      <td>26</td>\n",
       "      <td>2251</td>\n",
       "      <td>10</td>\n",
       "      <td>9</td>\n",
       "      <td>2.5</td>\n",
       "      <td>2.2</td>\n",
       "      <td>1.7</td>\n",
       "      <td>1.7</td>\n",
       "      <td>0.2</td>\n",
       "      <td>1.6</td>\n",
       "      <td>2.2</td>\n",
       "      <td>7.45</td>\n",
       "    </tr>\n",
       "  </tbody>\n",
       "</table>\n",
       "</div>"
      ],
      "text/plain": [
       "              Name       Team Age        Position   Apps Minutes Total goals  \\\n",
       "0    Gabriel Jesus    Arsenal  25     AM(LR),FW       14    1226           5   \n",
       "1  Kieran Trippier  Newcastle  32    D(LR),M(R)       24    2111           1   \n",
       "2   Erling Haaland   Man City  22            FW    24(1)    2030          27   \n",
       "3  Kevin De Bruyne   Man City  31     M(CLR),FW    22(2)    1933           4   \n",
       "4      Bukayo Saka    Arsenal  21   D(L),M(CLR)       26    2251          10   \n",
       "\n",
       "  Total Assists Shots per game Key passes per game Dribble Fouled per game  \\\n",
       "0             5            3.6                 1.6     2.1             2.7   \n",
       "1             4            0.4                   3     0.5             0.9   \n",
       "2             5            3.4                 0.8     0.2             0.7   \n",
       "3            12            2.4                 3.3       1             0.8   \n",
       "4             9            2.5                 2.2     1.7             1.7   \n",
       "\n",
       "  Offsides per game Dispossessed per game Bad control per game Rating  \n",
       "0               0.6                   2.9                  3.9   7.61  \n",
       "1               0.3                   0.2                  0.7   7.61  \n",
       "2               0.2                   0.9                  1.3   7.57  \n",
       "3               0.1                     1                  1.5   7.56  \n",
       "4               0.2                   1.6                  2.2   7.45  "
      ]
     },
     "execution_count": 97,
     "metadata": {},
     "output_type": "execute_result"
    }
   ],
   "source": [
    "PremierLeagueOffensive.head()"
   ]
  },
  {
   "cell_type": "markdown",
   "id": "45a35b07",
   "metadata": {},
   "source": [
    "# Defensive"
   ]
  },
  {
   "cell_type": "code",
   "execution_count": 75,
   "id": "f44717b9",
   "metadata": {},
   "outputs": [],
   "source": [
    "def crawling_player_defensive(URL):\n",
    "    \"\"\"\n",
    "    crawling player statistics(defensive) of certain league and season.\n",
    "    \n",
    "    Args :\n",
    "        URL : player statistics webpage URL\n",
    "        \n",
    "    return :\n",
    "        player statistics (dataframe)\n",
    "    \n",
    "    \"\"\"\n",
    "    url = str(URL)\n",
    "    driver = webdriver.Chrome('./chromedriver')\n",
    "    driver.get(url)\n",
    "    driver.find_element(By.XPATH, '//*[@id=\"qc-cmp2-ui\"]/div[2]/div/button[2]').click()\n",
    "    time.sleep(3)\n",
    "    driver.set_window_size(1552, 832)\n",
    "    driver.execute_script(\"window.scrollTo(0,300)\")   \n",
    "    \n",
    "    time.sleep(2.5)\n",
    "\n",
    "    driver.find_element(By.ID, 'next').click()\n",
    "\n",
    "    time.sleep(2.5)\n",
    "\n",
    "    driver.find_element(By.ID, 'first').click()\n",
    "    \n",
    "    time.sleep(2.5)\n",
    "    \n",
    "    driver.find_element(By.LINK_TEXT, \"Defensive\").click()\n",
    "    \n",
    "    time.sleep(2.5)\n",
    "    page = driver.find_elements(By.CSS_SELECTOR, '#statistics-paging-defensive > div > dl.listbox.right > dt > b')[0].get_attribute(\"textContent\")\n",
    "    page = int(page.split('/')[1].split(' ')[0])\n",
    "    \n",
    "    player_statistics_df = pd.DataFrame(columns=[\n",
    "            \"Name\", \"Team\", \"Age\", \"Position\",\"Apps\", \"Minutes\", \"Tackles per game\", \"Interceptions per game\",\n",
    "            \"Fouls per game\", \"Offsides per game\", \"Clearances per game\",\"Dribbled past per game\", \"Outfield blocks per game\",\"Own goals\",\"Rating\"])\n",
    "    \n",
    "    with tqdm(total=page, file=sys.stdout) as pbar :\n",
    "        for i in range(page):\n",
    "            if i != 0:\n",
    "                driver.find_element(By.LINK_TEXT, 'next').click()\n",
    "                time.sleep(2.5)\n",
    "\n",
    "            temp_df = pd.DataFrame(columns=[\n",
    "            \"Name\", \"Team\", \"Age\", \"Position\",\"Apps\", \"Minutes\", \"Tackles per game\", \"Interceptions per game\",\n",
    "            \"Fouls per game\", \"Offsides per game\", \"Clearances per game\",\"Dribbled past per game\", \"Outfield blocks per game\",\"Own goals\",\"Rating\"])\n",
    "\n",
    "            elements = driver.find_elements(By.CSS_SELECTOR, \"#player-table-statistics-body tr\")[10:]\n",
    "\n",
    "            for element in elements:\n",
    "                player_statistics_dict = { \n",
    "                    \"Name\": element.find_elements(By.CSS_SELECTOR, \"td\")[0].find_elements(By.CSS_SELECTOR, \"a\")[0].find_elements(By.CSS_SELECTOR, \"span\")[0].get_attribute(\"textContent\").split(\"\\t\")[0],\n",
    "                    \"Team\": element.find_elements(By.CSS_SELECTOR, \"td\")[0].find_elements(By.CSS_SELECTOR, \"a\")[1].find_elements(By.CSS_SELECTOR, \"span\")[0].get_attribute(\"textContent\").split(\"\\t\")[0].split(\",\")[0],\n",
    "                    \"Age\": element.find_elements(By.CSS_SELECTOR, \"td\")[0].find_elements(By.CSS_SELECTOR, \"span\")[4].get_attribute(\"textContent\").split(\"\\t\")[0],\n",
    "                    \"Position\": element.find_elements(By.CSS_SELECTOR, \"td\")[0].find_elements(By.CSS_SELECTOR, \"span\")[5].get_attribute(\"textContent\").split(\"\\t\")[0][2:],\n",
    "                    \"Apps\": element.find_elements(By.CSS_SELECTOR, \"td\")[2].get_attribute(\"textContent\").split(\"\\t\")[0],\n",
    "                    \"Minutes\": element.find_elements(By.CSS_SELECTOR, \"td\")[3].get_attribute(\"textContent\").split(\"\\t\")[0], \n",
    "                    \"Tackles per game\": element.find_elements(By.CSS_SELECTOR, \"td\")[4].get_attribute(\"textContent\").split(\"\\t\")[0],\n",
    "                    \"Interceptions per game\": element.find_elements(By.CSS_SELECTOR, \"td\")[5].get_attribute(\"textContent\").split(\"\\t\")[0], \n",
    "                    \"Fouls per game\": element.find_elements(By.CSS_SELECTOR, \"td\")[6].get_attribute(\"textContent\").split(\"\\t\")[0], \n",
    "                    \"Offsides per game\": element.find_elements(By.CSS_SELECTOR, \"td\")[7].get_attribute(\"textContent\").split(\"\\t\")[0],\n",
    "                    \"Clearances per game\": element.find_elements(By.CSS_SELECTOR, \"td\")[8].get_attribute(\"textContent\").split(\"\\t\")[0],\n",
    "                    \"Dribbled past per game\": element.find_elements(By.CSS_SELECTOR, \"td\")[9].get_attribute(\"textContent\").split(\"\\t\")[0],\n",
    "                    \"Outfield blocks per game\": element.find_elements(By.CSS_SELECTOR, \"td\")[10].get_attribute(\"textContent\").split(\"\\t\")[0],\n",
    "                    \"Own goals\": element.find_elements(By.CSS_SELECTOR, \"td\")[11].get_attribute(\"textContent\").split(\"\\t\")[0],\n",
    "                    \"Rating\": element.find_elements(By.CSS_SELECTOR, \"td\")[12].get_attribute(\"textContent\").split(\"\\t\")[0],\n",
    "                }\n",
    "                temp_df.loc[len(temp_df)] = player_statistics_dict\n",
    "\n",
    "\n",
    "            player_statistics_df = pd.concat([player_statistics_df,temp_df])\n",
    "            pbar.update(1)\n",
    "            pbar.set_description('page {}'.format(i+1))\n",
    "        \n",
    "    driver.close()\n",
    "    \n",
    "    player_statistics_df.replace(\"-\", \"0\", inplace=True)\n",
    "    return(player_statistics_df)"
   ]
  },
  {
   "cell_type": "code",
   "execution_count": 48,
   "id": "7f1e0b51",
   "metadata": {},
   "outputs": [
    {
     "name": "stderr",
     "output_type": "stream",
     "text": [
      "C:\\Users\\lucas\\AppData\\Local\\Temp\\ipykernel_75360\\2379465608.py:13: DeprecationWarning: executable_path has been deprecated, please pass in a Service object\n",
      "  driver = webdriver.Chrome('./chromedriver')\n"
     ]
    },
    {
     "name": "stdout",
     "output_type": "stream",
     "text": [
      "page 31: 100%|█████████████████████████████████████████████████████████████████████████| 31/31 [03:58<00:00,  7.71s/it]\n"
     ]
    }
   ],
   "source": [
    "PremierLeagueDefensive = crawling_player_defensive(URL2223)"
   ]
  },
  {
   "cell_type": "code",
   "execution_count": 49,
   "id": "b2e2ae8c",
   "metadata": {},
   "outputs": [
    {
     "data": {
      "text/html": [
       "<div>\n",
       "<style scoped>\n",
       "    .dataframe tbody tr th:only-of-type {\n",
       "        vertical-align: middle;\n",
       "    }\n",
       "\n",
       "    .dataframe tbody tr th {\n",
       "        vertical-align: top;\n",
       "    }\n",
       "\n",
       "    .dataframe thead th {\n",
       "        text-align: right;\n",
       "    }\n",
       "</style>\n",
       "<table border=\"1\" class=\"dataframe\">\n",
       "  <thead>\n",
       "    <tr style=\"text-align: right;\">\n",
       "      <th></th>\n",
       "      <th>Name</th>\n",
       "      <th>Team</th>\n",
       "      <th>Age</th>\n",
       "      <th>Position</th>\n",
       "      <th>Apps</th>\n",
       "      <th>Minutes</th>\n",
       "      <th>Tackles per game</th>\n",
       "      <th>Interceptions per game</th>\n",
       "      <th>Fouls per game</th>\n",
       "      <th>Offsides per game</th>\n",
       "      <th>Clearances per game</th>\n",
       "      <th>Dribbled past per game</th>\n",
       "      <th>Outfield blocks per game</th>\n",
       "      <th>Own goals</th>\n",
       "      <th>Rating</th>\n",
       "    </tr>\n",
       "  </thead>\n",
       "  <tbody>\n",
       "    <tr>\n",
       "      <th>0</th>\n",
       "      <td>Gabriel Jesus</td>\n",
       "      <td>Arsenal</td>\n",
       "      <td>25</td>\n",
       "      <td>AM(LR),FW</td>\n",
       "      <td>14</td>\n",
       "      <td>1226</td>\n",
       "      <td>1.4</td>\n",
       "      <td>0.6</td>\n",
       "      <td>1.7</td>\n",
       "      <td>0</td>\n",
       "      <td>0.6</td>\n",
       "      <td>0.8</td>\n",
       "      <td>0.1</td>\n",
       "      <td>0</td>\n",
       "      <td>7.61</td>\n",
       "    </tr>\n",
       "    <tr>\n",
       "      <th>1</th>\n",
       "      <td>Kieran Trippier</td>\n",
       "      <td>Newcastle</td>\n",
       "      <td>32</td>\n",
       "      <td>D(LR),M(R)</td>\n",
       "      <td>24</td>\n",
       "      <td>2111</td>\n",
       "      <td>2</td>\n",
       "      <td>1.3</td>\n",
       "      <td>1.2</td>\n",
       "      <td>0.3</td>\n",
       "      <td>1.8</td>\n",
       "      <td>1.1</td>\n",
       "      <td>0.5</td>\n",
       "      <td>0</td>\n",
       "      <td>7.61</td>\n",
       "    </tr>\n",
       "    <tr>\n",
       "      <th>2</th>\n",
       "      <td>Erling Haaland</td>\n",
       "      <td>Man City</td>\n",
       "      <td>22</td>\n",
       "      <td>FW</td>\n",
       "      <td>24(1)</td>\n",
       "      <td>2030</td>\n",
       "      <td>0.1</td>\n",
       "      <td>0.1</td>\n",
       "      <td>0.9</td>\n",
       "      <td>0</td>\n",
       "      <td>0.4</td>\n",
       "      <td>0.1</td>\n",
       "      <td>0.1</td>\n",
       "      <td>0</td>\n",
       "      <td>7.57</td>\n",
       "    </tr>\n",
       "    <tr>\n",
       "      <th>3</th>\n",
       "      <td>Kevin De Bruyne</td>\n",
       "      <td>Man City</td>\n",
       "      <td>31</td>\n",
       "      <td>M(CLR),FW</td>\n",
       "      <td>22(2)</td>\n",
       "      <td>1933</td>\n",
       "      <td>0.9</td>\n",
       "      <td>0.2</td>\n",
       "      <td>0.8</td>\n",
       "      <td>0</td>\n",
       "      <td>0.4</td>\n",
       "      <td>0.9</td>\n",
       "      <td>0.1</td>\n",
       "      <td>0</td>\n",
       "      <td>7.56</td>\n",
       "    </tr>\n",
       "    <tr>\n",
       "      <th>4</th>\n",
       "      <td>Bukayo Saka</td>\n",
       "      <td>Arsenal</td>\n",
       "      <td>21</td>\n",
       "      <td>D(L),M(CLR)</td>\n",
       "      <td>26</td>\n",
       "      <td>2251</td>\n",
       "      <td>1.4</td>\n",
       "      <td>0.5</td>\n",
       "      <td>1.1</td>\n",
       "      <td>0.1</td>\n",
       "      <td>0.5</td>\n",
       "      <td>0.5</td>\n",
       "      <td>0</td>\n",
       "      <td>0</td>\n",
       "      <td>7.45</td>\n",
       "    </tr>\n",
       "  </tbody>\n",
       "</table>\n",
       "</div>"
      ],
      "text/plain": [
       "              Name       Team Age        Position   Apps Minutes  \\\n",
       "0    Gabriel Jesus    Arsenal  25     AM(LR),FW       14    1226   \n",
       "1  Kieran Trippier  Newcastle  32    D(LR),M(R)       24    2111   \n",
       "2   Erling Haaland   Man City  22            FW    24(1)    2030   \n",
       "3  Kevin De Bruyne   Man City  31     M(CLR),FW    22(2)    1933   \n",
       "4      Bukayo Saka    Arsenal  21   D(L),M(CLR)       26    2251   \n",
       "\n",
       "  Tackles per game Interceptions per game Fouls per game Offsides per game  \\\n",
       "0              1.4                    0.6            1.7                 0   \n",
       "1                2                    1.3            1.2               0.3   \n",
       "2              0.1                    0.1            0.9                 0   \n",
       "3              0.9                    0.2            0.8                 0   \n",
       "4              1.4                    0.5            1.1               0.1   \n",
       "\n",
       "  Clearances per game Dribbled past per game Outfield blocks per game  \\\n",
       "0                 0.6                    0.8                      0.1   \n",
       "1                 1.8                    1.1                      0.5   \n",
       "2                 0.4                    0.1                      0.1   \n",
       "3                 0.4                    0.9                      0.1   \n",
       "4                 0.5                    0.5                        0   \n",
       "\n",
       "  Own goals Rating  \n",
       "0         0   7.61  \n",
       "1         0   7.61  \n",
       "2         0   7.57  \n",
       "3         0   7.56  \n",
       "4         0   7.45  "
      ]
     },
     "execution_count": 49,
     "metadata": {},
     "output_type": "execute_result"
    }
   ],
   "source": [
    "PremierLeagueDefensive.head()"
   ]
  },
  {
   "cell_type": "markdown",
   "id": "44483b0f",
   "metadata": {},
   "source": [
    "# Passing"
   ]
  },
  {
   "cell_type": "code",
   "execution_count": 76,
   "id": "1dfb3b6f",
   "metadata": {},
   "outputs": [],
   "source": [
    "def crawling_player_passing(URL):\n",
    "    url = str(URL)\n",
    "    driver = webdriver.Chrome('./chromedriver')\n",
    "    driver.get(url)\n",
    "    driver.find_element(By.XPATH, '//*[@id=\"qc-cmp2-ui\"]/div[2]/div/button[2]').click()\n",
    "    time.sleep(3)\n",
    "    driver.set_window_size(1552, 832)\n",
    "    driver.execute_script(\"window.scrollTo(0,300)\")   \n",
    "    time.sleep(2.5)\n",
    "\n",
    "    driver.find_element(By.LINK_TEXT, 'next').click()\n",
    "\n",
    "    time.sleep(2.5)\n",
    "\n",
    "    driver.find_element(By.LINK_TEXT, 'first').click()\n",
    "    \n",
    "    time.sleep(2.5)\n",
    "    \n",
    "    driver.find_element(By.LINK_TEXT, \"Passing\").click()\n",
    "    \n",
    "    time.sleep(2.5)\n",
    "    page = driver.find_elements(By.CSS_SELECTOR, '#statistics-paging-passing > div > dl.listbox.right > dt > b')[0].get_attribute(\"textContent\")\n",
    "    page = int(page.split('/')[1].split(' ')[0])\n",
    "    \n",
    "    player_statistics_df = pd.DataFrame(columns=[\n",
    "            \"Name\", \"Team\", \"Age\", \"Position\",\"Apps\", \"Minutes\", \"Total Assists\", \"Key passes per game\",\n",
    "            \"Passes per game\", \"Pass success percentage\",\"Crosses per game\", \"Long balls per game\",\"Through balls per game\",\"Rating\"])\n",
    "    \n",
    "    with tqdm(total=page, file=sys.stdout) as pbar :\n",
    "        for i in range(page):\n",
    "            if i != 0:\n",
    "                driver.find_element(By.LINK_TEXT, 'next').click()\n",
    "                time.sleep(2.5)\n",
    "\n",
    "            temp_df = pd.DataFrame(columns=[\n",
    "            \"Name\", \"Team\", \"Age\", \"Position\",\"Apps\", \"Minutes\", \"Total Assists\", \"Key passes per game\",\n",
    "            \"Passes per game\", \"Pass success percentage\",\"Crosses per game\", \"Long balls per game\",\"Through balls per game\",\"Rating\"])\n",
    "\n",
    "            elements = driver.find_elements(By.CSS_SELECTOR, \"#player-table-statistics-body tr\")[10:]\n",
    "\n",
    "            for element in elements:\n",
    "                player_statistics_dict = { \n",
    "                    \"Name\": element.find_elements(By.CSS_SELECTOR, \"td\")[0].find_elements(By.CSS_SELECTOR, \"a\")[0].\n",
    "                    find_elements(By.CSS_SELECTOR, \"span\")[0].get_attribute(\"textContent\").split(\"\\t\")[0],\n",
    "                    \"Team\": element.find_elements(By.CSS_SELECTOR, \"td\")[0].find_elements(By.CSS_SELECTOR, \"a\")[1].find_elements(By.CSS_SELECTOR, \"span\")[0].get_attribute(\"textContent\").split(\"\\t\")[0].split(\",\")[0],\n",
    "                    \"Age\": element.find_elements(By.CSS_SELECTOR, \"td\")[0].find_elements(By.CSS_SELECTOR, \"span\")[4].get_attribute(\"textContent\").split(\"\\t\")[0],\n",
    "                    \"Position\": element.find_elements(By.CSS_SELECTOR, \"td\")[0].find_elements(By.CSS_SELECTOR, \"span\")[5].get_attribute(\"textContent\").split(\"\\t\")[0][2:],\n",
    "                    \"Apps\": element.find_elements(By.CSS_SELECTOR, \"td\")[2].get_attribute(\"textContent\").split(\"\\t\")[0],\n",
    "                    \"Minutes\": element.find_elements(By.CSS_SELECTOR, \"td\")[3].get_attribute(\"textContent\").split(\"\\t\")[0], \n",
    "                    \"Total Assists\": element.find_elements(By.CSS_SELECTOR, \"td\")[4].get_attribute(\"textContent\").split(\"\\t\")[0],\n",
    "                    \"Key passes per game\": element.find_elements(By.CSS_SELECTOR, \"td\")[5].get_attribute(\"textContent\").split(\"\\t\")[0], \n",
    "                    \"Passes per game\": element.find_elements(By.CSS_SELECTOR, \"td\")[6].get_attribute(\"textContent\").split(\"\\t\")[0], \n",
    "                    \"Pass success percentage\": element.find_elements(By.CSS_SELECTOR, \"td\")[7].get_attribute(\"textContent\").split(\"\\t\")[0],\n",
    "                    \"Crosses per game\": element.find_elements(By.CSS_SELECTOR, \"td\")[8].get_attribute(\"textContent\").split(\"\\t\")[0],\n",
    "                    \"Long balls per game\": element.find_elements(By.CSS_SELECTOR, \"td\")[9].get_attribute(\"textContent\").split(\"\\t\")[0],\n",
    "                    \"Through balls per game\": element.find_elements(By.CSS_SELECTOR, \"td\")[10].get_attribute(\"textContent\").split(\"\\t\")[0],\n",
    "                    \"Rating\": element.find_elements(By.CSS_SELECTOR, \"td\")[11].get_attribute(\"textContent\").split(\"\\t\")[0],\n",
    "                }\n",
    "                temp_df.loc[len(temp_df)] = player_statistics_dict\n",
    "\n",
    "\n",
    "            player_statistics_df = pd.concat([player_statistics_df,temp_df])\n",
    "            pbar.update(1)\n",
    "            pbar.set_description('page {}'.format(i+1))\n",
    "        \n",
    "    driver.close()\n",
    "    player_statistics_df.replace(\"-\", \"0\", inplace=True)\n",
    "\n",
    "    return(player_statistics_df)"
   ]
  },
  {
   "cell_type": "code",
   "execution_count": 45,
   "id": "a882396e",
   "metadata": {},
   "outputs": [
    {
     "name": "stderr",
     "output_type": "stream",
     "text": [
      "C:\\Users\\lucas\\AppData\\Local\\Temp\\ipykernel_75360\\1288772440.py:3: DeprecationWarning: executable_path has been deprecated, please pass in a Service object\n",
      "  driver = webdriver.Chrome('./chromedriver')\n"
     ]
    },
    {
     "name": "stdout",
     "output_type": "stream",
     "text": [
      "page 31: 100%|█████████████████████████████████████████████████████████████████████████| 31/31 [03:36<00:00,  6.98s/it]\n"
     ]
    }
   ],
   "source": [
    "PremierLeaguePassing = crawling_player_passing(URL2223)"
   ]
  },
  {
   "cell_type": "code",
   "execution_count": 46,
   "id": "bc6be125",
   "metadata": {
    "scrolled": true
   },
   "outputs": [
    {
     "data": {
      "text/html": [
       "<div>\n",
       "<style scoped>\n",
       "    .dataframe tbody tr th:only-of-type {\n",
       "        vertical-align: middle;\n",
       "    }\n",
       "\n",
       "    .dataframe tbody tr th {\n",
       "        vertical-align: top;\n",
       "    }\n",
       "\n",
       "    .dataframe thead th {\n",
       "        text-align: right;\n",
       "    }\n",
       "</style>\n",
       "<table border=\"1\" class=\"dataframe\">\n",
       "  <thead>\n",
       "    <tr style=\"text-align: right;\">\n",
       "      <th></th>\n",
       "      <th>Name</th>\n",
       "      <th>Team</th>\n",
       "      <th>Age</th>\n",
       "      <th>Position</th>\n",
       "      <th>Apps</th>\n",
       "      <th>Minutes</th>\n",
       "      <th>Total Assists</th>\n",
       "      <th>Key passes per game</th>\n",
       "      <th>Passes per game</th>\n",
       "      <th>Pass success percentage</th>\n",
       "      <th>Crosses per game</th>\n",
       "      <th>Long balls per game</th>\n",
       "      <th>Through balls per game</th>\n",
       "      <th>Rating</th>\n",
       "    </tr>\n",
       "  </thead>\n",
       "  <tbody>\n",
       "    <tr>\n",
       "      <th>0</th>\n",
       "      <td>Gabriel Jesus</td>\n",
       "      <td>Arsenal</td>\n",
       "      <td>25</td>\n",
       "      <td>AM(LR),FW</td>\n",
       "      <td>14</td>\n",
       "      <td>1226</td>\n",
       "      <td>5</td>\n",
       "      <td>1.6</td>\n",
       "      <td>27.6</td>\n",
       "      <td>81.9</td>\n",
       "      <td>0.1</td>\n",
       "      <td>0.5</td>\n",
       "      <td>0.1</td>\n",
       "      <td>7.61</td>\n",
       "    </tr>\n",
       "    <tr>\n",
       "      <th>1</th>\n",
       "      <td>Kieran Trippier</td>\n",
       "      <td>Newcastle</td>\n",
       "      <td>32</td>\n",
       "      <td>D(LR),M(R)</td>\n",
       "      <td>24</td>\n",
       "      <td>2111</td>\n",
       "      <td>4</td>\n",
       "      <td>3</td>\n",
       "      <td>51.5</td>\n",
       "      <td>74.6</td>\n",
       "      <td>3.9</td>\n",
       "      <td>3.4</td>\n",
       "      <td>0.3</td>\n",
       "      <td>7.61</td>\n",
       "    </tr>\n",
       "    <tr>\n",
       "      <th>2</th>\n",
       "      <td>Erling Haaland</td>\n",
       "      <td>Man City</td>\n",
       "      <td>22</td>\n",
       "      <td>FW</td>\n",
       "      <td>24(1)</td>\n",
       "      <td>2030</td>\n",
       "      <td>5</td>\n",
       "      <td>0.8</td>\n",
       "      <td>13.9</td>\n",
       "      <td>76.1</td>\n",
       "      <td>0</td>\n",
       "      <td>0</td>\n",
       "      <td>0.1</td>\n",
       "      <td>7.57</td>\n",
       "    </tr>\n",
       "    <tr>\n",
       "      <th>3</th>\n",
       "      <td>Kevin De Bruyne</td>\n",
       "      <td>Man City</td>\n",
       "      <td>31</td>\n",
       "      <td>M(CLR),FW</td>\n",
       "      <td>22(2)</td>\n",
       "      <td>1933</td>\n",
       "      <td>12</td>\n",
       "      <td>3.3</td>\n",
       "      <td>42.3</td>\n",
       "      <td>78.8</td>\n",
       "      <td>2.4</td>\n",
       "      <td>2.5</td>\n",
       "      <td>0.4</td>\n",
       "      <td>7.56</td>\n",
       "    </tr>\n",
       "    <tr>\n",
       "      <th>4</th>\n",
       "      <td>Bukayo Saka</td>\n",
       "      <td>Arsenal</td>\n",
       "      <td>21</td>\n",
       "      <td>D(L),M(CLR)</td>\n",
       "      <td>26</td>\n",
       "      <td>2251</td>\n",
       "      <td>9</td>\n",
       "      <td>2.2</td>\n",
       "      <td>34.2</td>\n",
       "      <td>81.3</td>\n",
       "      <td>1</td>\n",
       "      <td>1</td>\n",
       "      <td>0</td>\n",
       "      <td>7.45</td>\n",
       "    </tr>\n",
       "  </tbody>\n",
       "</table>\n",
       "</div>"
      ],
      "text/plain": [
       "              Name       Team Age        Position   Apps Minutes  \\\n",
       "0    Gabriel Jesus    Arsenal  25     AM(LR),FW       14    1226   \n",
       "1  Kieran Trippier  Newcastle  32    D(LR),M(R)       24    2111   \n",
       "2   Erling Haaland   Man City  22            FW    24(1)    2030   \n",
       "3  Kevin De Bruyne   Man City  31     M(CLR),FW    22(2)    1933   \n",
       "4      Bukayo Saka    Arsenal  21   D(L),M(CLR)       26    2251   \n",
       "\n",
       "  Total Assists Key passes per game Passes per game Pass success percentage  \\\n",
       "0             5                 1.6            27.6                    81.9   \n",
       "1             4                   3            51.5                    74.6   \n",
       "2             5                 0.8            13.9                    76.1   \n",
       "3            12                 3.3            42.3                    78.8   \n",
       "4             9                 2.2            34.2                    81.3   \n",
       "\n",
       "  Crosses per game Long balls per game Through balls per game Rating  \n",
       "0              0.1                 0.5                    0.1   7.61  \n",
       "1              3.9                 3.4                    0.3   7.61  \n",
       "2                0                   0                    0.1   7.57  \n",
       "3              2.4                 2.5                    0.4   7.56  \n",
       "4                1                   1                      0   7.45  "
      ]
     },
     "execution_count": 46,
     "metadata": {},
     "output_type": "execute_result"
    }
   ],
   "source": [
    "PremierLeaguePassing.head()"
   ]
  },
  {
   "cell_type": "markdown",
   "id": "de7e8290",
   "metadata": {},
   "source": [
    "# To CSV"
   ]
  },
  {
   "cell_type": "code",
   "execution_count": 77,
   "id": "0de55ee4",
   "metadata": {},
   "outputs": [],
   "source": [
    "import pandas as pd\n",
    "\n",
    "def Download(URL, name, year):\n",
    "    # Appel des fonctions de crawling pour récupérer les statistiques des joueurs\n",
    "    stats_summary = crawling_player_summary(URL)\n",
    "    print('player stats summary : done')\n",
    "    stats_defensive = crawling_player_defensive(URL)\n",
    "    print('player stats defensive : done')\n",
    "    stats_offensive = crawling_player_offensive(URL)\n",
    "    print('player stats offensive : done')\n",
    "    stats_passing = crawling_player_passing(URL)\n",
    "    print('player stats passing : done')\n",
    "    \n",
    "    # Sauvegarde des données dans des fichiers CSV\n",
    "    summary_file_name = name + '-Summary-' + year + '.csv'\n",
    "    stats_summary_df = pd.DataFrame(stats_summary)\n",
    "    stats_summary_df.to_csv(summary_file_name, index=False)\n",
    "    print(f'player stats summary saved to {summary_file_name}')\n",
    "    \n",
    "    defensive_file_name = name + '-Defensive-' + year + '.csv'\n",
    "    stats_defensive_df = pd.DataFrame(stats_defensive)\n",
    "    stats_defensive_df.to_csv(defensive_file_name, index=False)\n",
    "    print(f'player stats defensive saved to {defensive_file_name}')\n",
    "    \n",
    "    offensive_file_name = name + '-Offensive-' + year + '.csv'\n",
    "    stats_offensive_df = pd.DataFrame(stats_offensive)\n",
    "    stats_offensive_df.to_csv(offensive_file_name, index=False)\n",
    "    print(f'player stats offensive saved to {offensive_file_name}')\n",
    "    \n",
    "    passing_file_name = name + '-Passing-' + year + '.csv'\n",
    "    stats_passing_df = pd.DataFrame(stats_passing)\n",
    "    stats_passing_df.to_csv(passing_file_name, index=False)\n",
    "    print(f'player stats passing saved to {passing_file_name}')\n",
    "    \n",
    "    # Retourne le téléchargement de chacun des CSV\n",
    "    return (summary_file_name, defensive_file_name, offensive_file_name, passing_file_name)"
   ]
  },
  {
   "cell_type": "code",
   "execution_count": 98,
   "id": "c20a2635",
   "metadata": {},
   "outputs": [],
   "source": [
    "import pandas as pd\n",
    "\n",
    "def Download(URL, name, year):\n",
    "    # Appel des fonctions de crawling pour récupérer les statistiques des joueurs\n",
    "    stats_offensive = crawling_player_offensive(URL)\n",
    "    print('player stats offensive : done')\n",
    "    \n",
    "    offensive_file_name = name + '-Offensive-' + year + '.csv'\n",
    "    stats_offensive_df = pd.DataFrame(stats_offensive)\n",
    "    stats_offensive_df.to_csv(offensive_file_name, index=False)\n",
    "    print(f'player stats offensive saved to {offensive_file_name}')\n",
    "    \n",
    "    # Retourne le téléchargement de chacun des CSV\n",
    "    return (offensive_file_name)"
   ]
  },
  {
   "cell_type": "code",
   "execution_count": 99,
   "id": "28927e79",
   "metadata": {},
   "outputs": [
    {
     "name": "stderr",
     "output_type": "stream",
     "text": [
      "C:\\Users\\lucas\\AppData\\Local\\Temp\\ipykernel_75360\\3162353173.py:13: DeprecationWarning: executable_path has been deprecated, please pass in a Service object\n",
      "  driver = webdriver.Chrome('./chromedriver')\n"
     ]
    },
    {
     "name": "stdout",
     "output_type": "stream",
     "text": [
      "page 30: 100%|█████████████████████████████████████████████████████████████████████████| 30/30 [04:10<00:00,  8.34s/it]\n",
      "player stats offensive : done\n",
      "player stats offensive saved to PremierLeague-Offensive-2019-2020.csv\n"
     ]
    },
    {
     "name": "stderr",
     "output_type": "stream",
     "text": [
      "C:\\Users\\lucas\\AppData\\Local\\Temp\\ipykernel_75360\\3162353173.py:13: DeprecationWarning: executable_path has been deprecated, please pass in a Service object\n",
      "  driver = webdriver.Chrome('./chromedriver')\n"
     ]
    },
    {
     "name": "stdout",
     "output_type": "stream",
     "text": [
      "page 30: 100%|█████████████████████████████████████████████████████████████████████████| 30/30 [03:29<00:00,  6.99s/it]\n",
      "player stats offensive : done\n",
      "player stats offensive saved to PremierLeague-Offensive-2020-2021.csv\n"
     ]
    }
   ],
   "source": [
    "PL1920 = Download(URLPL1920, 'PremierLeague', '2019-2020')\n",
    "PL2021 = Download(URLPL2021, 'PremierLeague', '2020-2021')"
   ]
  },
  {
   "cell_type": "code",
   "execution_count": 100,
   "id": "7f60d533",
   "metadata": {
    "scrolled": true
   },
   "outputs": [
    {
     "name": "stderr",
     "output_type": "stream",
     "text": [
      "C:\\Users\\lucas\\AppData\\Local\\Temp\\ipykernel_75360\\3162353173.py:13: DeprecationWarning: executable_path has been deprecated, please pass in a Service object\n",
      "  driver = webdriver.Chrome('./chromedriver')\n"
     ]
    },
    {
     "name": "stdout",
     "output_type": "stream",
     "text": [
      "page 30: 100%|█████████████████████████████████████████████████████████████████████████| 30/30 [03:30<00:00,  7.03s/it]\n",
      "player stats offensive : done\n",
      "player stats offensive saved to PremierLeague-Offensive-2021-2022.csv\n"
     ]
    },
    {
     "name": "stderr",
     "output_type": "stream",
     "text": [
      "C:\\Users\\lucas\\AppData\\Local\\Temp\\ipykernel_75360\\3162353173.py:13: DeprecationWarning: executable_path has been deprecated, please pass in a Service object\n",
      "  driver = webdriver.Chrome('./chromedriver')\n"
     ]
    },
    {
     "name": "stdout",
     "output_type": "stream",
     "text": [
      "page 31: 100%|█████████████████████████████████████████████████████████████████████████| 31/31 [03:45<00:00,  7.29s/it]\n",
      "player stats offensive : done\n",
      "player stats offensive saved to PremierLeague-Offensive-2022-2023.csv\n"
     ]
    }
   ],
   "source": [
    "PL2122 = Download(URLPL2122, 'PremierLeague', '2021-2022')\n",
    "PL2223 = Download(URLPL2223, 'PremierLeague', '2022-2023')"
   ]
  },
  {
   "cell_type": "code",
   "execution_count": 101,
   "id": "4395fbe6",
   "metadata": {},
   "outputs": [
    {
     "name": "stderr",
     "output_type": "stream",
     "text": [
      "C:\\Users\\lucas\\AppData\\Local\\Temp\\ipykernel_75360\\3162353173.py:13: DeprecationWarning: executable_path has been deprecated, please pass in a Service object\n",
      "  driver = webdriver.Chrome('./chromedriver')\n"
     ]
    },
    {
     "name": "stdout",
     "output_type": "stream",
     "text": [
      "page 27: 100%|█████████████████████████████████████████████████████████████████████████| 27/27 [03:25<00:00,  7.61s/it]\n",
      "player stats offensive : done\n",
      "player stats offensive saved to Bundesliga-Offensive-2019-2020.csv\n"
     ]
    },
    {
     "name": "stderr",
     "output_type": "stream",
     "text": [
      "C:\\Users\\lucas\\AppData\\Local\\Temp\\ipykernel_75360\\3162353173.py:13: DeprecationWarning: executable_path has been deprecated, please pass in a Service object\n",
      "  driver = webdriver.Chrome('./chromedriver')\n"
     ]
    },
    {
     "name": "stdout",
     "output_type": "stream",
     "text": [
      "page 29: 100%|█████████████████████████████████████████████████████████████████████████| 29/29 [03:37<00:00,  7.50s/it]\n",
      "player stats offensive : done\n",
      "player stats offensive saved to Bundesliga-Offensive-2019-2020.csv\n"
     ]
    },
    {
     "name": "stderr",
     "output_type": "stream",
     "text": [
      "C:\\Users\\lucas\\AppData\\Local\\Temp\\ipykernel_75360\\3162353173.py:13: DeprecationWarning: executable_path has been deprecated, please pass in a Service object\n",
      "  driver = webdriver.Chrome('./chromedriver')\n"
     ]
    },
    {
     "name": "stdout",
     "output_type": "stream",
     "text": [
      "page 30: 100%|█████████████████████████████████████████████████████████████████████████| 30/30 [03:40<00:00,  7.34s/it]\n",
      "player stats offensive : done\n",
      "player stats offensive saved to Bundesliga-Offensive-2020-2021.csv\n"
     ]
    },
    {
     "name": "stderr",
     "output_type": "stream",
     "text": [
      "C:\\Users\\lucas\\AppData\\Local\\Temp\\ipykernel_75360\\3162353173.py:13: DeprecationWarning: executable_path has been deprecated, please pass in a Service object\n",
      "  driver = webdriver.Chrome('./chromedriver')\n"
     ]
    },
    {
     "name": "stdout",
     "output_type": "stream",
     "text": [
      "page 29: 100%|█████████████████████████████████████████████████████████████████████████| 29/29 [03:26<00:00,  7.12s/it]\n",
      "player stats offensive : done\n",
      "player stats offensive saved to Bundesliga-Offensive-2022-2023.csv\n"
     ]
    }
   ],
   "source": [
    "BD1920 = Download(URLBD1920, 'Bundesliga', '2019-2020')\n",
    "BD2021 = Download(URLBD2021, 'Bundesliga','2019-2020')\n",
    "BD2122 = Download(URLBD2122, 'Bundesliga', '2020-2021')\n",
    "BD2223 = Download(URLBD2223, 'Bundesliga', '2022-2023')"
   ]
  },
  {
   "cell_type": "code",
   "execution_count": 102,
   "id": "0adfaf16",
   "metadata": {},
   "outputs": [
    {
     "name": "stderr",
     "output_type": "stream",
     "text": [
      "C:\\Users\\lucas\\AppData\\Local\\Temp\\ipykernel_75360\\3162353173.py:13: DeprecationWarning: executable_path has been deprecated, please pass in a Service object\n",
      "  driver = webdriver.Chrome('./chromedriver')\n"
     ]
    },
    {
     "name": "stdout",
     "output_type": "stream",
     "text": [
      "page 31: 100%|█████████████████████████████████████████████████████████████████████████| 31/31 [03:49<00:00,  7.41s/it]\n",
      "player stats offensive : done\n",
      "player stats offensive saved to SerieA-Offensive-2019-2020.csv\n"
     ]
    },
    {
     "name": "stderr",
     "output_type": "stream",
     "text": [
      "C:\\Users\\lucas\\AppData\\Local\\Temp\\ipykernel_75360\\3162353173.py:13: DeprecationWarning: executable_path has been deprecated, please pass in a Service object\n",
      "  driver = webdriver.Chrome('./chromedriver')\n"
     ]
    },
    {
     "name": "stdout",
     "output_type": "stream",
     "text": [
      "page 35: 100%|█████████████████████████████████████████████████████████████████████████| 35/35 [04:27<00:00,  7.63s/it]\n",
      "player stats offensive : done\n",
      "player stats offensive saved to SerieA-Offensive-2020-2021.csv\n"
     ]
    },
    {
     "name": "stderr",
     "output_type": "stream",
     "text": [
      "C:\\Users\\lucas\\AppData\\Local\\Temp\\ipykernel_75360\\3162353173.py:13: DeprecationWarning: executable_path has been deprecated, please pass in a Service object\n",
      "  driver = webdriver.Chrome('./chromedriver')\n"
     ]
    },
    {
     "name": "stdout",
     "output_type": "stream",
     "text": [
      "page 34: 100%|█████████████████████████████████████████████████████████████████████████| 34/34 [04:08<00:00,  7.30s/it]\n",
      "player stats offensive : done\n",
      "player stats offensive saved to SerieA-Offensive-2020-2021.csv\n"
     ]
    },
    {
     "name": "stderr",
     "output_type": "stream",
     "text": [
      "C:\\Users\\lucas\\AppData\\Local\\Temp\\ipykernel_75360\\3162353173.py:13: DeprecationWarning: executable_path has been deprecated, please pass in a Service object\n",
      "  driver = webdriver.Chrome('./chromedriver')\n"
     ]
    },
    {
     "name": "stdout",
     "output_type": "stream",
     "text": [
      "page 34: 100%|█████████████████████████████████████████████████████████████████████████| 34/34 [04:03<00:00,  7.17s/it]\n",
      "player stats offensive : done\n",
      "player stats offensive saved to SerieA-Offensive-2022-2023.csv\n"
     ]
    }
   ],
   "source": [
    "SA1920 = Download(URLSA1920, 'SerieA', '2019-2020')\n",
    "SA2021 = Download(URLSA2021, 'SerieA', '2020-2021')\n",
    "SA2122 = Download(URLSA2122, 'SerieA', '2020-2021')\n",
    "SA2223 = Download(URLSA2223, 'SerieA', '2022-2023')"
   ]
  },
  {
   "cell_type": "code",
   "execution_count": 104,
   "id": "7a9dd949",
   "metadata": {},
   "outputs": [
    {
     "name": "stderr",
     "output_type": "stream",
     "text": [
      "C:\\Users\\lucas\\AppData\\Local\\Temp\\ipykernel_75360\\3162353173.py:13: DeprecationWarning: executable_path has been deprecated, please pass in a Service object\n",
      "  driver = webdriver.Chrome('./chromedriver')\n"
     ]
    },
    {
     "name": "stdout",
     "output_type": "stream",
     "text": [
      "page 31: 100%|█████████████████████████████████████████████████████████████████████████| 31/31 [03:42<00:00,  7.18s/it]\n",
      "player stats offensive : done\n",
      "player stats offensive saved to Ligue1-Offensive-2019-2020.csv\n"
     ]
    },
    {
     "name": "stderr",
     "output_type": "stream",
     "text": [
      "C:\\Users\\lucas\\AppData\\Local\\Temp\\ipykernel_75360\\3162353173.py:13: DeprecationWarning: executable_path has been deprecated, please pass in a Service object\n",
      "  driver = webdriver.Chrome('./chromedriver')\n"
     ]
    },
    {
     "name": "stdout",
     "output_type": "stream",
     "text": [
      "page 34: 100%|█████████████████████████████████████████████████████████████████████████| 34/34 [04:15<00:00,  7.52s/it]\n",
      "player stats offensive : done\n",
      "player stats offensive saved to Ligue1-Offensive-2019-2020.csv\n"
     ]
    },
    {
     "name": "stderr",
     "output_type": "stream",
     "text": [
      "C:\\Users\\lucas\\AppData\\Local\\Temp\\ipykernel_75360\\3162353173.py:13: DeprecationWarning: executable_path has been deprecated, please pass in a Service object\n",
      "  driver = webdriver.Chrome('./chromedriver')\n"
     ]
    },
    {
     "name": "stdout",
     "output_type": "stream",
     "text": [
      "page 31: 100%|█████████████████████████████████████████████████████████████████████████| 31/31 [03:47<00:00,  7.35s/it]\n",
      "player stats offensive : done\n",
      "player stats offensive saved to Ligue1-Offensive-2020-2021.csv\n"
     ]
    },
    {
     "name": "stderr",
     "output_type": "stream",
     "text": [
      "C:\\Users\\lucas\\AppData\\Local\\Temp\\ipykernel_75360\\3162353173.py:13: DeprecationWarning: executable_path has been deprecated, please pass in a Service object\n",
      "  driver = webdriver.Chrome('./chromedriver')\n"
     ]
    },
    {
     "name": "stdout",
     "output_type": "stream",
     "text": [
      "page 32: 100%|█████████████████████████████████████████████████████████████████████████| 32/32 [04:13<00:00,  7.92s/it]\n",
      "player stats offensive : done\n",
      "player stats offensive saved to Ligue1-Offensive-2022-2023.csv\n"
     ]
    }
   ],
   "source": [
    "LONE1920 = Download(URLLONE1920, 'Ligue1', '2019-2020')\n",
    "LONE2021 = Download(URLLONE2021, 'Ligue1', '2019-2020')\n",
    "LONE2122 = Download(URLLONE2122, 'Ligue1', '2020-2021')\n",
    "LONE2223 = Download(URLLONE2223, 'Ligue1', '2022-2023')"
   ]
  },
  {
   "cell_type": "code",
   "execution_count": null,
   "id": "c7014985",
   "metadata": {},
   "outputs": [
    {
     "name": "stderr",
     "output_type": "stream",
     "text": [
      "C:\\Users\\lucas\\AppData\\Local\\Temp\\ipykernel_75360\\3162353173.py:13: DeprecationWarning: executable_path has been deprecated, please pass in a Service object\n",
      "  driver = webdriver.Chrome('./chromedriver')\n"
     ]
    },
    {
     "name": "stdout",
     "output_type": "stream",
     "text": [
      "page 16:  53%|██████████████████████████████████████▉                                  | 16/30 [01:51<01:48,  7.76s/it]"
     ]
    }
   ],
   "source": [
    "LIGA1920 = Download(URLLIGA1920, 'LaLiga','2019-2020')\n",
    "LIGA2021 = Download(URLLIGA2021, 'LaLiga','2019-2020')\n",
    "LIGA2122 = Download(URLLIGA2122, 'LaLiga', '2020-2021')\n",
    "LIGA2223 = Download(URLLIGA2223, 'LaLiga', '2022-2023')"
   ]
  },
  {
   "cell_type": "code",
   "execution_count": 87,
   "id": "3421c617",
   "metadata": {},
   "outputs": [],
   "source": [
    "URLPL1920 = 'https://1xbet.whoscored.com/Regions/252/Tournaments/2/Seasons/8618/Stages/12496/PlayerStatistics/England-Premier-League-2019-2020'\n",
    "URLPL2021 = 'https://1xbet.whoscored.com/Regions/252/Tournaments/2/Seasons/8228/Stages/18685/PlayerStatistics/England-Premier-League-2020-2021'\n",
    "URLPL2122 = 'https://1xbet.whoscored.com/Regions/252/Tournaments/2/Seasons/8618/Stages/19793/PlayerStatistics/England-Premier-League-2021-2022'\n",
    "URLPL2223 = 'https://1xbet.whoscored.com/Regions/252/Tournaments/2/Seasons/9075/Stages/20934/PlayerStatistics/England-Premier-League-2022-2023'"
   ]
  },
  {
   "cell_type": "code",
   "execution_count": 88,
   "id": "8cb1f6ec",
   "metadata": {},
   "outputs": [
    {
     "name": "stderr",
     "output_type": "stream",
     "text": [
      "C:\\Users\\lucas\\AppData\\Local\\Temp\\ipykernel_75360\\4206667366.py:13: DeprecationWarning: executable_path has been deprecated, please pass in a Service object\n",
      "  driver = webdriver.Chrome('./chromedriver')\n"
     ]
    },
    {
     "name": "stdout",
     "output_type": "stream",
     "text": [
      "page 30: 100%|█████████████████████████████████████████████████████████████████████████| 30/30 [03:46<00:00,  7.54s/it]\n",
      "player stats summary : done\n"
     ]
    },
    {
     "name": "stderr",
     "output_type": "stream",
     "text": [
      "C:\\Users\\lucas\\AppData\\Local\\Temp\\ipykernel_75360\\2573841616.py:13: DeprecationWarning: executable_path has been deprecated, please pass in a Service object\n",
      "  driver = webdriver.Chrome('./chromedriver')\n"
     ]
    },
    {
     "name": "stdout",
     "output_type": "stream",
     "text": [
      "page 30: 100%|█████████████████████████████████████████████████████████████████████████| 30/30 [03:31<00:00,  7.06s/it]\n",
      "player stats defensive : done\n"
     ]
    },
    {
     "name": "stderr",
     "output_type": "stream",
     "text": [
      "C:\\Users\\lucas\\AppData\\Local\\Temp\\ipykernel_75360\\2937695269.py:13: DeprecationWarning: executable_path has been deprecated, please pass in a Service object\n",
      "  driver = webdriver.Chrome('./chromedriver')\n"
     ]
    },
    {
     "name": "stdout",
     "output_type": "stream",
     "text": [
      "page 30: 100%|█████████████████████████████████████████████████████████████████████████| 30/30 [04:47<00:00,  9.60s/it]\n",
      "player stats offensive : done\n"
     ]
    },
    {
     "name": "stderr",
     "output_type": "stream",
     "text": [
      "C:\\Users\\lucas\\AppData\\Local\\Temp\\ipykernel_75360\\167999107.py:3: DeprecationWarning: executable_path has been deprecated, please pass in a Service object\n",
      "  driver = webdriver.Chrome('./chromedriver')\n"
     ]
    },
    {
     "name": "stdout",
     "output_type": "stream",
     "text": [
      "page 30: 100%|█████████████████████████████████████████████████████████████████████████| 30/30 [03:35<00:00,  7.19s/it]\n",
      "player stats passing : done\n",
      "player stats summary saved to PremierLeague-Summary-2019-2020.csv\n",
      "player stats defensive saved to PremierLeague-Defensive-2019-2020.csv\n",
      "player stats offensive saved to PremierLeague-Offensive-2019-2020.csv\n",
      "player stats passing saved to PremierLeague-Passing-2019-2020.csv\n"
     ]
    },
    {
     "name": "stderr",
     "output_type": "stream",
     "text": [
      "C:\\Users\\lucas\\AppData\\Local\\Temp\\ipykernel_75360\\4206667366.py:13: DeprecationWarning: executable_path has been deprecated, please pass in a Service object\n",
      "  driver = webdriver.Chrome('./chromedriver')\n"
     ]
    },
    {
     "name": "stdout",
     "output_type": "stream",
     "text": [
      "page 30: 100%|█████████████████████████████████████████████████████████████████████████| 30/30 [03:37<00:00,  7.27s/it]\n",
      "player stats summary : done\n"
     ]
    },
    {
     "name": "stderr",
     "output_type": "stream",
     "text": [
      "C:\\Users\\lucas\\AppData\\Local\\Temp\\ipykernel_75360\\2573841616.py:13: DeprecationWarning: executable_path has been deprecated, please pass in a Service object\n",
      "  driver = webdriver.Chrome('./chromedriver')\n"
     ]
    },
    {
     "name": "stdout",
     "output_type": "stream",
     "text": [
      "page 30: 100%|█████████████████████████████████████████████████████████████████████████| 30/30 [03:34<00:00,  7.16s/it]\n",
      "player stats defensive : done\n"
     ]
    },
    {
     "name": "stderr",
     "output_type": "stream",
     "text": [
      "C:\\Users\\lucas\\AppData\\Local\\Temp\\ipykernel_75360\\2937695269.py:13: DeprecationWarning: executable_path has been deprecated, please pass in a Service object\n",
      "  driver = webdriver.Chrome('./chromedriver')\n"
     ]
    },
    {
     "name": "stdout",
     "output_type": "stream",
     "text": [
      "page 30: 100%|█████████████████████████████████████████████████████████████████████████| 30/30 [06:22<00:00, 12.76s/it]\n",
      "player stats offensive : done\n"
     ]
    },
    {
     "name": "stderr",
     "output_type": "stream",
     "text": [
      "C:\\Users\\lucas\\AppData\\Local\\Temp\\ipykernel_75360\\167999107.py:3: DeprecationWarning: executable_path has been deprecated, please pass in a Service object\n",
      "  driver = webdriver.Chrome('./chromedriver')\n"
     ]
    },
    {
     "name": "stdout",
     "output_type": "stream",
     "text": [
      "page 30: 100%|█████████████████████████████████████████████████████████████████████████| 30/30 [20:54<00:00, 41.81s/it]\n",
      "player stats passing : done\n",
      "player stats summary saved to PremierLeague-Summary-2020-2021.csv\n",
      "player stats defensive saved to PremierLeague-Defensive-2020-2021.csv\n",
      "player stats offensive saved to PremierLeague-Offensive-2020-2021.csv\n",
      "player stats passing saved to PremierLeague-Passing-2020-2021.csv\n"
     ]
    },
    {
     "name": "stderr",
     "output_type": "stream",
     "text": [
      "C:\\Users\\lucas\\AppData\\Local\\Temp\\ipykernel_75360\\4206667366.py:13: DeprecationWarning: executable_path has been deprecated, please pass in a Service object\n",
      "  driver = webdriver.Chrome('./chromedriver')\n"
     ]
    },
    {
     "name": "stdout",
     "output_type": "stream",
     "text": [
      "page 30: 100%|█████████████████████████████████████████████████████████████████████████| 30/30 [03:58<00:00,  7.96s/it]\n",
      "player stats summary : done\n"
     ]
    },
    {
     "name": "stderr",
     "output_type": "stream",
     "text": [
      "C:\\Users\\lucas\\AppData\\Local\\Temp\\ipykernel_75360\\2573841616.py:13: DeprecationWarning: executable_path has been deprecated, please pass in a Service object\n",
      "  driver = webdriver.Chrome('./chromedriver')\n"
     ]
    },
    {
     "name": "stdout",
     "output_type": "stream",
     "text": [
      "page 30: 100%|█████████████████████████████████████████████████████████████████████████| 30/30 [03:27<00:00,  6.90s/it]\n",
      "player stats defensive : done\n"
     ]
    },
    {
     "name": "stderr",
     "output_type": "stream",
     "text": [
      "C:\\Users\\lucas\\AppData\\Local\\Temp\\ipykernel_75360\\2937695269.py:13: DeprecationWarning: executable_path has been deprecated, please pass in a Service object\n",
      "  driver = webdriver.Chrome('./chromedriver')\n"
     ]
    },
    {
     "name": "stdout",
     "output_type": "stream",
     "text": [
      "page 30: 100%|█████████████████████████████████████████████████████████████████████████| 30/30 [03:43<00:00,  7.46s/it]\n",
      "player stats offensive : done\n"
     ]
    },
    {
     "name": "stderr",
     "output_type": "stream",
     "text": [
      "C:\\Users\\lucas\\AppData\\Local\\Temp\\ipykernel_75360\\167999107.py:3: DeprecationWarning: executable_path has been deprecated, please pass in a Service object\n",
      "  driver = webdriver.Chrome('./chromedriver')\n"
     ]
    },
    {
     "ename": "NoSuchElementException",
     "evalue": "Message: no such element: Unable to locate element: {\"method\":\"xpath\",\"selector\":\"//*[@id=\"qc-cmp2-ui\"]/div[2]/div/button[2]\"}\n  (Session info: chrome=110.0.5481.177)\nStacktrace:\nBacktrace:\n\t(No symbol) [0x00E837D3]\n\t(No symbol) [0x00E18B81]\n\t(No symbol) [0x00D1B36D]\n\t(No symbol) [0x00D4D382]\n\t(No symbol) [0x00D4D4BB]\n\t(No symbol) [0x00D83302]\n\t(No symbol) [0x00D6B464]\n\t(No symbol) [0x00D81215]\n\t(No symbol) [0x00D6B216]\n\t(No symbol) [0x00D40D97]\n\t(No symbol) [0x00D4253D]\n\tGetHandleVerifier [0x010FABF2+2510930]\n\tGetHandleVerifier [0x01128EC1+2700065]\n\tGetHandleVerifier [0x0112C86C+2714828]\n\tGetHandleVerifier [0x00F33480+645344]\n\t(No symbol) [0x00E20FD2]\n\t(No symbol) [0x00E26C68]\n\t(No symbol) [0x00E26D4B]\n\t(No symbol) [0x00E30D6B]\n\tBaseThreadInitThunk [0x76F17D69+25]\n\tRtlInitializeExceptionChain [0x774EBB9B+107]\n\tRtlClearBits [0x774EBB1F+191]\n",
     "output_type": "error",
     "traceback": [
      "\u001b[1;31m---------------------------------------------------------------------------\u001b[0m",
      "\u001b[1;31mNoSuchElementException\u001b[0m                    Traceback (most recent call last)",
      "\u001b[1;32m~\\AppData\\Local\\Temp\\ipykernel_75360\\2405354754.py\u001b[0m in \u001b[0;36m<module>\u001b[1;34m\u001b[0m\n\u001b[0;32m      1\u001b[0m \u001b[0mPL1920\u001b[0m \u001b[1;33m=\u001b[0m \u001b[0mDownload\u001b[0m\u001b[1;33m(\u001b[0m\u001b[0mURLPL1920\u001b[0m\u001b[1;33m,\u001b[0m \u001b[1;34m'PremierLeague'\u001b[0m\u001b[1;33m,\u001b[0m \u001b[1;34m'2019-2020'\u001b[0m\u001b[1;33m)\u001b[0m\u001b[1;33m\u001b[0m\u001b[1;33m\u001b[0m\u001b[0m\n\u001b[0;32m      2\u001b[0m \u001b[0mPL2021\u001b[0m \u001b[1;33m=\u001b[0m \u001b[0mDownload\u001b[0m\u001b[1;33m(\u001b[0m\u001b[0mURLPL2021\u001b[0m\u001b[1;33m,\u001b[0m \u001b[1;34m'PremierLeague'\u001b[0m\u001b[1;33m,\u001b[0m \u001b[1;34m'2020-2021'\u001b[0m\u001b[1;33m)\u001b[0m\u001b[1;33m\u001b[0m\u001b[1;33m\u001b[0m\u001b[0m\n\u001b[1;32m----> 3\u001b[1;33m \u001b[0mPL2122\u001b[0m \u001b[1;33m=\u001b[0m \u001b[0mDownload\u001b[0m\u001b[1;33m(\u001b[0m\u001b[0mURLPL2122\u001b[0m\u001b[1;33m,\u001b[0m \u001b[1;34m'PremierLeague'\u001b[0m\u001b[1;33m,\u001b[0m \u001b[1;34m'2021-2022'\u001b[0m\u001b[1;33m)\u001b[0m\u001b[1;33m\u001b[0m\u001b[1;33m\u001b[0m\u001b[0m\n\u001b[0m\u001b[0;32m      4\u001b[0m \u001b[0mPL2223\u001b[0m \u001b[1;33m=\u001b[0m \u001b[0mDownload\u001b[0m\u001b[1;33m(\u001b[0m\u001b[0mURLPL2223\u001b[0m\u001b[1;33m,\u001b[0m \u001b[1;34m'PremierLeague'\u001b[0m\u001b[1;33m,\u001b[0m \u001b[1;34m'2022-2023'\u001b[0m\u001b[1;33m)\u001b[0m\u001b[1;33m\u001b[0m\u001b[1;33m\u001b[0m\u001b[0m\n",
      "\u001b[1;32m~\\AppData\\Local\\Temp\\ipykernel_75360\\3587461606.py\u001b[0m in \u001b[0;36mDownload\u001b[1;34m(URL, name, year)\u001b[0m\n\u001b[0;32m      9\u001b[0m     \u001b[0mstats_offensive\u001b[0m \u001b[1;33m=\u001b[0m \u001b[0mcrawling_player_offensive\u001b[0m\u001b[1;33m(\u001b[0m\u001b[0mURL\u001b[0m\u001b[1;33m)\u001b[0m\u001b[1;33m\u001b[0m\u001b[1;33m\u001b[0m\u001b[0m\n\u001b[0;32m     10\u001b[0m     \u001b[0mprint\u001b[0m\u001b[1;33m(\u001b[0m\u001b[1;34m'player stats offensive : done'\u001b[0m\u001b[1;33m)\u001b[0m\u001b[1;33m\u001b[0m\u001b[1;33m\u001b[0m\u001b[0m\n\u001b[1;32m---> 11\u001b[1;33m     \u001b[0mstats_passing\u001b[0m \u001b[1;33m=\u001b[0m \u001b[0mcrawling_player_passing\u001b[0m\u001b[1;33m(\u001b[0m\u001b[0mURL\u001b[0m\u001b[1;33m)\u001b[0m\u001b[1;33m\u001b[0m\u001b[1;33m\u001b[0m\u001b[0m\n\u001b[0m\u001b[0;32m     12\u001b[0m     \u001b[0mprint\u001b[0m\u001b[1;33m(\u001b[0m\u001b[1;34m'player stats passing : done'\u001b[0m\u001b[1;33m)\u001b[0m\u001b[1;33m\u001b[0m\u001b[1;33m\u001b[0m\u001b[0m\n\u001b[0;32m     13\u001b[0m \u001b[1;33m\u001b[0m\u001b[0m\n",
      "\u001b[1;32m~\\AppData\\Local\\Temp\\ipykernel_75360\\167999107.py\u001b[0m in \u001b[0;36mcrawling_player_passing\u001b[1;34m(URL)\u001b[0m\n\u001b[0;32m      3\u001b[0m     \u001b[0mdriver\u001b[0m \u001b[1;33m=\u001b[0m \u001b[0mwebdriver\u001b[0m\u001b[1;33m.\u001b[0m\u001b[0mChrome\u001b[0m\u001b[1;33m(\u001b[0m\u001b[1;34m'./chromedriver'\u001b[0m\u001b[1;33m)\u001b[0m\u001b[1;33m\u001b[0m\u001b[1;33m\u001b[0m\u001b[0m\n\u001b[0;32m      4\u001b[0m     \u001b[0mdriver\u001b[0m\u001b[1;33m.\u001b[0m\u001b[0mget\u001b[0m\u001b[1;33m(\u001b[0m\u001b[0murl\u001b[0m\u001b[1;33m)\u001b[0m\u001b[1;33m\u001b[0m\u001b[1;33m\u001b[0m\u001b[0m\n\u001b[1;32m----> 5\u001b[1;33m     \u001b[0mdriver\u001b[0m\u001b[1;33m.\u001b[0m\u001b[0mfind_element\u001b[0m\u001b[1;33m(\u001b[0m\u001b[0mBy\u001b[0m\u001b[1;33m.\u001b[0m\u001b[0mXPATH\u001b[0m\u001b[1;33m,\u001b[0m \u001b[1;34m'//*[@id=\"qc-cmp2-ui\"]/div[2]/div/button[2]'\u001b[0m\u001b[1;33m)\u001b[0m\u001b[1;33m.\u001b[0m\u001b[0mclick\u001b[0m\u001b[1;33m(\u001b[0m\u001b[1;33m)\u001b[0m\u001b[1;33m\u001b[0m\u001b[1;33m\u001b[0m\u001b[0m\n\u001b[0m\u001b[0;32m      6\u001b[0m     \u001b[0mtime\u001b[0m\u001b[1;33m.\u001b[0m\u001b[0msleep\u001b[0m\u001b[1;33m(\u001b[0m\u001b[1;36m3\u001b[0m\u001b[1;33m)\u001b[0m\u001b[1;33m\u001b[0m\u001b[1;33m\u001b[0m\u001b[0m\n\u001b[0;32m      7\u001b[0m     \u001b[0mdriver\u001b[0m\u001b[1;33m.\u001b[0m\u001b[0mset_window_size\u001b[0m\u001b[1;33m(\u001b[0m\u001b[1;36m1552\u001b[0m\u001b[1;33m,\u001b[0m \u001b[1;36m832\u001b[0m\u001b[1;33m)\u001b[0m\u001b[1;33m\u001b[0m\u001b[1;33m\u001b[0m\u001b[0m\n",
      "\u001b[1;32m~\\AppData\\Roaming\\Python\\Python39\\site-packages\\selenium\\webdriver\\remote\\webdriver.py\u001b[0m in \u001b[0;36mfind_element\u001b[1;34m(self, by, value)\u001b[0m\n\u001b[0;32m    828\u001b[0m             \u001b[0mvalue\u001b[0m \u001b[1;33m=\u001b[0m \u001b[1;34mf'[name=\"{value}\"]'\u001b[0m\u001b[1;33m\u001b[0m\u001b[1;33m\u001b[0m\u001b[0m\n\u001b[0;32m    829\u001b[0m \u001b[1;33m\u001b[0m\u001b[0m\n\u001b[1;32m--> 830\u001b[1;33m         \u001b[1;32mreturn\u001b[0m \u001b[0mself\u001b[0m\u001b[1;33m.\u001b[0m\u001b[0mexecute\u001b[0m\u001b[1;33m(\u001b[0m\u001b[0mCommand\u001b[0m\u001b[1;33m.\u001b[0m\u001b[0mFIND_ELEMENT\u001b[0m\u001b[1;33m,\u001b[0m \u001b[1;33m{\u001b[0m\u001b[1;34m\"using\"\u001b[0m\u001b[1;33m:\u001b[0m \u001b[0mby\u001b[0m\u001b[1;33m,\u001b[0m \u001b[1;34m\"value\"\u001b[0m\u001b[1;33m:\u001b[0m \u001b[0mvalue\u001b[0m\u001b[1;33m}\u001b[0m\u001b[1;33m)\u001b[0m\u001b[1;33m[\u001b[0m\u001b[1;34m\"value\"\u001b[0m\u001b[1;33m]\u001b[0m\u001b[1;33m\u001b[0m\u001b[1;33m\u001b[0m\u001b[0m\n\u001b[0m\u001b[0;32m    831\u001b[0m \u001b[1;33m\u001b[0m\u001b[0m\n\u001b[0;32m    832\u001b[0m     \u001b[1;32mdef\u001b[0m \u001b[0mfind_elements\u001b[0m\u001b[1;33m(\u001b[0m\u001b[0mself\u001b[0m\u001b[1;33m,\u001b[0m \u001b[0mby\u001b[0m\u001b[1;33m=\u001b[0m\u001b[0mBy\u001b[0m\u001b[1;33m.\u001b[0m\u001b[0mID\u001b[0m\u001b[1;33m,\u001b[0m \u001b[0mvalue\u001b[0m\u001b[1;33m:\u001b[0m \u001b[0mOptional\u001b[0m\u001b[1;33m[\u001b[0m\u001b[0mstr\u001b[0m\u001b[1;33m]\u001b[0m \u001b[1;33m=\u001b[0m \u001b[1;32mNone\u001b[0m\u001b[1;33m)\u001b[0m \u001b[1;33m->\u001b[0m \u001b[0mList\u001b[0m\u001b[1;33m[\u001b[0m\u001b[0mWebElement\u001b[0m\u001b[1;33m]\u001b[0m\u001b[1;33m:\u001b[0m\u001b[1;33m\u001b[0m\u001b[1;33m\u001b[0m\u001b[0m\n",
      "\u001b[1;32m~\\AppData\\Roaming\\Python\\Python39\\site-packages\\selenium\\webdriver\\remote\\webdriver.py\u001b[0m in \u001b[0;36mexecute\u001b[1;34m(self, driver_command, params)\u001b[0m\n\u001b[0;32m    438\u001b[0m         \u001b[0mresponse\u001b[0m \u001b[1;33m=\u001b[0m \u001b[0mself\u001b[0m\u001b[1;33m.\u001b[0m\u001b[0mcommand_executor\u001b[0m\u001b[1;33m.\u001b[0m\u001b[0mexecute\u001b[0m\u001b[1;33m(\u001b[0m\u001b[0mdriver_command\u001b[0m\u001b[1;33m,\u001b[0m \u001b[0mparams\u001b[0m\u001b[1;33m)\u001b[0m\u001b[1;33m\u001b[0m\u001b[1;33m\u001b[0m\u001b[0m\n\u001b[0;32m    439\u001b[0m         \u001b[1;32mif\u001b[0m \u001b[0mresponse\u001b[0m\u001b[1;33m:\u001b[0m\u001b[1;33m\u001b[0m\u001b[1;33m\u001b[0m\u001b[0m\n\u001b[1;32m--> 440\u001b[1;33m             \u001b[0mself\u001b[0m\u001b[1;33m.\u001b[0m\u001b[0merror_handler\u001b[0m\u001b[1;33m.\u001b[0m\u001b[0mcheck_response\u001b[0m\u001b[1;33m(\u001b[0m\u001b[0mresponse\u001b[0m\u001b[1;33m)\u001b[0m\u001b[1;33m\u001b[0m\u001b[1;33m\u001b[0m\u001b[0m\n\u001b[0m\u001b[0;32m    441\u001b[0m             \u001b[0mresponse\u001b[0m\u001b[1;33m[\u001b[0m\u001b[1;34m\"value\"\u001b[0m\u001b[1;33m]\u001b[0m \u001b[1;33m=\u001b[0m \u001b[0mself\u001b[0m\u001b[1;33m.\u001b[0m\u001b[0m_unwrap_value\u001b[0m\u001b[1;33m(\u001b[0m\u001b[0mresponse\u001b[0m\u001b[1;33m.\u001b[0m\u001b[0mget\u001b[0m\u001b[1;33m(\u001b[0m\u001b[1;34m\"value\"\u001b[0m\u001b[1;33m,\u001b[0m \u001b[1;32mNone\u001b[0m\u001b[1;33m)\u001b[0m\u001b[1;33m)\u001b[0m\u001b[1;33m\u001b[0m\u001b[1;33m\u001b[0m\u001b[0m\n\u001b[0;32m    442\u001b[0m             \u001b[1;32mreturn\u001b[0m \u001b[0mresponse\u001b[0m\u001b[1;33m\u001b[0m\u001b[1;33m\u001b[0m\u001b[0m\n",
      "\u001b[1;32m~\\AppData\\Roaming\\Python\\Python39\\site-packages\\selenium\\webdriver\\remote\\errorhandler.py\u001b[0m in \u001b[0;36mcheck_response\u001b[1;34m(self, response)\u001b[0m\n\u001b[0;32m    243\u001b[0m                 \u001b[0malert_text\u001b[0m \u001b[1;33m=\u001b[0m \u001b[0mvalue\u001b[0m\u001b[1;33m[\u001b[0m\u001b[1;34m\"alert\"\u001b[0m\u001b[1;33m]\u001b[0m\u001b[1;33m.\u001b[0m\u001b[0mget\u001b[0m\u001b[1;33m(\u001b[0m\u001b[1;34m\"text\"\u001b[0m\u001b[1;33m)\u001b[0m\u001b[1;33m\u001b[0m\u001b[1;33m\u001b[0m\u001b[0m\n\u001b[0;32m    244\u001b[0m             \u001b[1;32mraise\u001b[0m \u001b[0mexception_class\u001b[0m\u001b[1;33m(\u001b[0m\u001b[0mmessage\u001b[0m\u001b[1;33m,\u001b[0m \u001b[0mscreen\u001b[0m\u001b[1;33m,\u001b[0m \u001b[0mstacktrace\u001b[0m\u001b[1;33m,\u001b[0m \u001b[0malert_text\u001b[0m\u001b[1;33m)\u001b[0m  \u001b[1;31m# type: ignore[call-arg]  # mypy is not smart enough here\u001b[0m\u001b[1;33m\u001b[0m\u001b[1;33m\u001b[0m\u001b[0m\n\u001b[1;32m--> 245\u001b[1;33m         \u001b[1;32mraise\u001b[0m \u001b[0mexception_class\u001b[0m\u001b[1;33m(\u001b[0m\u001b[0mmessage\u001b[0m\u001b[1;33m,\u001b[0m \u001b[0mscreen\u001b[0m\u001b[1;33m,\u001b[0m \u001b[0mstacktrace\u001b[0m\u001b[1;33m)\u001b[0m\u001b[1;33m\u001b[0m\u001b[1;33m\u001b[0m\u001b[0m\n\u001b[0m",
      "\u001b[1;31mNoSuchElementException\u001b[0m: Message: no such element: Unable to locate element: {\"method\":\"xpath\",\"selector\":\"//*[@id=\"qc-cmp2-ui\"]/div[2]/div/button[2]\"}\n  (Session info: chrome=110.0.5481.177)\nStacktrace:\nBacktrace:\n\t(No symbol) [0x00E837D3]\n\t(No symbol) [0x00E18B81]\n\t(No symbol) [0x00D1B36D]\n\t(No symbol) [0x00D4D382]\n\t(No symbol) [0x00D4D4BB]\n\t(No symbol) [0x00D83302]\n\t(No symbol) [0x00D6B464]\n\t(No symbol) [0x00D81215]\n\t(No symbol) [0x00D6B216]\n\t(No symbol) [0x00D40D97]\n\t(No symbol) [0x00D4253D]\n\tGetHandleVerifier [0x010FABF2+2510930]\n\tGetHandleVerifier [0x01128EC1+2700065]\n\tGetHandleVerifier [0x0112C86C+2714828]\n\tGetHandleVerifier [0x00F33480+645344]\n\t(No symbol) [0x00E20FD2]\n\t(No symbol) [0x00E26C68]\n\t(No symbol) [0x00E26D4B]\n\t(No symbol) [0x00E30D6B]\n\tBaseThreadInitThunk [0x76F17D69+25]\n\tRtlInitializeExceptionChain [0x774EBB9B+107]\n\tRtlClearBits [0x774EBB1F+191]\n"
     ]
    }
   ],
   "source": [
    "PL1920 = Download(URLPL1920, 'PremierLeague', '2019-2020')\n",
    "PL2021 = Download(URLPL2021, 'PremierLeague', '2020-2021')"
   ]
  },
  {
   "cell_type": "code",
   "execution_count": 91,
   "id": "c628190a",
   "metadata": {
    "scrolled": true
   },
   "outputs": [
    {
     "name": "stderr",
     "output_type": "stream",
     "text": [
      "C:\\Users\\lucas\\AppData\\Local\\Temp\\ipykernel_75360\\4206667366.py:13: DeprecationWarning: executable_path has been deprecated, please pass in a Service object\n",
      "  driver = webdriver.Chrome('./chromedriver')\n"
     ]
    },
    {
     "name": "stdout",
     "output_type": "stream",
     "text": [
      "page 30: 100%|█████████████████████████████████████████████████████████████████████████| 30/30 [03:40<00:00,  7.35s/it]\n",
      "player stats summary : done\n"
     ]
    },
    {
     "name": "stderr",
     "output_type": "stream",
     "text": [
      "C:\\Users\\lucas\\AppData\\Local\\Temp\\ipykernel_75360\\2573841616.py:13: DeprecationWarning: executable_path has been deprecated, please pass in a Service object\n",
      "  driver = webdriver.Chrome('./chromedriver')\n"
     ]
    },
    {
     "name": "stdout",
     "output_type": "stream",
     "text": [
      "page 30: 100%|█████████████████████████████████████████████████████████████████████████| 30/30 [03:30<00:00,  7.00s/it]\n",
      "player stats defensive : done\n"
     ]
    },
    {
     "name": "stderr",
     "output_type": "stream",
     "text": [
      "C:\\Users\\lucas\\AppData\\Local\\Temp\\ipykernel_75360\\2937695269.py:13: DeprecationWarning: executable_path has been deprecated, please pass in a Service object\n",
      "  driver = webdriver.Chrome('./chromedriver')\n"
     ]
    },
    {
     "name": "stdout",
     "output_type": "stream",
     "text": [
      "page 30: 100%|█████████████████████████████████████████████████████████████████████████| 30/30 [03:56<00:00,  7.88s/it]\n",
      "player stats offensive : done\n"
     ]
    },
    {
     "name": "stderr",
     "output_type": "stream",
     "text": [
      "C:\\Users\\lucas\\AppData\\Local\\Temp\\ipykernel_75360\\167999107.py:3: DeprecationWarning: executable_path has been deprecated, please pass in a Service object\n",
      "  driver = webdriver.Chrome('./chromedriver')\n"
     ]
    },
    {
     "name": "stdout",
     "output_type": "stream",
     "text": [
      "page 30: 100%|█████████████████████████████████████████████████████████████████████████| 30/30 [03:20<00:00,  6.67s/it]\n",
      "player stats passing : done\n",
      "player stats summary saved to PremierLeague-Summary-2021-2022.csv\n",
      "player stats defensive saved to PremierLeague-Defensive-2021-2022.csv\n",
      "player stats offensive saved to PremierLeague-Offensive-2021-2022.csv\n",
      "player stats passing saved to PremierLeague-Passing-2021-2022.csv\n"
     ]
    },
    {
     "name": "stderr",
     "output_type": "stream",
     "text": [
      "C:\\Users\\lucas\\AppData\\Local\\Temp\\ipykernel_75360\\4206667366.py:13: DeprecationWarning: executable_path has been deprecated, please pass in a Service object\n",
      "  driver = webdriver.Chrome('./chromedriver')\n"
     ]
    },
    {
     "name": "stdout",
     "output_type": "stream",
     "text": [
      "page 31: 100%|█████████████████████████████████████████████████████████████████████████| 31/31 [03:45<00:00,  7.28s/it]\n",
      "player stats summary : done\n"
     ]
    },
    {
     "name": "stderr",
     "output_type": "stream",
     "text": [
      "C:\\Users\\lucas\\AppData\\Local\\Temp\\ipykernel_75360\\2573841616.py:13: DeprecationWarning: executable_path has been deprecated, please pass in a Service object\n",
      "  driver = webdriver.Chrome('./chromedriver')\n"
     ]
    },
    {
     "name": "stdout",
     "output_type": "stream",
     "text": [
      "page 31: 100%|█████████████████████████████████████████████████████████████████████████| 31/31 [03:42<00:00,  7.17s/it]\n",
      "player stats defensive : done\n"
     ]
    },
    {
     "name": "stderr",
     "output_type": "stream",
     "text": [
      "C:\\Users\\lucas\\AppData\\Local\\Temp\\ipykernel_75360\\2937695269.py:13: DeprecationWarning: executable_path has been deprecated, please pass in a Service object\n",
      "  driver = webdriver.Chrome('./chromedriver')\n"
     ]
    },
    {
     "name": "stdout",
     "output_type": "stream",
     "text": [
      "page 31: 100%|█████████████████████████████████████████████████████████████████████████| 31/31 [03:53<00:00,  7.53s/it]\n",
      "player stats offensive : done\n"
     ]
    },
    {
     "name": "stderr",
     "output_type": "stream",
     "text": [
      "C:\\Users\\lucas\\AppData\\Local\\Temp\\ipykernel_75360\\167999107.py:3: DeprecationWarning: executable_path has been deprecated, please pass in a Service object\n",
      "  driver = webdriver.Chrome('./chromedriver')\n"
     ]
    },
    {
     "name": "stdout",
     "output_type": "stream",
     "text": [
      "page 31: 100%|█████████████████████████████████████████████████████████████████████████| 31/31 [03:29<00:00,  6.75s/it]\n",
      "player stats passing : done\n",
      "player stats summary saved to PremierLeague-Summary-2022-2023.csv\n",
      "player stats defensive saved to PremierLeague-Defensive-2022-2023.csv\n",
      "player stats offensive saved to PremierLeague-Offensive-2022-2023.csv\n",
      "player stats passing saved to PremierLeague-Passing-2022-2023.csv\n"
     ]
    }
   ],
   "source": [
    "PL2122 = Download(URLPL2122, 'PremierLeague', '2021-2022')\n",
    "PL2223 = Download(URLPL2223, 'PremierLeague', '2022-2023')"
   ]
  },
  {
   "cell_type": "code",
   "execution_count": 78,
   "id": "39413464",
   "metadata": {},
   "outputs": [],
   "source": [
    "URLBD1920 = 'https://1xbet.whoscored.com/Regions/81/Tournaments/3/Seasons/7872/Stages/17682/PlayerStatistics/Germany-Bundesliga-2019-2020'\n",
    "URLBD2021 = 'https://1xbet.whoscored.com/Regions/81/Tournaments/3/Seasons/8279/Stages/18762/PlayerStatistics/Germany-Bundesliga-2020-2021'\n",
    "URLBD2122 = 'https://1xbet.whoscored.com/Regions/81/Tournaments/3/Seasons/8667/Stages/19862/PlayerStatistics/Germany-Bundesliga-2021-2022'\n",
    "URLBD2223 = 'https://1xbet.whoscored.com/Regions/81/Tournaments/3/Seasons/9120/Stages/21026/PlayerStatistics/Germany-Bundesliga-2022-2023'"
   ]
  },
  {
   "cell_type": "code",
   "execution_count": 80,
   "id": "2d2f988d",
   "metadata": {},
   "outputs": [
    {
     "name": "stderr",
     "output_type": "stream",
     "text": [
      "C:\\Users\\lucas\\AppData\\Local\\Temp\\ipykernel_75360\\4206667366.py:13: DeprecationWarning: executable_path has been deprecated, please pass in a Service object\n",
      "  driver = webdriver.Chrome('./chromedriver')\n"
     ]
    },
    {
     "name": "stdout",
     "output_type": "stream",
     "text": [
      "page 27: 100%|█████████████████████████████████████████████████████████████████████████| 27/27 [07:06<00:00, 15.79s/it]\n",
      "player stats summary : done\n"
     ]
    },
    {
     "name": "stderr",
     "output_type": "stream",
     "text": [
      "C:\\Users\\lucas\\AppData\\Local\\Temp\\ipykernel_75360\\2573841616.py:13: DeprecationWarning: executable_path has been deprecated, please pass in a Service object\n",
      "  driver = webdriver.Chrome('./chromedriver')\n"
     ]
    },
    {
     "name": "stdout",
     "output_type": "stream",
     "text": [
      "page 27: 100%|█████████████████████████████████████████████████████████████████████████| 27/27 [04:28<00:00,  9.95s/it]\n",
      "player stats defensive : done\n"
     ]
    },
    {
     "name": "stderr",
     "output_type": "stream",
     "text": [
      "C:\\Users\\lucas\\AppData\\Local\\Temp\\ipykernel_75360\\2937695269.py:13: DeprecationWarning: executable_path has been deprecated, please pass in a Service object\n",
      "  driver = webdriver.Chrome('./chromedriver')\n"
     ]
    },
    {
     "name": "stdout",
     "output_type": "stream",
     "text": [
      "page 27: 100%|█████████████████████████████████████████████████████████████████████████| 27/27 [07:52<00:00, 17.50s/it]\n",
      "player stats offensive : done\n"
     ]
    },
    {
     "name": "stderr",
     "output_type": "stream",
     "text": [
      "C:\\Users\\lucas\\AppData\\Local\\Temp\\ipykernel_75360\\167999107.py:3: DeprecationWarning: executable_path has been deprecated, please pass in a Service object\n",
      "  driver = webdriver.Chrome('./chromedriver')\n"
     ]
    },
    {
     "name": "stdout",
     "output_type": "stream",
     "text": [
      "page 27: 100%|█████████████████████████████████████████████████████████████████████████| 27/27 [05:43<00:00, 12.71s/it]\n",
      "player stats passing : done\n",
      "player stats summary saved to Bundesliga-Summary-2019-2020.csv\n",
      "player stats defensive saved to Bundesliga-Defensive-2019-2020.csv\n",
      "player stats offensive saved to Bundesliga-Offensive-2019-2020.csv\n",
      "player stats passing saved to Bundesliga-Passing-2019-2020.csv\n"
     ]
    },
    {
     "name": "stderr",
     "output_type": "stream",
     "text": [
      "C:\\Users\\lucas\\AppData\\Local\\Temp\\ipykernel_75360\\4206667366.py:13: DeprecationWarning: executable_path has been deprecated, please pass in a Service object\n",
      "  driver = webdriver.Chrome('./chromedriver')\n"
     ]
    },
    {
     "name": "stdout",
     "output_type": "stream",
     "text": [
      "page 29: 100%|█████████████████████████████████████████████████████████████████████████| 29/29 [07:24<00:00, 15.33s/it]\n",
      "player stats summary : done\n"
     ]
    },
    {
     "name": "stderr",
     "output_type": "stream",
     "text": [
      "C:\\Users\\lucas\\AppData\\Local\\Temp\\ipykernel_75360\\2573841616.py:13: DeprecationWarning: executable_path has been deprecated, please pass in a Service object\n",
      "  driver = webdriver.Chrome('./chromedriver')\n"
     ]
    },
    {
     "name": "stdout",
     "output_type": "stream",
     "text": [
      "page 29: 100%|█████████████████████████████████████████████████████████████████████████| 29/29 [05:06<00:00, 10.57s/it]\n",
      "player stats defensive : done\n"
     ]
    },
    {
     "name": "stderr",
     "output_type": "stream",
     "text": [
      "C:\\Users\\lucas\\AppData\\Local\\Temp\\ipykernel_75360\\2937695269.py:13: DeprecationWarning: executable_path has been deprecated, please pass in a Service object\n",
      "  driver = webdriver.Chrome('./chromedriver')\n"
     ]
    },
    {
     "name": "stdout",
     "output_type": "stream",
     "text": [
      "page 29: 100%|█████████████████████████████████████████████████████████████████████████| 29/29 [03:59<00:00,  8.26s/it]\n",
      "player stats offensive : done\n"
     ]
    },
    {
     "name": "stderr",
     "output_type": "stream",
     "text": [
      "C:\\Users\\lucas\\AppData\\Local\\Temp\\ipykernel_75360\\167999107.py:3: DeprecationWarning: executable_path has been deprecated, please pass in a Service object\n",
      "  driver = webdriver.Chrome('./chromedriver')\n"
     ]
    },
    {
     "name": "stdout",
     "output_type": "stream",
     "text": [
      "page 29: 100%|█████████████████████████████████████████████████████████████████████████| 29/29 [03:22<00:00,  7.00s/it]\n",
      "player stats passing : done\n",
      "player stats summary saved to Bundesliga-Summary-2019-2020.csv\n",
      "player stats defensive saved to Bundesliga-Defensive-2019-2020.csv\n",
      "player stats offensive saved to Bundesliga-Offensive-2019-2020.csv\n",
      "player stats passing saved to Bundesliga-Passing-2019-2020.csv\n"
     ]
    },
    {
     "name": "stderr",
     "output_type": "stream",
     "text": [
      "C:\\Users\\lucas\\AppData\\Local\\Temp\\ipykernel_75360\\4206667366.py:13: DeprecationWarning: executable_path has been deprecated, please pass in a Service object\n",
      "  driver = webdriver.Chrome('./chromedriver')\n"
     ]
    },
    {
     "name": "stdout",
     "output_type": "stream",
     "text": [
      "page 30: 100%|█████████████████████████████████████████████████████████████████████████| 30/30 [03:37<00:00,  7.27s/it]\n",
      "player stats summary : done\n"
     ]
    },
    {
     "name": "stderr",
     "output_type": "stream",
     "text": [
      "C:\\Users\\lucas\\AppData\\Local\\Temp\\ipykernel_75360\\2573841616.py:13: DeprecationWarning: executable_path has been deprecated, please pass in a Service object\n",
      "  driver = webdriver.Chrome('./chromedriver')\n"
     ]
    },
    {
     "name": "stdout",
     "output_type": "stream",
     "text": [
      "page 30: 100%|█████████████████████████████████████████████████████████████████████████| 30/30 [03:16<00:00,  6.56s/it]\n",
      "player stats defensive : done\n"
     ]
    },
    {
     "name": "stderr",
     "output_type": "stream",
     "text": [
      "C:\\Users\\lucas\\AppData\\Local\\Temp\\ipykernel_75360\\2937695269.py:13: DeprecationWarning: executable_path has been deprecated, please pass in a Service object\n",
      "  driver = webdriver.Chrome('./chromedriver')\n"
     ]
    },
    {
     "name": "stdout",
     "output_type": "stream",
     "text": [
      "page 30: 100%|█████████████████████████████████████████████████████████████████████████| 30/30 [04:09<00:00,  8.32s/it]\n",
      "player stats offensive : done\n"
     ]
    },
    {
     "name": "stderr",
     "output_type": "stream",
     "text": [
      "C:\\Users\\lucas\\AppData\\Local\\Temp\\ipykernel_75360\\167999107.py:3: DeprecationWarning: executable_path has been deprecated, please pass in a Service object\n",
      "  driver = webdriver.Chrome('./chromedriver')\n"
     ]
    },
    {
     "name": "stdout",
     "output_type": "stream",
     "text": [
      "page 30: 100%|█████████████████████████████████████████████████████████████████████████| 30/30 [03:17<00:00,  6.60s/it]\n",
      "player stats passing : done\n",
      "player stats summary saved to Bundesliga-Summary-2020-2021.csv\n",
      "player stats defensive saved to Bundesliga-Defensive-2020-2021.csv\n",
      "player stats offensive saved to Bundesliga-Offensive-2020-2021.csv\n",
      "player stats passing saved to Bundesliga-Passing-2020-2021.csv\n"
     ]
    },
    {
     "name": "stderr",
     "output_type": "stream",
     "text": [
      "C:\\Users\\lucas\\AppData\\Local\\Temp\\ipykernel_75360\\4206667366.py:13: DeprecationWarning: executable_path has been deprecated, please pass in a Service object\n",
      "  driver = webdriver.Chrome('./chromedriver')\n"
     ]
    },
    {
     "name": "stdout",
     "output_type": "stream",
     "text": [
      "page 29: 100%|█████████████████████████████████████████████████████████████████████████| 29/29 [05:11<00:00, 10.75s/it]\n",
      "player stats summary : done\n"
     ]
    },
    {
     "name": "stderr",
     "output_type": "stream",
     "text": [
      "C:\\Users\\lucas\\AppData\\Local\\Temp\\ipykernel_75360\\2573841616.py:13: DeprecationWarning: executable_path has been deprecated, please pass in a Service object\n",
      "  driver = webdriver.Chrome('./chromedriver')\n"
     ]
    },
    {
     "name": "stdout",
     "output_type": "stream",
     "text": [
      "page 29: 100%|█████████████████████████████████████████████████████████████████████████| 29/29 [05:26<00:00, 11.24s/it]\n",
      "player stats defensive : done\n"
     ]
    },
    {
     "name": "stderr",
     "output_type": "stream",
     "text": [
      "C:\\Users\\lucas\\AppData\\Local\\Temp\\ipykernel_75360\\2937695269.py:13: DeprecationWarning: executable_path has been deprecated, please pass in a Service object\n",
      "  driver = webdriver.Chrome('./chromedriver')\n"
     ]
    },
    {
     "name": "stdout",
     "output_type": "stream",
     "text": [
      "page 29: 100%|█████████████████████████████████████████████████████████████████████████| 29/29 [06:01<00:00, 12.48s/it]\n",
      "player stats offensive : done\n"
     ]
    },
    {
     "name": "stderr",
     "output_type": "stream",
     "text": [
      "C:\\Users\\lucas\\AppData\\Local\\Temp\\ipykernel_75360\\167999107.py:3: DeprecationWarning: executable_path has been deprecated, please pass in a Service object\n",
      "  driver = webdriver.Chrome('./chromedriver')\n"
     ]
    },
    {
     "name": "stdout",
     "output_type": "stream",
     "text": [
      "page 29: 100%|█████████████████████████████████████████████████████████████████████████| 29/29 [04:28<00:00,  9.27s/it]\n",
      "player stats passing : done\n",
      "player stats summary saved to Bundesliga-Summary-2022-2023.csv\n",
      "player stats defensive saved to Bundesliga-Defensive-2022-2023.csv\n",
      "player stats offensive saved to Bundesliga-Offensive-2022-2023.csv\n",
      "player stats passing saved to Bundesliga-Passing-2022-2023.csv\n"
     ]
    }
   ],
   "source": [
    "BD1920 = Download(URLBD1920, 'Bundesliga', '2019-2020')\n",
    "BD2021 = Download(URLBD2021, 'Bundesliga','2019-2020')\n",
    "BD2122 = Download(URLBD2122, 'Bundesliga', '2020-2021')\n",
    "BD2223 = Download(URLBD2223, 'Bundesliga', '2022-2023')"
   ]
  },
  {
   "cell_type": "code",
   "execution_count": 81,
   "id": "b968f43d",
   "metadata": {},
   "outputs": [],
   "source": [
    "URLSA1920 = 'https://1xbet.whoscored.com/Regions/108/Tournaments/5/Seasons/7928/Stages/17835/PlayerStatistics/Italy-Serie-A-2019-2020'\n",
    "URLSA2021 = 'https://1xbet.whoscored.com/Regions/108/Tournaments/5/Seasons/8330/Stages/18873/PlayerStatistics/Italy-Serie-A-2020-2021'\n",
    "URLSA2122 = 'https://1xbet.whoscored.com/Regions/108/Tournaments/5/Seasons/8735/Stages/19982/PlayerStatistics/Italy-Serie-A-2021-2022'\n",
    "URLSA2223 = 'https://1xbet.whoscored.com/Regions/108/Tournaments/5/Seasons/9159/Stages/21087/PlayerStatistics/Italy-Serie-A-2022-2023'"
   ]
  },
  {
   "cell_type": "code",
   "execution_count": 82,
   "id": "cffc1e7a",
   "metadata": {},
   "outputs": [
    {
     "name": "stderr",
     "output_type": "stream",
     "text": [
      "C:\\Users\\lucas\\AppData\\Local\\Temp\\ipykernel_75360\\4206667366.py:13: DeprecationWarning: executable_path has been deprecated, please pass in a Service object\n",
      "  driver = webdriver.Chrome('./chromedriver')\n"
     ]
    },
    {
     "name": "stdout",
     "output_type": "stream",
     "text": [
      "page 31: 100%|█████████████████████████████████████████████████████████████████████████| 31/31 [06:07<00:00, 11.87s/it]\n",
      "player stats summary : done\n"
     ]
    },
    {
     "name": "stderr",
     "output_type": "stream",
     "text": [
      "C:\\Users\\lucas\\AppData\\Local\\Temp\\ipykernel_75360\\2573841616.py:13: DeprecationWarning: executable_path has been deprecated, please pass in a Service object\n",
      "  driver = webdriver.Chrome('./chromedriver')\n"
     ]
    },
    {
     "name": "stdout",
     "output_type": "stream",
     "text": [
      "page 31: 100%|█████████████████████████████████████████████████████████████████████████| 31/31 [05:10<00:00, 10.00s/it]\n",
      "player stats defensive : done\n"
     ]
    },
    {
     "name": "stderr",
     "output_type": "stream",
     "text": [
      "C:\\Users\\lucas\\AppData\\Local\\Temp\\ipykernel_75360\\2937695269.py:13: DeprecationWarning: executable_path has been deprecated, please pass in a Service object\n",
      "  driver = webdriver.Chrome('./chromedriver')\n"
     ]
    },
    {
     "name": "stdout",
     "output_type": "stream",
     "text": [
      "page 31: 100%|█████████████████████████████████████████████████████████████████████████| 31/31 [06:36<00:00, 12.79s/it]\n",
      "player stats offensive : done\n"
     ]
    },
    {
     "name": "stderr",
     "output_type": "stream",
     "text": [
      "C:\\Users\\lucas\\AppData\\Local\\Temp\\ipykernel_75360\\167999107.py:3: DeprecationWarning: executable_path has been deprecated, please pass in a Service object\n",
      "  driver = webdriver.Chrome('./chromedriver')\n"
     ]
    },
    {
     "name": "stdout",
     "output_type": "stream",
     "text": [
      "page 31: 100%|█████████████████████████████████████████████████████████████████████████| 31/31 [05:21<00:00, 10.36s/it]\n",
      "player stats passing : done\n",
      "player stats summary saved to SerieA-Summary-2019-2020.csv\n",
      "player stats defensive saved to SerieA-Defensive-2019-2020.csv\n",
      "player stats offensive saved to SerieA-Offensive-2019-2020.csv\n",
      "player stats passing saved to SerieA-Passing-2019-2020.csv\n"
     ]
    },
    {
     "name": "stderr",
     "output_type": "stream",
     "text": [
      "C:\\Users\\lucas\\AppData\\Local\\Temp\\ipykernel_75360\\4206667366.py:13: DeprecationWarning: executable_path has been deprecated, please pass in a Service object\n",
      "  driver = webdriver.Chrome('./chromedriver')\n"
     ]
    },
    {
     "name": "stdout",
     "output_type": "stream",
     "text": [
      "page 35: 100%|█████████████████████████████████████████████████████████████████████████| 35/35 [04:31<00:00,  7.77s/it]\n",
      "player stats summary : done\n"
     ]
    },
    {
     "name": "stderr",
     "output_type": "stream",
     "text": [
      "C:\\Users\\lucas\\AppData\\Local\\Temp\\ipykernel_75360\\2573841616.py:13: DeprecationWarning: executable_path has been deprecated, please pass in a Service object\n",
      "  driver = webdriver.Chrome('./chromedriver')\n"
     ]
    },
    {
     "name": "stdout",
     "output_type": "stream",
     "text": [
      "page 35: 100%|█████████████████████████████████████████████████████████████████████████| 35/35 [04:17<00:00,  7.37s/it]\n",
      "player stats defensive : done\n"
     ]
    },
    {
     "name": "stderr",
     "output_type": "stream",
     "text": [
      "C:\\Users\\lucas\\AppData\\Local\\Temp\\ipykernel_75360\\2937695269.py:13: DeprecationWarning: executable_path has been deprecated, please pass in a Service object\n",
      "  driver = webdriver.Chrome('./chromedriver')\n"
     ]
    },
    {
     "name": "stdout",
     "output_type": "stream",
     "text": [
      "page 35: 100%|█████████████████████████████████████████████████████████████████████████| 35/35 [04:31<00:00,  7.75s/it]\n",
      "player stats offensive : done\n"
     ]
    },
    {
     "name": "stderr",
     "output_type": "stream",
     "text": [
      "C:\\Users\\lucas\\AppData\\Local\\Temp\\ipykernel_75360\\167999107.py:3: DeprecationWarning: executable_path has been deprecated, please pass in a Service object\n",
      "  driver = webdriver.Chrome('./chromedriver')\n"
     ]
    },
    {
     "name": "stdout",
     "output_type": "stream",
     "text": [
      "page 35: 100%|█████████████████████████████████████████████████████████████████████████| 35/35 [04:01<00:00,  6.90s/it]\n",
      "player stats passing : done\n",
      "player stats summary saved to SerieA-Summary-2019-2020.csv\n",
      "player stats defensive saved to SerieA-Defensive-2019-2020.csv\n",
      "player stats offensive saved to SerieA-Offensive-2019-2020.csv\n",
      "player stats passing saved to SerieA-Passing-2019-2020.csv\n"
     ]
    },
    {
     "name": "stderr",
     "output_type": "stream",
     "text": [
      "C:\\Users\\lucas\\AppData\\Local\\Temp\\ipykernel_75360\\4206667366.py:13: DeprecationWarning: executable_path has been deprecated, please pass in a Service object\n",
      "  driver = webdriver.Chrome('./chromedriver')\n"
     ]
    },
    {
     "name": "stdout",
     "output_type": "stream",
     "text": [
      "page 34: 100%|█████████████████████████████████████████████████████████████████████████| 34/34 [05:09<00:00,  9.11s/it]\n",
      "player stats summary : done\n"
     ]
    },
    {
     "name": "stderr",
     "output_type": "stream",
     "text": [
      "C:\\Users\\lucas\\AppData\\Local\\Temp\\ipykernel_75360\\2573841616.py:13: DeprecationWarning: executable_path has been deprecated, please pass in a Service object\n",
      "  driver = webdriver.Chrome('./chromedriver')\n"
     ]
    },
    {
     "name": "stdout",
     "output_type": "stream",
     "text": [
      "page 34: 100%|█████████████████████████████████████████████████████████████████████████| 34/34 [04:13<00:00,  7.47s/it]\n",
      "player stats defensive : done\n"
     ]
    },
    {
     "name": "stderr",
     "output_type": "stream",
     "text": [
      "C:\\Users\\lucas\\AppData\\Local\\Temp\\ipykernel_75360\\2937695269.py:13: DeprecationWarning: executable_path has been deprecated, please pass in a Service object\n",
      "  driver = webdriver.Chrome('./chromedriver')\n"
     ]
    },
    {
     "name": "stdout",
     "output_type": "stream",
     "text": [
      "page 34: 100%|█████████████████████████████████████████████████████████████████████████| 34/34 [05:24<00:00,  9.56s/it]\n",
      "player stats offensive : done\n"
     ]
    },
    {
     "name": "stderr",
     "output_type": "stream",
     "text": [
      "C:\\Users\\lucas\\AppData\\Local\\Temp\\ipykernel_75360\\167999107.py:3: DeprecationWarning: executable_path has been deprecated, please pass in a Service object\n",
      "  driver = webdriver.Chrome('./chromedriver')\n"
     ]
    },
    {
     "name": "stdout",
     "output_type": "stream",
     "text": [
      "page 34: 100%|█████████████████████████████████████████████████████████████████████████| 34/34 [04:34<00:00,  8.08s/it]\n",
      "player stats passing : done\n",
      "player stats summary saved to SeriaA-Summary-2020-2021.csv\n",
      "player stats defensive saved to SeriaA-Defensive-2020-2021.csv\n",
      "player stats offensive saved to SeriaA-Offensive-2020-2021.csv\n",
      "player stats passing saved to SeriaA-Passing-2020-2021.csv\n"
     ]
    },
    {
     "name": "stderr",
     "output_type": "stream",
     "text": [
      "C:\\Users\\lucas\\AppData\\Local\\Temp\\ipykernel_75360\\4206667366.py:13: DeprecationWarning: executable_path has been deprecated, please pass in a Service object\n",
      "  driver = webdriver.Chrome('./chromedriver')\n"
     ]
    },
    {
     "name": "stdout",
     "output_type": "stream",
     "text": [
      "page 34: 100%|█████████████████████████████████████████████████████████████████████████| 34/34 [05:05<00:00,  8.99s/it]\n",
      "player stats summary : done\n"
     ]
    },
    {
     "name": "stderr",
     "output_type": "stream",
     "text": [
      "C:\\Users\\lucas\\AppData\\Local\\Temp\\ipykernel_75360\\2573841616.py:13: DeprecationWarning: executable_path has been deprecated, please pass in a Service object\n",
      "  driver = webdriver.Chrome('./chromedriver')\n"
     ]
    },
    {
     "name": "stdout",
     "output_type": "stream",
     "text": [
      "page 34: 100%|█████████████████████████████████████████████████████████████████████████| 34/34 [04:42<00:00,  8.31s/it]\n",
      "player stats defensive : done\n"
     ]
    },
    {
     "name": "stderr",
     "output_type": "stream",
     "text": [
      "C:\\Users\\lucas\\AppData\\Local\\Temp\\ipykernel_75360\\2937695269.py:13: DeprecationWarning: executable_path has been deprecated, please pass in a Service object\n",
      "  driver = webdriver.Chrome('./chromedriver')\n"
     ]
    },
    {
     "name": "stdout",
     "output_type": "stream",
     "text": [
      "page 34: 100%|█████████████████████████████████████████████████████████████████████████| 34/34 [04:34<00:00,  8.07s/it]\n",
      "player stats offensive : done\n"
     ]
    },
    {
     "name": "stderr",
     "output_type": "stream",
     "text": [
      "C:\\Users\\lucas\\AppData\\Local\\Temp\\ipykernel_75360\\167999107.py:3: DeprecationWarning: executable_path has been deprecated, please pass in a Service object\n",
      "  driver = webdriver.Chrome('./chromedriver')\n"
     ]
    },
    {
     "name": "stdout",
     "output_type": "stream",
     "text": [
      "page 34: 100%|█████████████████████████████████████████████████████████████████████████| 34/34 [04:29<00:00,  7.92s/it]\n",
      "player stats passing : done\n",
      "player stats summary saved to SerieA-Summary-2022-2023.csv\n",
      "player stats defensive saved to SerieA-Defensive-2022-2023.csv\n",
      "player stats offensive saved to SerieA-Offensive-2022-2023.csv\n",
      "player stats passing saved to SerieA-Passing-2022-2023.csv\n"
     ]
    }
   ],
   "source": [
    "SA1920 = Download(URLSA1920, 'SerieA', '2019-2020')\n",
    "SA2021 = Download(URLSA2021, 'SerieA', '2020-2021')\n",
    "SA2122 = Download(URLSA2122, 'SerieA', '2020-2021')\n",
    "SA2223 = Download(URLSA2223, 'SerieA', '2022-2023')"
   ]
  },
  {
   "cell_type": "code",
   "execution_count": 83,
   "id": "13b411f4",
   "metadata": {},
   "outputs": [],
   "source": [
    "URLLONE1920 = 'https://1xbet.whoscored.com/Regions/74/Tournaments/22/Seasons/7814/Stages/17593/PlayerStatistics/France-Ligue-1-2019-2020'\n",
    "URLLONE2021 = 'https://1xbet.whoscored.com/Regions/74/Tournaments/22/Seasons/8185/Stages/18594/PlayerStatistics/France-Ligue-1-2020-2021'\n",
    "URLLONE2122 = 'https://1xbet.whoscored.com/Regions/74/Tournaments/22/Seasons/8671/Stages/19866/PlayerStatistics/France-Ligue-1-2021-2022'\n",
    "URLLONE2223 = 'https://1xbet.whoscored.com/Regions/74/Tournaments/22/Seasons/9129/Stages/21037/PlayerStatistics/France-Ligue-1-2022-2023'"
   ]
  },
  {
   "cell_type": "code",
   "execution_count": 84,
   "id": "4d286494",
   "metadata": {},
   "outputs": [
    {
     "name": "stderr",
     "output_type": "stream",
     "text": [
      "C:\\Users\\lucas\\AppData\\Local\\Temp\\ipykernel_75360\\4206667366.py:13: DeprecationWarning: executable_path has been deprecated, please pass in a Service object\n",
      "  driver = webdriver.Chrome('./chromedriver')\n"
     ]
    },
    {
     "name": "stdout",
     "output_type": "stream",
     "text": [
      "page 31: 100%|█████████████████████████████████████████████████████████████████████████| 31/31 [04:02<00:00,  7.81s/it]\n",
      "player stats summary : done\n"
     ]
    },
    {
     "name": "stderr",
     "output_type": "stream",
     "text": [
      "C:\\Users\\lucas\\AppData\\Local\\Temp\\ipykernel_75360\\2573841616.py:13: DeprecationWarning: executable_path has been deprecated, please pass in a Service object\n",
      "  driver = webdriver.Chrome('./chromedriver')\n"
     ]
    },
    {
     "name": "stdout",
     "output_type": "stream",
     "text": [
      "page 31: 100%|█████████████████████████████████████████████████████████████████████████| 31/31 [03:48<00:00,  7.36s/it]\n",
      "player stats defensive : done\n"
     ]
    },
    {
     "name": "stderr",
     "output_type": "stream",
     "text": [
      "C:\\Users\\lucas\\AppData\\Local\\Temp\\ipykernel_75360\\2937695269.py:13: DeprecationWarning: executable_path has been deprecated, please pass in a Service object\n",
      "  driver = webdriver.Chrome('./chromedriver')\n"
     ]
    },
    {
     "name": "stdout",
     "output_type": "stream",
     "text": [
      "page 31: 100%|█████████████████████████████████████████████████████████████████████████| 31/31 [03:56<00:00,  7.64s/it]\n",
      "player stats offensive : done\n"
     ]
    },
    {
     "name": "stderr",
     "output_type": "stream",
     "text": [
      "C:\\Users\\lucas\\AppData\\Local\\Temp\\ipykernel_75360\\167999107.py:3: DeprecationWarning: executable_path has been deprecated, please pass in a Service object\n",
      "  driver = webdriver.Chrome('./chromedriver')\n"
     ]
    },
    {
     "name": "stdout",
     "output_type": "stream",
     "text": [
      "page 31: 100%|█████████████████████████████████████████████████████████████████████████| 31/31 [03:24<00:00,  6.60s/it]\n",
      "player stats passing : done\n",
      "player stats summary saved to Ligue1-Summary-2019-2020.csv\n",
      "player stats defensive saved to Ligue1-Defensive-2019-2020.csv\n",
      "player stats offensive saved to Ligue1-Offensive-2019-2020.csv\n",
      "player stats passing saved to Ligue1-Passing-2019-2020.csv\n"
     ]
    },
    {
     "name": "stderr",
     "output_type": "stream",
     "text": [
      "C:\\Users\\lucas\\AppData\\Local\\Temp\\ipykernel_75360\\4206667366.py:13: DeprecationWarning: executable_path has been deprecated, please pass in a Service object\n",
      "  driver = webdriver.Chrome('./chromedriver')\n"
     ]
    },
    {
     "name": "stdout",
     "output_type": "stream",
     "text": [
      "page 34: 100%|█████████████████████████████████████████████████████████████████████████| 34/34 [04:14<00:00,  7.49s/it]\n",
      "player stats summary : done\n"
     ]
    },
    {
     "name": "stderr",
     "output_type": "stream",
     "text": [
      "C:\\Users\\lucas\\AppData\\Local\\Temp\\ipykernel_75360\\2573841616.py:13: DeprecationWarning: executable_path has been deprecated, please pass in a Service object\n",
      "  driver = webdriver.Chrome('./chromedriver')\n"
     ]
    },
    {
     "name": "stdout",
     "output_type": "stream",
     "text": [
      "page 34: 100%|█████████████████████████████████████████████████████████████████████████| 34/34 [03:59<00:00,  7.05s/it]\n",
      "player stats defensive : done\n"
     ]
    },
    {
     "name": "stderr",
     "output_type": "stream",
     "text": [
      "C:\\Users\\lucas\\AppData\\Local\\Temp\\ipykernel_75360\\2937695269.py:13: DeprecationWarning: executable_path has been deprecated, please pass in a Service object\n",
      "  driver = webdriver.Chrome('./chromedriver')\n"
     ]
    },
    {
     "name": "stdout",
     "output_type": "stream",
     "text": [
      "page 34: 100%|█████████████████████████████████████████████████████████████████████████| 34/34 [05:02<00:00,  8.89s/it]\n",
      "player stats offensive : done\n"
     ]
    },
    {
     "name": "stderr",
     "output_type": "stream",
     "text": [
      "C:\\Users\\lucas\\AppData\\Local\\Temp\\ipykernel_75360\\167999107.py:3: DeprecationWarning: executable_path has been deprecated, please pass in a Service object\n",
      "  driver = webdriver.Chrome('./chromedriver')\n"
     ]
    },
    {
     "name": "stdout",
     "output_type": "stream",
     "text": [
      "page 34: 100%|█████████████████████████████████████████████████████████████████████████| 34/34 [03:48<00:00,  6.71s/it]\n",
      "player stats passing : done\n",
      "player stats summary saved to Ligue1-Summary-2019-2020.csv\n",
      "player stats defensive saved to Ligue1-Defensive-2019-2020.csv\n",
      "player stats offensive saved to Ligue1-Offensive-2019-2020.csv\n",
      "player stats passing saved to Ligue1-Passing-2019-2020.csv\n"
     ]
    },
    {
     "name": "stderr",
     "output_type": "stream",
     "text": [
      "C:\\Users\\lucas\\AppData\\Local\\Temp\\ipykernel_75360\\4206667366.py:13: DeprecationWarning: executable_path has been deprecated, please pass in a Service object\n",
      "  driver = webdriver.Chrome('./chromedriver')\n"
     ]
    },
    {
     "name": "stdout",
     "output_type": "stream",
     "text": [
      "page 31: 100%|█████████████████████████████████████████████████████████████████████████| 31/31 [03:53<00:00,  7.54s/it]\n",
      "player stats summary : done\n"
     ]
    },
    {
     "name": "stderr",
     "output_type": "stream",
     "text": [
      "C:\\Users\\lucas\\AppData\\Local\\Temp\\ipykernel_75360\\2573841616.py:13: DeprecationWarning: executable_path has been deprecated, please pass in a Service object\n",
      "  driver = webdriver.Chrome('./chromedriver')\n"
     ]
    },
    {
     "name": "stdout",
     "output_type": "stream",
     "text": [
      "page 31: 100%|█████████████████████████████████████████████████████████████████████████| 31/31 [03:36<00:00,  6.98s/it]\n",
      "player stats defensive : done\n"
     ]
    },
    {
     "name": "stderr",
     "output_type": "stream",
     "text": [
      "C:\\Users\\lucas\\AppData\\Local\\Temp\\ipykernel_75360\\2937695269.py:13: DeprecationWarning: executable_path has been deprecated, please pass in a Service object\n",
      "  driver = webdriver.Chrome('./chromedriver')\n"
     ]
    },
    {
     "name": "stdout",
     "output_type": "stream",
     "text": [
      "page 31: 100%|█████████████████████████████████████████████████████████████████████████| 31/31 [04:07<00:00,  7.99s/it]\n",
      "player stats offensive : done\n"
     ]
    },
    {
     "name": "stderr",
     "output_type": "stream",
     "text": [
      "C:\\Users\\lucas\\AppData\\Local\\Temp\\ipykernel_75360\\167999107.py:3: DeprecationWarning: executable_path has been deprecated, please pass in a Service object\n",
      "  driver = webdriver.Chrome('./chromedriver')\n"
     ]
    },
    {
     "name": "stdout",
     "output_type": "stream",
     "text": [
      "page 31: 100%|█████████████████████████████████████████████████████████████████████████| 31/31 [03:36<00:00,  6.98s/it]\n",
      "player stats passing : done\n",
      "player stats summary saved to Ligue1-Summary-2020-2021.csv\n",
      "player stats defensive saved to Ligue1-Defensive-2020-2021.csv\n",
      "player stats offensive saved to Ligue1-Offensive-2020-2021.csv\n",
      "player stats passing saved to Ligue1-Passing-2020-2021.csv\n"
     ]
    },
    {
     "name": "stderr",
     "output_type": "stream",
     "text": [
      "C:\\Users\\lucas\\AppData\\Local\\Temp\\ipykernel_75360\\4206667366.py:13: DeprecationWarning: executable_path has been deprecated, please pass in a Service object\n",
      "  driver = webdriver.Chrome('./chromedriver')\n"
     ]
    },
    {
     "name": "stdout",
     "output_type": "stream",
     "text": [
      "page 32: 100%|█████████████████████████████████████████████████████████████████████████| 32/32 [04:11<00:00,  7.85s/it]\n",
      "player stats summary : done\n"
     ]
    },
    {
     "name": "stderr",
     "output_type": "stream",
     "text": [
      "C:\\Users\\lucas\\AppData\\Local\\Temp\\ipykernel_75360\\2573841616.py:13: DeprecationWarning: executable_path has been deprecated, please pass in a Service object\n",
      "  driver = webdriver.Chrome('./chromedriver')\n"
     ]
    },
    {
     "name": "stdout",
     "output_type": "stream",
     "text": [
      "page 32: 100%|█████████████████████████████████████████████████████████████████████████| 32/32 [03:44<00:00,  7.01s/it]\n",
      "player stats defensive : done\n"
     ]
    },
    {
     "name": "stderr",
     "output_type": "stream",
     "text": [
      "C:\\Users\\lucas\\AppData\\Local\\Temp\\ipykernel_75360\\2937695269.py:13: DeprecationWarning: executable_path has been deprecated, please pass in a Service object\n",
      "  driver = webdriver.Chrome('./chromedriver')\n"
     ]
    },
    {
     "name": "stdout",
     "output_type": "stream",
     "text": [
      "page 32: 100%|█████████████████████████████████████████████████████████████████████████| 32/32 [04:08<00:00,  7.77s/it]\n",
      "player stats offensive : done\n"
     ]
    },
    {
     "name": "stderr",
     "output_type": "stream",
     "text": [
      "C:\\Users\\lucas\\AppData\\Local\\Temp\\ipykernel_75360\\167999107.py:3: DeprecationWarning: executable_path has been deprecated, please pass in a Service object\n",
      "  driver = webdriver.Chrome('./chromedriver')\n"
     ]
    },
    {
     "name": "stdout",
     "output_type": "stream",
     "text": [
      "page 32: 100%|█████████████████████████████████████████████████████████████████████████| 32/32 [03:43<00:00,  6.97s/it]\n",
      "player stats passing : done\n",
      "player stats summary saved to Ligue1-Summary-2022-2023.csv\n",
      "player stats defensive saved to Ligue1-Defensive-2022-2023.csv\n",
      "player stats offensive saved to Ligue1-Offensive-2022-2023.csv\n",
      "player stats passing saved to Ligue1-Passing-2022-2023.csv\n"
     ]
    }
   ],
   "source": [
    "LONE1920 = Download(URLLONE1920, 'Ligue1', '2019-2020')\n",
    "LONE2021 = Download(URLLONE2021, 'Ligue1', '2019-2020')\n",
    "LONE2122 = Download(URLLONE2122, 'Ligue1', '2020-2021')\n",
    "LONE2223 = Download(URLLONE2223, 'Ligue1', '2022-2023')"
   ]
  },
  {
   "cell_type": "code",
   "execution_count": 85,
   "id": "e1a4a0de",
   "metadata": {},
   "outputs": [],
   "source": [
    "URLLIGA1920 = 'https://1xbet.whoscored.com/Regions/252/Tournaments/2/Seasons/8618/Stages/12496/PlayerStatistics/England-Premier-League-2019-2020'\n",
    "URLLIGA2021 = 'https://1xbet.whoscored.com/Regions/252/Tournaments/2/Seasons/8228/Stages/18685/PlayerStatistics/England-Premier-League-2020-2021'\n",
    "URLLIGA2122 = 'https://1xbet.whoscored.com/Regions/252/Tournaments/2/Seasons/8618/Stages/19793/PlayerStatistics/England-Premier-League-2021-2022'\n",
    "URLLIGA2223 = 'https://1xbet.whoscored.com/Regions/252/Tournaments/2/Seasons/9075/Stages/20934/PlayerStatistics/England-Premier-League-2022-2023'"
   ]
  },
  {
   "cell_type": "code",
   "execution_count": 86,
   "id": "7f74a2fc",
   "metadata": {},
   "outputs": [
    {
     "name": "stderr",
     "output_type": "stream",
     "text": [
      "C:\\Users\\lucas\\AppData\\Local\\Temp\\ipykernel_75360\\4206667366.py:13: DeprecationWarning: executable_path has been deprecated, please pass in a Service object\n",
      "  driver = webdriver.Chrome('./chromedriver')\n"
     ]
    },
    {
     "name": "stdout",
     "output_type": "stream",
     "text": [
      "page 30: 100%|█████████████████████████████████████████████████████████████████████████| 30/30 [04:05<00:00,  8.19s/it]\n",
      "player stats summary : done\n"
     ]
    },
    {
     "name": "stderr",
     "output_type": "stream",
     "text": [
      "C:\\Users\\lucas\\AppData\\Local\\Temp\\ipykernel_75360\\2573841616.py:13: DeprecationWarning: executable_path has been deprecated, please pass in a Service object\n",
      "  driver = webdriver.Chrome('./chromedriver')\n"
     ]
    },
    {
     "name": "stdout",
     "output_type": "stream",
     "text": [
      "page 30: 100%|█████████████████████████████████████████████████████████████████████████| 30/30 [03:36<00:00,  7.23s/it]\n",
      "player stats defensive : done\n"
     ]
    },
    {
     "name": "stderr",
     "output_type": "stream",
     "text": [
      "C:\\Users\\lucas\\AppData\\Local\\Temp\\ipykernel_75360\\2937695269.py:13: DeprecationWarning: executable_path has been deprecated, please pass in a Service object\n",
      "  driver = webdriver.Chrome('./chromedriver')\n"
     ]
    },
    {
     "name": "stdout",
     "output_type": "stream",
     "text": [
      "page 30: 100%|█████████████████████████████████████████████████████████████████████████| 30/30 [03:54<00:00,  7.82s/it]\n",
      "player stats offensive : done\n"
     ]
    },
    {
     "name": "stderr",
     "output_type": "stream",
     "text": [
      "C:\\Users\\lucas\\AppData\\Local\\Temp\\ipykernel_75360\\167999107.py:3: DeprecationWarning: executable_path has been deprecated, please pass in a Service object\n",
      "  driver = webdriver.Chrome('./chromedriver')\n"
     ]
    },
    {
     "name": "stdout",
     "output_type": "stream",
     "text": [
      "page 30: 100%|█████████████████████████████████████████████████████████████████████████| 30/30 [05:16<00:00, 10.56s/it]\n",
      "player stats passing : done\n",
      "player stats summary saved to LaLiga-Summary-2019-2020.csv\n",
      "player stats defensive saved to LaLiga-Defensive-2019-2020.csv\n",
      "player stats offensive saved to LaLiga-Offensive-2019-2020.csv\n",
      "player stats passing saved to LaLiga-Passing-2019-2020.csv\n"
     ]
    },
    {
     "name": "stderr",
     "output_type": "stream",
     "text": [
      "C:\\Users\\lucas\\AppData\\Local\\Temp\\ipykernel_75360\\4206667366.py:13: DeprecationWarning: executable_path has been deprecated, please pass in a Service object\n",
      "  driver = webdriver.Chrome('./chromedriver')\n"
     ]
    },
    {
     "name": "stdout",
     "output_type": "stream",
     "text": [
      "page 30: 100%|█████████████████████████████████████████████████████████████████████████| 30/30 [03:45<00:00,  7.50s/it]\n",
      "player stats summary : done\n"
     ]
    },
    {
     "name": "stderr",
     "output_type": "stream",
     "text": [
      "C:\\Users\\lucas\\AppData\\Local\\Temp\\ipykernel_75360\\2573841616.py:13: DeprecationWarning: executable_path has been deprecated, please pass in a Service object\n",
      "  driver = webdriver.Chrome('./chromedriver')\n"
     ]
    },
    {
     "name": "stdout",
     "output_type": "stream",
     "text": [
      "page 30: 100%|█████████████████████████████████████████████████████████████████████████| 30/30 [03:33<00:00,  7.11s/it]\n",
      "player stats defensive : done\n"
     ]
    },
    {
     "name": "stderr",
     "output_type": "stream",
     "text": [
      "C:\\Users\\lucas\\AppData\\Local\\Temp\\ipykernel_75360\\2937695269.py:13: DeprecationWarning: executable_path has been deprecated, please pass in a Service object\n",
      "  driver = webdriver.Chrome('./chromedriver')\n"
     ]
    },
    {
     "name": "stdout",
     "output_type": "stream",
     "text": [
      "page 30: 100%|█████████████████████████████████████████████████████████████████████████| 30/30 [04:06<00:00,  8.21s/it]\n",
      "player stats offensive : done\n"
     ]
    },
    {
     "name": "stderr",
     "output_type": "stream",
     "text": [
      "C:\\Users\\lucas\\AppData\\Local\\Temp\\ipykernel_75360\\167999107.py:3: DeprecationWarning: executable_path has been deprecated, please pass in a Service object\n",
      "  driver = webdriver.Chrome('./chromedriver')\n"
     ]
    },
    {
     "name": "stdout",
     "output_type": "stream",
     "text": [
      "page 30: 100%|█████████████████████████████████████████████████████████████████████████| 30/30 [03:37<00:00,  7.25s/it]\n",
      "player stats passing : done\n",
      "player stats summary saved to LaLiga-Summary-2019-2020.csv\n",
      "player stats defensive saved to LaLiga-Defensive-2019-2020.csv\n",
      "player stats offensive saved to LaLiga-Offensive-2019-2020.csv\n",
      "player stats passing saved to LaLiga-Passing-2019-2020.csv\n"
     ]
    },
    {
     "name": "stderr",
     "output_type": "stream",
     "text": [
      "C:\\Users\\lucas\\AppData\\Local\\Temp\\ipykernel_75360\\4206667366.py:13: DeprecationWarning: executable_path has been deprecated, please pass in a Service object\n",
      "  driver = webdriver.Chrome('./chromedriver')\n"
     ]
    },
    {
     "name": "stdout",
     "output_type": "stream",
     "text": [
      "page 30: 100%|█████████████████████████████████████████████████████████████████████████| 30/30 [03:51<00:00,  7.72s/it]\n",
      "player stats summary : done\n"
     ]
    },
    {
     "name": "stderr",
     "output_type": "stream",
     "text": [
      "C:\\Users\\lucas\\AppData\\Local\\Temp\\ipykernel_75360\\2573841616.py:13: DeprecationWarning: executable_path has been deprecated, please pass in a Service object\n",
      "  driver = webdriver.Chrome('./chromedriver')\n"
     ]
    },
    {
     "name": "stdout",
     "output_type": "stream",
     "text": [
      "page 30: 100%|█████████████████████████████████████████████████████████████████████████| 30/30 [03:49<00:00,  7.64s/it]\n",
      "player stats defensive : done\n"
     ]
    },
    {
     "name": "stderr",
     "output_type": "stream",
     "text": [
      "C:\\Users\\lucas\\AppData\\Local\\Temp\\ipykernel_75360\\2937695269.py:13: DeprecationWarning: executable_path has been deprecated, please pass in a Service object\n",
      "  driver = webdriver.Chrome('./chromedriver')\n"
     ]
    },
    {
     "name": "stdout",
     "output_type": "stream",
     "text": [
      "page 30: 100%|█████████████████████████████████████████████████████████████████████████| 30/30 [04:09<00:00,  8.33s/it]\n",
      "player stats offensive : done\n"
     ]
    },
    {
     "name": "stderr",
     "output_type": "stream",
     "text": [
      "C:\\Users\\lucas\\AppData\\Local\\Temp\\ipykernel_75360\\167999107.py:3: DeprecationWarning: executable_path has been deprecated, please pass in a Service object\n",
      "  driver = webdriver.Chrome('./chromedriver')\n"
     ]
    },
    {
     "name": "stdout",
     "output_type": "stream",
     "text": [
      "page 30: 100%|█████████████████████████████████████████████████████████████████████████| 30/30 [03:23<00:00,  6.78s/it]\n",
      "player stats passing : done\n",
      "player stats summary saved to LaLiga-Summary-2020-2021.csv\n",
      "player stats defensive saved to LaLiga-Defensive-2020-2021.csv\n",
      "player stats offensive saved to LaLiga-Offensive-2020-2021.csv\n",
      "player stats passing saved to LaLiga-Passing-2020-2021.csv\n"
     ]
    },
    {
     "name": "stderr",
     "output_type": "stream",
     "text": [
      "C:\\Users\\lucas\\AppData\\Local\\Temp\\ipykernel_75360\\4206667366.py:13: DeprecationWarning: executable_path has been deprecated, please pass in a Service object\n",
      "  driver = webdriver.Chrome('./chromedriver')\n"
     ]
    },
    {
     "name": "stdout",
     "output_type": "stream",
     "text": [
      "page 31: 100%|█████████████████████████████████████████████████████████████████████████| 31/31 [03:58<00:00,  7.70s/it]\n",
      "player stats summary : done\n"
     ]
    },
    {
     "name": "stderr",
     "output_type": "stream",
     "text": [
      "C:\\Users\\lucas\\AppData\\Local\\Temp\\ipykernel_75360\\2573841616.py:13: DeprecationWarning: executable_path has been deprecated, please pass in a Service object\n",
      "  driver = webdriver.Chrome('./chromedriver')\n"
     ]
    },
    {
     "name": "stdout",
     "output_type": "stream",
     "text": [
      "page 31: 100%|█████████████████████████████████████████████████████████████████████████| 31/31 [04:02<00:00,  7.82s/it]\n",
      "player stats defensive : done\n"
     ]
    },
    {
     "name": "stderr",
     "output_type": "stream",
     "text": [
      "C:\\Users\\lucas\\AppData\\Local\\Temp\\ipykernel_75360\\2937695269.py:13: DeprecationWarning: executable_path has been deprecated, please pass in a Service object\n",
      "  driver = webdriver.Chrome('./chromedriver')\n"
     ]
    },
    {
     "name": "stdout",
     "output_type": "stream",
     "text": [
      "page 31: 100%|█████████████████████████████████████████████████████████████████████████| 31/31 [03:54<00:00,  7.57s/it]\n",
      "player stats offensive : done\n"
     ]
    },
    {
     "name": "stderr",
     "output_type": "stream",
     "text": [
      "C:\\Users\\lucas\\AppData\\Local\\Temp\\ipykernel_75360\\167999107.py:3: DeprecationWarning: executable_path has been deprecated, please pass in a Service object\n",
      "  driver = webdriver.Chrome('./chromedriver')\n"
     ]
    },
    {
     "name": "stdout",
     "output_type": "stream",
     "text": [
      "page 31: 100%|█████████████████████████████████████████████████████████████████████████| 31/31 [03:20<00:00,  6.47s/it]\n",
      "player stats passing : done\n",
      "player stats summary saved to LaLiga-Summary-2022-2023.csv\n",
      "player stats defensive saved to LaLiga-Defensive-2022-2023.csv\n",
      "player stats offensive saved to LaLiga-Offensive-2022-2023.csv\n",
      "player stats passing saved to LaLiga-Passing-2022-2023.csv\n"
     ]
    }
   ],
   "source": [
    "LIGA1920 = Download(URLLIGA1920, 'LaLiga','2019-2020')\n",
    "LIGA2021 = Download(URLLIGA2021, 'LaLiga','2019-2020')\n",
    "LIGA2122 = Download(URLLIGA2122, 'LaLiga', '2020-2021')\n",
    "LIGA2223 = Download(URLLIGA2223, 'LaLiga', '2022-2023')"
   ]
  },
  {
   "cell_type": "code",
   "execution_count": 67,
   "id": "9f404fb0",
   "metadata": {},
   "outputs": [],
   "source": [
    "import pandas as pd\n",
    "df = pd.read_csv('PremierLeague-Defensive-2019-2020.csv')"
   ]
  },
  {
   "cell_type": "code",
   "execution_count": 68,
   "id": "474aa786",
   "metadata": {},
   "outputs": [
    {
     "data": {
      "text/html": [
       "<div>\n",
       "<style scoped>\n",
       "    .dataframe tbody tr th:only-of-type {\n",
       "        vertical-align: middle;\n",
       "    }\n",
       "\n",
       "    .dataframe tbody tr th {\n",
       "        vertical-align: top;\n",
       "    }\n",
       "\n",
       "    .dataframe thead th {\n",
       "        text-align: right;\n",
       "    }\n",
       "</style>\n",
       "<table border=\"1\" class=\"dataframe\">\n",
       "  <thead>\n",
       "    <tr style=\"text-align: right;\">\n",
       "      <th></th>\n",
       "      <th>Name</th>\n",
       "      <th>Team</th>\n",
       "      <th>Age</th>\n",
       "      <th>Position</th>\n",
       "      <th>Apps</th>\n",
       "      <th>Minutes</th>\n",
       "      <th>Tackles per game</th>\n",
       "      <th>Interceptions per game</th>\n",
       "      <th>Fouls per game</th>\n",
       "      <th>Offsides per game</th>\n",
       "      <th>Clearances per game</th>\n",
       "      <th>Dribbled past per game</th>\n",
       "      <th>Outfield blocks per game</th>\n",
       "      <th>Own goals</th>\n",
       "      <th>Rating</th>\n",
       "    </tr>\n",
       "  </thead>\n",
       "  <tbody>\n",
       "    <tr>\n",
       "      <th>0</th>\n",
       "      <td>Harry Kane</td>\n",
       "      <td>Tottenham</td>\n",
       "      <td>29</td>\n",
       "      <td>AM(C),FW</td>\n",
       "      <td>35</td>\n",
       "      <td>3087</td>\n",
       "      <td>0.6</td>\n",
       "      <td>0.3</td>\n",
       "      <td>0.7</td>\n",
       "      <td>0.0</td>\n",
       "      <td>1.1</td>\n",
       "      <td>0.5</td>\n",
       "      <td>0.3</td>\n",
       "      <td>0</td>\n",
       "      <td>7.79</td>\n",
       "    </tr>\n",
       "    <tr>\n",
       "      <th>1</th>\n",
       "      <td>Kevin De Bruyne</td>\n",
       "      <td>Man City</td>\n",
       "      <td>31</td>\n",
       "      <td>M(CLR),FW</td>\n",
       "      <td>23(2)</td>\n",
       "      <td>2001</td>\n",
       "      <td>1.4</td>\n",
       "      <td>0.4</td>\n",
       "      <td>1.1</td>\n",
       "      <td>0.0</td>\n",
       "      <td>0.3</td>\n",
       "      <td>1.4</td>\n",
       "      <td>0.0</td>\n",
       "      <td>0</td>\n",
       "      <td>7.65</td>\n",
       "    </tr>\n",
       "    <tr>\n",
       "      <th>2</th>\n",
       "      <td>Jack Grealish</td>\n",
       "      <td>Aston Villa</td>\n",
       "      <td>27</td>\n",
       "      <td>AM(CL),FW</td>\n",
       "      <td>24(2)</td>\n",
       "      <td>2184</td>\n",
       "      <td>1.2</td>\n",
       "      <td>0.5</td>\n",
       "      <td>1.5</td>\n",
       "      <td>0.0</td>\n",
       "      <td>0.2</td>\n",
       "      <td>0.3</td>\n",
       "      <td>0.1</td>\n",
       "      <td>0</td>\n",
       "      <td>7.56</td>\n",
       "    </tr>\n",
       "    <tr>\n",
       "      <th>3</th>\n",
       "      <td>Bruno Fernandes</td>\n",
       "      <td>Man Utd</td>\n",
       "      <td>28</td>\n",
       "      <td>M(CLR)</td>\n",
       "      <td>35(2)</td>\n",
       "      <td>3110</td>\n",
       "      <td>1.5</td>\n",
       "      <td>0.7</td>\n",
       "      <td>1.2</td>\n",
       "      <td>0.0</td>\n",
       "      <td>0.7</td>\n",
       "      <td>2.0</td>\n",
       "      <td>0.0</td>\n",
       "      <td>0</td>\n",
       "      <td>7.43</td>\n",
       "    </tr>\n",
       "    <tr>\n",
       "      <th>4</th>\n",
       "      <td>Tomás Soucek</td>\n",
       "      <td>West Ham</td>\n",
       "      <td>28</td>\n",
       "      <td>DMC</td>\n",
       "      <td>38</td>\n",
       "      <td>3420</td>\n",
       "      <td>2.1</td>\n",
       "      <td>1.6</td>\n",
       "      <td>1.8</td>\n",
       "      <td>0.1</td>\n",
       "      <td>2.7</td>\n",
       "      <td>1.3</td>\n",
       "      <td>0.5</td>\n",
       "      <td>1</td>\n",
       "      <td>7.36</td>\n",
       "    </tr>\n",
       "  </tbody>\n",
       "</table>\n",
       "</div>"
      ],
      "text/plain": [
       "              Name         Team  Age      Position   Apps  Minutes  \\\n",
       "0       Harry Kane    Tottenham   29    AM(C),FW       35     3087   \n",
       "1  Kevin De Bruyne     Man City   31   M(CLR),FW    23(2)     2001   \n",
       "2    Jack Grealish  Aston Villa   27   AM(CL),FW    24(2)     2184   \n",
       "3  Bruno Fernandes      Man Utd   28      M(CLR)    35(2)     3110   \n",
       "4     Tomás Soucek     West Ham   28         DMC       38     3420   \n",
       "\n",
       "   Tackles per game  Interceptions per game  Fouls per game  \\\n",
       "0               0.6                     0.3             0.7   \n",
       "1               1.4                     0.4             1.1   \n",
       "2               1.2                     0.5             1.5   \n",
       "3               1.5                     0.7             1.2   \n",
       "4               2.1                     1.6             1.8   \n",
       "\n",
       "   Offsides per game  Clearances per game  Dribbled past per game  \\\n",
       "0                0.0                  1.1                     0.5   \n",
       "1                0.0                  0.3                     1.4   \n",
       "2                0.0                  0.2                     0.3   \n",
       "3                0.0                  0.7                     2.0   \n",
       "4                0.1                  2.7                     1.3   \n",
       "\n",
       "   Outfield blocks per game  Own goals  Rating  \n",
       "0                       0.3          0    7.79  \n",
       "1                       0.0          0    7.65  \n",
       "2                       0.1          0    7.56  \n",
       "3                       0.0          0    7.43  \n",
       "4                       0.5          1    7.36  "
      ]
     },
     "execution_count": 68,
     "metadata": {},
     "output_type": "execute_result"
    }
   ],
   "source": [
    "df.head()"
   ]
  }
 ],
 "metadata": {
  "kernelspec": {
   "display_name": "Python 3 (ipykernel)",
   "language": "python",
   "name": "python3"
  },
  "language_info": {
   "codemirror_mode": {
    "name": "ipython",
    "version": 3
   },
   "file_extension": ".py",
   "mimetype": "text/x-python",
   "name": "python",
   "nbconvert_exporter": "python",
   "pygments_lexer": "ipython3",
   "version": "3.9.13"
  }
 },
 "nbformat": 4,
 "nbformat_minor": 5
}
