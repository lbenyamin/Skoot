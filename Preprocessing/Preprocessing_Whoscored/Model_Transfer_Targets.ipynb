{
 "cells": [
  {
   "cell_type": "markdown",
   "id": "05668844",
   "metadata": {},
   "source": [
    "# Importation "
   ]
  },
  {
   "cell_type": "code",
   "execution_count": 1,
   "id": "ebf3d9bc",
   "metadata": {},
   "outputs": [],
   "source": [
    "import pandas as pd\n",
    "import numpy as np"
   ]
  },
  {
   "cell_type": "code",
   "execution_count": 2,
   "id": "b90a74ee",
   "metadata": {},
   "outputs": [],
   "source": [
    "#Merge all\n",
    "df_merged = pd.read_csv('Merged_players_Whoscore.csv')"
   ]
  },
  {
   "cell_type": "code",
   "execution_count": null,
   "id": "e951622f",
   "metadata": {},
   "outputs": [],
   "source": [
    "#Load forecasted rating dataset\n",
    "forecastedPlayerDataframe = pd.read_csv(\"Forecasted_Ratings_2023-2025.csv\") "
   ]
  },
  {
   "cell_type": "code",
   "execution_count": null,
   "id": "242b48d8",
   "metadata": {},
   "outputs": [],
   "source": [
    "def get_player_df(name):\n",
    "    player_df  = combinedPlayerDataframe.loc[(combinedPlayerDataframe.Name == name) & (combinedPlayerDataframe.Season == 2018)]\n",
    "    return player_df"
   ]
  },
  {
   "cell_type": "code",
   "execution_count": null,
   "id": "175ec782",
   "metadata": {},
   "outputs": [],
   "source": [
    "def get_current_squad_df(team):\n",
    "    squad_df = combined_player_data_frame.loc[(combined_player_data_frame.Team == team) & (combined_player_data_frame.Season == 2018)]\n",
    "    return squad_df"
   ]
  },
  {
   "cell_type": "code",
   "execution_count": null,
   "id": "3d60f940",
   "metadata": {},
   "outputs": [],
   "source": [
    "#Creating a seperate DF for players who are between the age of 23-28 in 2018\n",
    "\n",
    "youngPlayers2018Df = forecastedPlayerDataframe.loc[(forecastedPlayerDataframe.Season == 2022) \n",
    "                                                   & ((forecastedPlayerDataframe.Age > 22) \n",
    "                                                       & (forecastedPlayerDataframe.Age < 29))]"
   ]
  },
  {
   "cell_type": "code",
   "execution_count": null,
   "id": "9f82b25e",
   "metadata": {},
   "outputs": [],
   "source": [
    "#Storing the names of the young players on to list\n",
    "\n",
    "youngPlayerNames = youngPlayers2022Df.Name.tolist()"
   ]
  },
  {
   "cell_type": "code",
   "execution_count": null,
   "id": "0a97fbf8",
   "metadata": {},
   "outputs": [],
   "source": [
    "#Creating a seperate dictionary entry for every player\n",
    "#Creating a new row of data for every player with the mean of all their stats\n",
    "#Rating has been replaced by the forecasted rating average\n",
    "\n",
    "young_players_ = {}\n",
    "\n",
    "for name in youngPlayerNames:\n",
    "    playerMeanRating = forecastedPlayerDataframe.loc[(forecastedPlayerDataframe.Name == name)]['Rating'].mean()\n",
    "    playerDf = combinedPlayerDataframe.loc[(combinedPlayerDataframe.Name == name)]\n",
    "    playerDf = playerDf.sort_values(by='Age', ascending=True)\n",
    "    playerDf.loc['average'] =  playerDf.mean()\n",
    "    playerDf.loc['average', 'Name'] = name\n",
    "    playerDf.loc['average', 'Team'] = playerDf['Team'][playerDf.index[-2]]\n",
    "    playerDf.loc['average', 'Position'] = playerDf['Position'][playerDf.index[-2]]\n",
    "    playerDf.loc['average', 'League'] = playerDf['League'][playerDf.index[-2]]\n",
    "    playerDf.loc['average', 'Rating'] = playerMeanRating\n",
    "    playerDf = playerDf.iloc[-1:]\n",
    "    young_players_[name] = playerDf"
   ]
  },
  {
   "cell_type": "code",
   "execution_count": null,
   "id": "129b17f1",
   "metadata": {},
   "outputs": [],
   "source": [
    "young_players_['Leroy Sané']"
   ]
  },
  {
   "cell_type": "markdown",
   "id": "14990ea2",
   "metadata": {},
   "source": [
    "# Predict remplacement for older players"
   ]
  },
  {
   "cell_type": "code",
   "execution_count": null,
   "id": "95aec34f",
   "metadata": {},
   "outputs": [],
   "source": [
    "#Choose club\n",
    "\n",
    "club_name = 'Real Madrid'"
   ]
  },
  {
   "cell_type": "code",
   "execution_count": null,
   "id": "3f86a890",
   "metadata": {},
   "outputs": [],
   "source": [
    "#Creating a sperate DF for older players\n",
    "\n",
    "olderPlayersDf = combinedPlayerDataframe.loc[(combinedPlayerDataframe.Team == club_name) \n",
    "                                            & (combinedPlayerDataframe.Season == 2022) \n",
    "                                            & (combinedPlayerDataframe.Age > 30)]"
   ]
  },
  {
   "cell_type": "code",
   "execution_count": null,
   "id": "273be618",
   "metadata": {},
   "outputs": [],
   "source": [
    "#Creating a seperate dictionary to store the average stat data of the best years (24-29) of the older players\n",
    "\n",
    "older_players_ = {}\n",
    "\n",
    "for index, row in olderPlayersDf.iterrows():\n",
    "    \n",
    "    currentDf = combinedPlayerDataframe.loc[(combinedPlayerDataframe.Name == row['Name']) \n",
    "                                            & (combinedPlayerDataframe.Age > 23)  \n",
    "                                            & (combinedPlayerDataframe.Age < 29)]\n",
    "    currentDf = currentDf.sort_values(by='Age', ascending=True)\n",
    "    currentDf.loc['average'] =  currentDf.mean()\n",
    "    currentDf.loc['average', 'Name'] = row['Name']\n",
    "    currentDf.loc['average', 'Team'] = currentDf['Team'][currentDf.index[-2]]\n",
    "    currentDf.loc['average', 'Position'] = currentDf['Position'][currentDf.index[-2]]\n",
    "    currentDf.loc['average', 'League'] = currentDf['League'][currentDf.index[-2]]\n",
    "    currentDf = currentDf.iloc[-1:]\n",
    "    older_players_[row['Name']] = currentDf"
   ]
  },
  {
   "cell_type": "code",
   "execution_count": null,
   "id": "98818899",
   "metadata": {},
   "outputs": [],
   "source": [
    "#Recommending young replacements within the age of (23-28)\n",
    "\n",
    "li = []\n",
    "\n",
    "old_player_ = {}\n",
    "\n",
    "for name in older_players_:\n",
    "    position = older_players_[name].Position.tolist()[0]\n",
    "    li.append(older_players_[name])\n",
    "    youngDf = postionYoungPlayers_[position]\n",
    "    youngDf = youngDf[youngDf.Team != club_name]\n",
    "    li.append(youngDf)\n",
    "    \n",
    "    combinedDf = pd.concat(li)\n",
    "    \n",
    "    stats = combinedDf.copy(deep=True)\n",
    "    stats.drop(['Name', 'Team', 'League', 'Position'], axis=1, inplace=True)\n",
    "    \n",
    "    stats_with_name = stats\n",
    "    stats = stats.dropna()\n",
    "    stats_with_name = stats_with_name.dropna()\n",
    "    stats_with_name[\"Name\"] = combinedDf[\"Name\"]\n",
    "    \n",
    "    stats_with_name = stats_with_name.reset_index(drop=True)\n",
    "    \n",
    "    from sklearn.preprocessing import StandardScaler\n",
    "    from sklearn.neighbors import NearestNeighbors\n",
    "    from sklearn.exceptions import DataConversionWarning\n",
    "\n",
    "    import warnings\n",
    "    warnings.filterwarnings(action=\"ignore\",category=DataConversionWarning)\n",
    "    \n",
    "    scaler = StandardScaler()\n",
    "    \n",
    "    X = scaler.fit_transform(stats)\n",
    "    \n",
    "    #Limiting the number of similar profiles(clusters) to be found to 3. (4 in total with the current player being one)\n",
    "    knn = NearestNeighbors(n_neighbors=4, algorithm='ball_tree').fit(X)\n",
    "\n",
    "    player_indexes = knn.kneighbors(X)[1]\n",
    "    \n",
    "    print(\"\")\n",
    "    print(\"Older Player: \" + name)\n",
    "    \n",
    "    old_player_[name] = get_player_df(name)\n",
    "    \n",
    "    index = stats_with_name[stats_with_name[\"Name\"]==name].index.tolist()[0]\n",
    "    count = 1\n",
    "    for i in player_indexes[index][1:]:\n",
    "            print('Option ' + str(count) + ': ' + stats_with_name.iloc[i][\"Name\"])\n",
    "            \n",
    "            old_player_[name] = old_player_[name].append(get_player_df(stats_with_name.iloc[i][\"Name\"]))\n",
    "            \n",
    "            count += 1\n",
    "\n",
    "    \n",
    "    li=[]\n",
    "# print(old_player_['Luka Modric'])"
   ]
  },
  {
   "cell_type": "code",
   "execution_count": null,
   "id": "c65a7907",
   "metadata": {},
   "outputs": [],
   "source": [
    "def age_modification(df_list):\n",
    "    for df in df_list:\n",
    "        for index, row in df.iterrows():\n",
    "            birth_year = 2023 - int(row[\"Age\"])\n",
    "            age = int(row[\"Saison\"]) - birth_year\n",
    "            df.at[index, 'Age'] = age\n",
    "    return df_list"
   ]
  },
  {
   "cell_type": "code",
   "execution_count": null,
   "id": "38bd4bb1",
   "metadata": {},
   "outputs": [],
   "source": [
    "age_modification(df_list)"
   ]
  }
 ],
 "metadata": {
  "kernelspec": {
   "display_name": "Python 3 (ipykernel)",
   "language": "python",
   "name": "python3"
  },
  "language_info": {
   "codemirror_mode": {
    "name": "ipython",
    "version": 3
   },
   "file_extension": ".py",
   "mimetype": "text/x-python",
   "name": "python",
   "nbconvert_exporter": "python",
   "pygments_lexer": "ipython3",
   "version": "3.9.13"
  }
 },
 "nbformat": 4,
 "nbformat_minor": 5
}
